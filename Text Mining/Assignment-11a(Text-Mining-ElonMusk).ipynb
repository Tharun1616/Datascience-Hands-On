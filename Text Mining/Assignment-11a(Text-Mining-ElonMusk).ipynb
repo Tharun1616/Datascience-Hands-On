{
 "cells": [
  {
   "cell_type": "markdown",
   "id": "da7d94b5",
   "metadata": {},
   "source": [
    "# Assignment"
   ]
  },
  {
   "cell_type": "markdown",
   "id": "d0ad9e1b",
   "metadata": {},
   "source": [
    "Perform sentimental analysis on the Elon-musk tweets"
   ]
  },
  {
   "cell_type": "code",
   "execution_count": 1,
   "id": "66dc3303",
   "metadata": {
    "ExecuteTime": {
     "end_time": "2023-01-09T17:03:10.583299Z",
     "start_time": "2023-01-09T17:02:40.516272Z"
    }
   },
   "outputs": [
    {
     "ename": "KeyboardInterrupt",
     "evalue": "",
     "output_type": "error",
     "traceback": [
      "\u001b[0;31m---------------------------------------------------------------------------\u001b[0m",
      "\u001b[0;31mKeyboardInterrupt\u001b[0m                         Traceback (most recent call last)",
      "Cell \u001b[0;32mIn [1], line 2\u001b[0m\n\u001b[1;32m      1\u001b[0m \u001b[38;5;28;01mimport\u001b[39;00m \u001b[38;5;21;01mnltk\u001b[39;00m\n\u001b[0;32m----> 2\u001b[0m \u001b[43mnltk\u001b[49m\u001b[38;5;241;43m.\u001b[39;49m\u001b[43mdownload\u001b[49m\u001b[43m(\u001b[49m\u001b[38;5;124;43m'\u001b[39;49m\u001b[38;5;124;43mall\u001b[39;49m\u001b[38;5;124;43m'\u001b[39;49m\u001b[43m)\u001b[49m\n",
      "File \u001b[0;32m~/opt/anaconda3/lib/python3.9/site-packages/nltk/downloader.py:777\u001b[0m, in \u001b[0;36mDownloader.download\u001b[0;34m(self, info_or_id, download_dir, quiet, force, prefix, halt_on_error, raise_on_error, print_error_to)\u001b[0m\n\u001b[1;32m    768\u001b[0m \u001b[38;5;28;01mdef\u001b[39;00m \u001b[38;5;21mshow\u001b[39m(s, prefix2\u001b[38;5;241m=\u001b[39m\u001b[38;5;124m\"\u001b[39m\u001b[38;5;124m\"\u001b[39m):\n\u001b[1;32m    769\u001b[0m     print_to(\n\u001b[1;32m    770\u001b[0m         textwrap\u001b[38;5;241m.\u001b[39mfill(\n\u001b[1;32m    771\u001b[0m             s,\n\u001b[0;32m   (...)\u001b[0m\n\u001b[1;32m    774\u001b[0m         )\n\u001b[1;32m    775\u001b[0m     )\n\u001b[0;32m--> 777\u001b[0m \u001b[38;5;28;01mfor\u001b[39;00m msg \u001b[38;5;129;01min\u001b[39;00m \u001b[38;5;28mself\u001b[39m\u001b[38;5;241m.\u001b[39mincr_download(info_or_id, download_dir, force):\n\u001b[1;32m    778\u001b[0m     \u001b[38;5;66;03m# Error messages\u001b[39;00m\n\u001b[1;32m    779\u001b[0m     \u001b[38;5;28;01mif\u001b[39;00m \u001b[38;5;28misinstance\u001b[39m(msg, ErrorMessage):\n\u001b[1;32m    780\u001b[0m         show(msg\u001b[38;5;241m.\u001b[39mmessage)\n",
      "File \u001b[0;32m~/opt/anaconda3/lib/python3.9/site-packages/nltk/downloader.py:629\u001b[0m, in \u001b[0;36mDownloader.incr_download\u001b[0;34m(self, info_or_id, download_dir, force)\u001b[0m\n\u001b[1;32m    627\u001b[0m \u001b[38;5;66;03m# Look up the requested collection or package.\u001b[39;00m\n\u001b[1;32m    628\u001b[0m \u001b[38;5;28;01mtry\u001b[39;00m:\n\u001b[0;32m--> 629\u001b[0m     info \u001b[38;5;241m=\u001b[39m \u001b[38;5;28;43mself\u001b[39;49m\u001b[38;5;241;43m.\u001b[39;49m\u001b[43m_info_or_id\u001b[49m\u001b[43m(\u001b[49m\u001b[43minfo_or_id\u001b[49m\u001b[43m)\u001b[49m\n\u001b[1;32m    630\u001b[0m \u001b[38;5;28;01mexcept\u001b[39;00m (\u001b[38;5;167;01mOSError\u001b[39;00m, \u001b[38;5;167;01mValueError\u001b[39;00m) \u001b[38;5;28;01mas\u001b[39;00m e:\n\u001b[1;32m    631\u001b[0m     \u001b[38;5;28;01myield\u001b[39;00m ErrorMessage(\u001b[38;5;28;01mNone\u001b[39;00m, \u001b[38;5;124mf\u001b[39m\u001b[38;5;124m\"\u001b[39m\u001b[38;5;124mError loading \u001b[39m\u001b[38;5;132;01m{\u001b[39;00minfo_or_id\u001b[38;5;132;01m}\u001b[39;00m\u001b[38;5;124m: \u001b[39m\u001b[38;5;132;01m{\u001b[39;00me\u001b[38;5;132;01m}\u001b[39;00m\u001b[38;5;124m\"\u001b[39m)\n",
      "File \u001b[0;32m~/opt/anaconda3/lib/python3.9/site-packages/nltk/downloader.py:603\u001b[0m, in \u001b[0;36mDownloader._info_or_id\u001b[0;34m(self, info_or_id)\u001b[0m\n\u001b[1;32m    601\u001b[0m \u001b[38;5;28;01mdef\u001b[39;00m \u001b[38;5;21m_info_or_id\u001b[39m(\u001b[38;5;28mself\u001b[39m, info_or_id):\n\u001b[1;32m    602\u001b[0m     \u001b[38;5;28;01mif\u001b[39;00m \u001b[38;5;28misinstance\u001b[39m(info_or_id, \u001b[38;5;28mstr\u001b[39m):\n\u001b[0;32m--> 603\u001b[0m         \u001b[38;5;28;01mreturn\u001b[39;00m \u001b[38;5;28;43mself\u001b[39;49m\u001b[38;5;241;43m.\u001b[39;49m\u001b[43minfo\u001b[49m\u001b[43m(\u001b[49m\u001b[43minfo_or_id\u001b[49m\u001b[43m)\u001b[49m\n\u001b[1;32m    604\u001b[0m     \u001b[38;5;28;01melse\u001b[39;00m:\n\u001b[1;32m    605\u001b[0m         \u001b[38;5;28;01mreturn\u001b[39;00m info_or_id\n",
      "File \u001b[0;32m~/opt/anaconda3/lib/python3.9/site-packages/nltk/downloader.py:1009\u001b[0m, in \u001b[0;36mDownloader.info\u001b[0;34m(self, id)\u001b[0m\n\u001b[1;32m   1006\u001b[0m \u001b[38;5;28;01mdef\u001b[39;00m \u001b[38;5;21minfo\u001b[39m(\u001b[38;5;28mself\u001b[39m, \u001b[38;5;28mid\u001b[39m):\n\u001b[1;32m   1007\u001b[0m     \u001b[38;5;124;03m\"\"\"Return the ``Package`` or ``Collection`` record for the\u001b[39;00m\n\u001b[1;32m   1008\u001b[0m \u001b[38;5;124;03m    given item.\"\"\"\u001b[39;00m\n\u001b[0;32m-> 1009\u001b[0m     \u001b[38;5;28;43mself\u001b[39;49m\u001b[38;5;241;43m.\u001b[39;49m\u001b[43m_update_index\u001b[49m\u001b[43m(\u001b[49m\u001b[43m)\u001b[49m\n\u001b[1;32m   1010\u001b[0m     \u001b[38;5;28;01mif\u001b[39;00m \u001b[38;5;28mid\u001b[39m \u001b[38;5;129;01min\u001b[39;00m \u001b[38;5;28mself\u001b[39m\u001b[38;5;241m.\u001b[39m_packages:\n\u001b[1;32m   1011\u001b[0m         \u001b[38;5;28;01mreturn\u001b[39;00m \u001b[38;5;28mself\u001b[39m\u001b[38;5;241m.\u001b[39m_packages[\u001b[38;5;28mid\u001b[39m]\n",
      "File \u001b[0;32m~/opt/anaconda3/lib/python3.9/site-packages/nltk/downloader.py:952\u001b[0m, in \u001b[0;36mDownloader._update_index\u001b[0;34m(self, url)\u001b[0m\n\u001b[1;32m    948\u001b[0m \u001b[38;5;28mself\u001b[39m\u001b[38;5;241m.\u001b[39m_url \u001b[38;5;241m=\u001b[39m url \u001b[38;5;129;01mor\u001b[39;00m \u001b[38;5;28mself\u001b[39m\u001b[38;5;241m.\u001b[39m_url\n\u001b[1;32m    950\u001b[0m \u001b[38;5;66;03m# Download the index file.\u001b[39;00m\n\u001b[1;32m    951\u001b[0m \u001b[38;5;28mself\u001b[39m\u001b[38;5;241m.\u001b[39m_index \u001b[38;5;241m=\u001b[39m nltk\u001b[38;5;241m.\u001b[39minternals\u001b[38;5;241m.\u001b[39mElementWrapper(\n\u001b[0;32m--> 952\u001b[0m     ElementTree\u001b[38;5;241m.\u001b[39mparse(\u001b[43murlopen\u001b[49m\u001b[43m(\u001b[49m\u001b[38;5;28;43mself\u001b[39;49m\u001b[38;5;241;43m.\u001b[39;49m\u001b[43m_url\u001b[49m\u001b[43m)\u001b[49m)\u001b[38;5;241m.\u001b[39mgetroot()\n\u001b[1;32m    953\u001b[0m )\n\u001b[1;32m    954\u001b[0m \u001b[38;5;28mself\u001b[39m\u001b[38;5;241m.\u001b[39m_index_timestamp \u001b[38;5;241m=\u001b[39m time\u001b[38;5;241m.\u001b[39mtime()\n\u001b[1;32m    956\u001b[0m \u001b[38;5;66;03m# Build a dictionary of packages.\u001b[39;00m\n",
      "File \u001b[0;32m~/opt/anaconda3/lib/python3.9/urllib/request.py:214\u001b[0m, in \u001b[0;36murlopen\u001b[0;34m(url, data, timeout, cafile, capath, cadefault, context)\u001b[0m\n\u001b[1;32m    212\u001b[0m \u001b[38;5;28;01melse\u001b[39;00m:\n\u001b[1;32m    213\u001b[0m     opener \u001b[38;5;241m=\u001b[39m _opener\n\u001b[0;32m--> 214\u001b[0m \u001b[38;5;28;01mreturn\u001b[39;00m \u001b[43mopener\u001b[49m\u001b[38;5;241;43m.\u001b[39;49m\u001b[43mopen\u001b[49m\u001b[43m(\u001b[49m\u001b[43murl\u001b[49m\u001b[43m,\u001b[49m\u001b[43m \u001b[49m\u001b[43mdata\u001b[49m\u001b[43m,\u001b[49m\u001b[43m \u001b[49m\u001b[43mtimeout\u001b[49m\u001b[43m)\u001b[49m\n",
      "File \u001b[0;32m~/opt/anaconda3/lib/python3.9/urllib/request.py:517\u001b[0m, in \u001b[0;36mOpenerDirector.open\u001b[0;34m(self, fullurl, data, timeout)\u001b[0m\n\u001b[1;32m    514\u001b[0m     req \u001b[38;5;241m=\u001b[39m meth(req)\n\u001b[1;32m    516\u001b[0m sys\u001b[38;5;241m.\u001b[39maudit(\u001b[38;5;124m'\u001b[39m\u001b[38;5;124murllib.Request\u001b[39m\u001b[38;5;124m'\u001b[39m, req\u001b[38;5;241m.\u001b[39mfull_url, req\u001b[38;5;241m.\u001b[39mdata, req\u001b[38;5;241m.\u001b[39mheaders, req\u001b[38;5;241m.\u001b[39mget_method())\n\u001b[0;32m--> 517\u001b[0m response \u001b[38;5;241m=\u001b[39m \u001b[38;5;28;43mself\u001b[39;49m\u001b[38;5;241;43m.\u001b[39;49m\u001b[43m_open\u001b[49m\u001b[43m(\u001b[49m\u001b[43mreq\u001b[49m\u001b[43m,\u001b[49m\u001b[43m \u001b[49m\u001b[43mdata\u001b[49m\u001b[43m)\u001b[49m\n\u001b[1;32m    519\u001b[0m \u001b[38;5;66;03m# post-process response\u001b[39;00m\n\u001b[1;32m    520\u001b[0m meth_name \u001b[38;5;241m=\u001b[39m protocol\u001b[38;5;241m+\u001b[39m\u001b[38;5;124m\"\u001b[39m\u001b[38;5;124m_response\u001b[39m\u001b[38;5;124m\"\u001b[39m\n",
      "File \u001b[0;32m~/opt/anaconda3/lib/python3.9/urllib/request.py:534\u001b[0m, in \u001b[0;36mOpenerDirector._open\u001b[0;34m(self, req, data)\u001b[0m\n\u001b[1;32m    531\u001b[0m     \u001b[38;5;28;01mreturn\u001b[39;00m result\n\u001b[1;32m    533\u001b[0m protocol \u001b[38;5;241m=\u001b[39m req\u001b[38;5;241m.\u001b[39mtype\n\u001b[0;32m--> 534\u001b[0m result \u001b[38;5;241m=\u001b[39m \u001b[38;5;28;43mself\u001b[39;49m\u001b[38;5;241;43m.\u001b[39;49m\u001b[43m_call_chain\u001b[49m\u001b[43m(\u001b[49m\u001b[38;5;28;43mself\u001b[39;49m\u001b[38;5;241;43m.\u001b[39;49m\u001b[43mhandle_open\u001b[49m\u001b[43m,\u001b[49m\u001b[43m \u001b[49m\u001b[43mprotocol\u001b[49m\u001b[43m,\u001b[49m\u001b[43m \u001b[49m\u001b[43mprotocol\u001b[49m\u001b[43m \u001b[49m\u001b[38;5;241;43m+\u001b[39;49m\n\u001b[1;32m    535\u001b[0m \u001b[43m                          \u001b[49m\u001b[38;5;124;43m'\u001b[39;49m\u001b[38;5;124;43m_open\u001b[39;49m\u001b[38;5;124;43m'\u001b[39;49m\u001b[43m,\u001b[49m\u001b[43m \u001b[49m\u001b[43mreq\u001b[49m\u001b[43m)\u001b[49m\n\u001b[1;32m    536\u001b[0m \u001b[38;5;28;01mif\u001b[39;00m result:\n\u001b[1;32m    537\u001b[0m     \u001b[38;5;28;01mreturn\u001b[39;00m result\n",
      "File \u001b[0;32m~/opt/anaconda3/lib/python3.9/urllib/request.py:494\u001b[0m, in \u001b[0;36mOpenerDirector._call_chain\u001b[0;34m(self, chain, kind, meth_name, *args)\u001b[0m\n\u001b[1;32m    492\u001b[0m \u001b[38;5;28;01mfor\u001b[39;00m handler \u001b[38;5;129;01min\u001b[39;00m handlers:\n\u001b[1;32m    493\u001b[0m     func \u001b[38;5;241m=\u001b[39m \u001b[38;5;28mgetattr\u001b[39m(handler, meth_name)\n\u001b[0;32m--> 494\u001b[0m     result \u001b[38;5;241m=\u001b[39m \u001b[43mfunc\u001b[49m\u001b[43m(\u001b[49m\u001b[38;5;241;43m*\u001b[39;49m\u001b[43margs\u001b[49m\u001b[43m)\u001b[49m\n\u001b[1;32m    495\u001b[0m     \u001b[38;5;28;01mif\u001b[39;00m result \u001b[38;5;129;01mis\u001b[39;00m \u001b[38;5;129;01mnot\u001b[39;00m \u001b[38;5;28;01mNone\u001b[39;00m:\n\u001b[1;32m    496\u001b[0m         \u001b[38;5;28;01mreturn\u001b[39;00m result\n",
      "File \u001b[0;32m~/opt/anaconda3/lib/python3.9/urllib/request.py:1389\u001b[0m, in \u001b[0;36mHTTPSHandler.https_open\u001b[0;34m(self, req)\u001b[0m\n\u001b[1;32m   1388\u001b[0m \u001b[38;5;28;01mdef\u001b[39;00m \u001b[38;5;21mhttps_open\u001b[39m(\u001b[38;5;28mself\u001b[39m, req):\n\u001b[0;32m-> 1389\u001b[0m     \u001b[38;5;28;01mreturn\u001b[39;00m \u001b[38;5;28;43mself\u001b[39;49m\u001b[38;5;241;43m.\u001b[39;49m\u001b[43mdo_open\u001b[49m\u001b[43m(\u001b[49m\u001b[43mhttp\u001b[49m\u001b[38;5;241;43m.\u001b[39;49m\u001b[43mclient\u001b[49m\u001b[38;5;241;43m.\u001b[39;49m\u001b[43mHTTPSConnection\u001b[49m\u001b[43m,\u001b[49m\u001b[43m \u001b[49m\u001b[43mreq\u001b[49m\u001b[43m,\u001b[49m\n\u001b[1;32m   1390\u001b[0m \u001b[43m        \u001b[49m\u001b[43mcontext\u001b[49m\u001b[38;5;241;43m=\u001b[39;49m\u001b[38;5;28;43mself\u001b[39;49m\u001b[38;5;241;43m.\u001b[39;49m\u001b[43m_context\u001b[49m\u001b[43m,\u001b[49m\u001b[43m \u001b[49m\u001b[43mcheck_hostname\u001b[49m\u001b[38;5;241;43m=\u001b[39;49m\u001b[38;5;28;43mself\u001b[39;49m\u001b[38;5;241;43m.\u001b[39;49m\u001b[43m_check_hostname\u001b[49m\u001b[43m)\u001b[49m\n",
      "File \u001b[0;32m~/opt/anaconda3/lib/python3.9/urllib/request.py:1346\u001b[0m, in \u001b[0;36mAbstractHTTPHandler.do_open\u001b[0;34m(self, http_class, req, **http_conn_args)\u001b[0m\n\u001b[1;32m   1344\u001b[0m \u001b[38;5;28;01mtry\u001b[39;00m:\n\u001b[1;32m   1345\u001b[0m     \u001b[38;5;28;01mtry\u001b[39;00m:\n\u001b[0;32m-> 1346\u001b[0m         \u001b[43mh\u001b[49m\u001b[38;5;241;43m.\u001b[39;49m\u001b[43mrequest\u001b[49m\u001b[43m(\u001b[49m\u001b[43mreq\u001b[49m\u001b[38;5;241;43m.\u001b[39;49m\u001b[43mget_method\u001b[49m\u001b[43m(\u001b[49m\u001b[43m)\u001b[49m\u001b[43m,\u001b[49m\u001b[43m \u001b[49m\u001b[43mreq\u001b[49m\u001b[38;5;241;43m.\u001b[39;49m\u001b[43mselector\u001b[49m\u001b[43m,\u001b[49m\u001b[43m \u001b[49m\u001b[43mreq\u001b[49m\u001b[38;5;241;43m.\u001b[39;49m\u001b[43mdata\u001b[49m\u001b[43m,\u001b[49m\u001b[43m \u001b[49m\u001b[43mheaders\u001b[49m\u001b[43m,\u001b[49m\n\u001b[1;32m   1347\u001b[0m \u001b[43m                  \u001b[49m\u001b[43mencode_chunked\u001b[49m\u001b[38;5;241;43m=\u001b[39;49m\u001b[43mreq\u001b[49m\u001b[38;5;241;43m.\u001b[39;49m\u001b[43mhas_header\u001b[49m\u001b[43m(\u001b[49m\u001b[38;5;124;43m'\u001b[39;49m\u001b[38;5;124;43mTransfer-encoding\u001b[39;49m\u001b[38;5;124;43m'\u001b[39;49m\u001b[43m)\u001b[49m\u001b[43m)\u001b[49m\n\u001b[1;32m   1348\u001b[0m     \u001b[38;5;28;01mexcept\u001b[39;00m \u001b[38;5;167;01mOSError\u001b[39;00m \u001b[38;5;28;01mas\u001b[39;00m err: \u001b[38;5;66;03m# timeout error\u001b[39;00m\n\u001b[1;32m   1349\u001b[0m         \u001b[38;5;28;01mraise\u001b[39;00m URLError(err)\n",
      "File \u001b[0;32m~/opt/anaconda3/lib/python3.9/http/client.py:1285\u001b[0m, in \u001b[0;36mHTTPConnection.request\u001b[0;34m(self, method, url, body, headers, encode_chunked)\u001b[0m\n\u001b[1;32m   1282\u001b[0m \u001b[38;5;28;01mdef\u001b[39;00m \u001b[38;5;21mrequest\u001b[39m(\u001b[38;5;28mself\u001b[39m, method, url, body\u001b[38;5;241m=\u001b[39m\u001b[38;5;28;01mNone\u001b[39;00m, headers\u001b[38;5;241m=\u001b[39m{}, \u001b[38;5;241m*\u001b[39m,\n\u001b[1;32m   1283\u001b[0m             encode_chunked\u001b[38;5;241m=\u001b[39m\u001b[38;5;28;01mFalse\u001b[39;00m):\n\u001b[1;32m   1284\u001b[0m     \u001b[38;5;124;03m\"\"\"Send a complete request to the server.\"\"\"\u001b[39;00m\n\u001b[0;32m-> 1285\u001b[0m     \u001b[38;5;28;43mself\u001b[39;49m\u001b[38;5;241;43m.\u001b[39;49m\u001b[43m_send_request\u001b[49m\u001b[43m(\u001b[49m\u001b[43mmethod\u001b[49m\u001b[43m,\u001b[49m\u001b[43m \u001b[49m\u001b[43murl\u001b[49m\u001b[43m,\u001b[49m\u001b[43m \u001b[49m\u001b[43mbody\u001b[49m\u001b[43m,\u001b[49m\u001b[43m \u001b[49m\u001b[43mheaders\u001b[49m\u001b[43m,\u001b[49m\u001b[43m \u001b[49m\u001b[43mencode_chunked\u001b[49m\u001b[43m)\u001b[49m\n",
      "File \u001b[0;32m~/opt/anaconda3/lib/python3.9/http/client.py:1331\u001b[0m, in \u001b[0;36mHTTPConnection._send_request\u001b[0;34m(self, method, url, body, headers, encode_chunked)\u001b[0m\n\u001b[1;32m   1327\u001b[0m \u001b[38;5;28;01mif\u001b[39;00m \u001b[38;5;28misinstance\u001b[39m(body, \u001b[38;5;28mstr\u001b[39m):\n\u001b[1;32m   1328\u001b[0m     \u001b[38;5;66;03m# RFC 2616 Section 3.7.1 says that text default has a\u001b[39;00m\n\u001b[1;32m   1329\u001b[0m     \u001b[38;5;66;03m# default charset of iso-8859-1.\u001b[39;00m\n\u001b[1;32m   1330\u001b[0m     body \u001b[38;5;241m=\u001b[39m _encode(body, \u001b[38;5;124m'\u001b[39m\u001b[38;5;124mbody\u001b[39m\u001b[38;5;124m'\u001b[39m)\n\u001b[0;32m-> 1331\u001b[0m \u001b[38;5;28;43mself\u001b[39;49m\u001b[38;5;241;43m.\u001b[39;49m\u001b[43mendheaders\u001b[49m\u001b[43m(\u001b[49m\u001b[43mbody\u001b[49m\u001b[43m,\u001b[49m\u001b[43m \u001b[49m\u001b[43mencode_chunked\u001b[49m\u001b[38;5;241;43m=\u001b[39;49m\u001b[43mencode_chunked\u001b[49m\u001b[43m)\u001b[49m\n",
      "File \u001b[0;32m~/opt/anaconda3/lib/python3.9/http/client.py:1280\u001b[0m, in \u001b[0;36mHTTPConnection.endheaders\u001b[0;34m(self, message_body, encode_chunked)\u001b[0m\n\u001b[1;32m   1278\u001b[0m \u001b[38;5;28;01melse\u001b[39;00m:\n\u001b[1;32m   1279\u001b[0m     \u001b[38;5;28;01mraise\u001b[39;00m CannotSendHeader()\n\u001b[0;32m-> 1280\u001b[0m \u001b[38;5;28;43mself\u001b[39;49m\u001b[38;5;241;43m.\u001b[39;49m\u001b[43m_send_output\u001b[49m\u001b[43m(\u001b[49m\u001b[43mmessage_body\u001b[49m\u001b[43m,\u001b[49m\u001b[43m \u001b[49m\u001b[43mencode_chunked\u001b[49m\u001b[38;5;241;43m=\u001b[39;49m\u001b[43mencode_chunked\u001b[49m\u001b[43m)\u001b[49m\n",
      "File \u001b[0;32m~/opt/anaconda3/lib/python3.9/http/client.py:1040\u001b[0m, in \u001b[0;36mHTTPConnection._send_output\u001b[0;34m(self, message_body, encode_chunked)\u001b[0m\n\u001b[1;32m   1038\u001b[0m msg \u001b[38;5;241m=\u001b[39m \u001b[38;5;124mb\u001b[39m\u001b[38;5;124m\"\u001b[39m\u001b[38;5;130;01m\\r\u001b[39;00m\u001b[38;5;130;01m\\n\u001b[39;00m\u001b[38;5;124m\"\u001b[39m\u001b[38;5;241m.\u001b[39mjoin(\u001b[38;5;28mself\u001b[39m\u001b[38;5;241m.\u001b[39m_buffer)\n\u001b[1;32m   1039\u001b[0m \u001b[38;5;28;01mdel\u001b[39;00m \u001b[38;5;28mself\u001b[39m\u001b[38;5;241m.\u001b[39m_buffer[:]\n\u001b[0;32m-> 1040\u001b[0m \u001b[38;5;28;43mself\u001b[39;49m\u001b[38;5;241;43m.\u001b[39;49m\u001b[43msend\u001b[49m\u001b[43m(\u001b[49m\u001b[43mmsg\u001b[49m\u001b[43m)\u001b[49m\n\u001b[1;32m   1042\u001b[0m \u001b[38;5;28;01mif\u001b[39;00m message_body \u001b[38;5;129;01mis\u001b[39;00m \u001b[38;5;129;01mnot\u001b[39;00m \u001b[38;5;28;01mNone\u001b[39;00m:\n\u001b[1;32m   1043\u001b[0m \n\u001b[1;32m   1044\u001b[0m     \u001b[38;5;66;03m# create a consistent interface to message_body\u001b[39;00m\n\u001b[1;32m   1045\u001b[0m     \u001b[38;5;28;01mif\u001b[39;00m \u001b[38;5;28mhasattr\u001b[39m(message_body, \u001b[38;5;124m'\u001b[39m\u001b[38;5;124mread\u001b[39m\u001b[38;5;124m'\u001b[39m):\n\u001b[1;32m   1046\u001b[0m         \u001b[38;5;66;03m# Let file-like take precedence over byte-like.  This\u001b[39;00m\n\u001b[1;32m   1047\u001b[0m         \u001b[38;5;66;03m# is needed to allow the current position of mmap'ed\u001b[39;00m\n\u001b[1;32m   1048\u001b[0m         \u001b[38;5;66;03m# files to be taken into account.\u001b[39;00m\n",
      "File \u001b[0;32m~/opt/anaconda3/lib/python3.9/http/client.py:980\u001b[0m, in \u001b[0;36mHTTPConnection.send\u001b[0;34m(self, data)\u001b[0m\n\u001b[1;32m    978\u001b[0m \u001b[38;5;28;01mif\u001b[39;00m \u001b[38;5;28mself\u001b[39m\u001b[38;5;241m.\u001b[39msock \u001b[38;5;129;01mis\u001b[39;00m \u001b[38;5;28;01mNone\u001b[39;00m:\n\u001b[1;32m    979\u001b[0m     \u001b[38;5;28;01mif\u001b[39;00m \u001b[38;5;28mself\u001b[39m\u001b[38;5;241m.\u001b[39mauto_open:\n\u001b[0;32m--> 980\u001b[0m         \u001b[38;5;28;43mself\u001b[39;49m\u001b[38;5;241;43m.\u001b[39;49m\u001b[43mconnect\u001b[49m\u001b[43m(\u001b[49m\u001b[43m)\u001b[49m\n\u001b[1;32m    981\u001b[0m     \u001b[38;5;28;01melse\u001b[39;00m:\n\u001b[1;32m    982\u001b[0m         \u001b[38;5;28;01mraise\u001b[39;00m NotConnected()\n",
      "File \u001b[0;32m~/opt/anaconda3/lib/python3.9/http/client.py:1447\u001b[0m, in \u001b[0;36mHTTPSConnection.connect\u001b[0;34m(self)\u001b[0m\n\u001b[1;32m   1444\u001b[0m \u001b[38;5;28;01mdef\u001b[39;00m \u001b[38;5;21mconnect\u001b[39m(\u001b[38;5;28mself\u001b[39m):\n\u001b[1;32m   1445\u001b[0m     \u001b[38;5;124m\"\u001b[39m\u001b[38;5;124mConnect to a host on a given (SSL) port.\u001b[39m\u001b[38;5;124m\"\u001b[39m\n\u001b[0;32m-> 1447\u001b[0m     \u001b[38;5;28;43msuper\u001b[39;49m\u001b[43m(\u001b[49m\u001b[43m)\u001b[49m\u001b[38;5;241;43m.\u001b[39;49m\u001b[43mconnect\u001b[49m\u001b[43m(\u001b[49m\u001b[43m)\u001b[49m\n\u001b[1;32m   1449\u001b[0m     \u001b[38;5;28;01mif\u001b[39;00m \u001b[38;5;28mself\u001b[39m\u001b[38;5;241m.\u001b[39m_tunnel_host:\n\u001b[1;32m   1450\u001b[0m         server_hostname \u001b[38;5;241m=\u001b[39m \u001b[38;5;28mself\u001b[39m\u001b[38;5;241m.\u001b[39m_tunnel_host\n",
      "File \u001b[0;32m~/opt/anaconda3/lib/python3.9/http/client.py:956\u001b[0m, in \u001b[0;36mHTTPConnection.connect\u001b[0;34m(self)\u001b[0m\n\u001b[1;32m    953\u001b[0m         \u001b[38;5;28;01mraise\u001b[39;00m\n\u001b[1;32m    955\u001b[0m \u001b[38;5;28;01mif\u001b[39;00m \u001b[38;5;28mself\u001b[39m\u001b[38;5;241m.\u001b[39m_tunnel_host:\n\u001b[0;32m--> 956\u001b[0m     \u001b[38;5;28;43mself\u001b[39;49m\u001b[38;5;241;43m.\u001b[39;49m\u001b[43m_tunnel\u001b[49m\u001b[43m(\u001b[49m\u001b[43m)\u001b[49m\n",
      "File \u001b[0;32m~/opt/anaconda3/lib/python3.9/http/client.py:926\u001b[0m, in \u001b[0;36mHTTPConnection._tunnel\u001b[0;34m(self)\u001b[0m\n\u001b[1;32m    923\u001b[0m \u001b[38;5;28;01mdel\u001b[39;00m headers\n\u001b[1;32m    925\u001b[0m response \u001b[38;5;241m=\u001b[39m \u001b[38;5;28mself\u001b[39m\u001b[38;5;241m.\u001b[39mresponse_class(\u001b[38;5;28mself\u001b[39m\u001b[38;5;241m.\u001b[39msock, method\u001b[38;5;241m=\u001b[39m\u001b[38;5;28mself\u001b[39m\u001b[38;5;241m.\u001b[39m_method)\n\u001b[0;32m--> 926\u001b[0m (version, code, message) \u001b[38;5;241m=\u001b[39m \u001b[43mresponse\u001b[49m\u001b[38;5;241;43m.\u001b[39;49m\u001b[43m_read_status\u001b[49m\u001b[43m(\u001b[49m\u001b[43m)\u001b[49m\n\u001b[1;32m    928\u001b[0m \u001b[38;5;28;01mif\u001b[39;00m code \u001b[38;5;241m!=\u001b[39m http\u001b[38;5;241m.\u001b[39mHTTPStatus\u001b[38;5;241m.\u001b[39mOK:\n\u001b[1;32m    929\u001b[0m     \u001b[38;5;28mself\u001b[39m\u001b[38;5;241m.\u001b[39mclose()\n",
      "File \u001b[0;32m~/opt/anaconda3/lib/python3.9/http/client.py:281\u001b[0m, in \u001b[0;36mHTTPResponse._read_status\u001b[0;34m(self)\u001b[0m\n\u001b[1;32m    280\u001b[0m \u001b[38;5;28;01mdef\u001b[39;00m \u001b[38;5;21m_read_status\u001b[39m(\u001b[38;5;28mself\u001b[39m):\n\u001b[0;32m--> 281\u001b[0m     line \u001b[38;5;241m=\u001b[39m \u001b[38;5;28mstr\u001b[39m(\u001b[38;5;28;43mself\u001b[39;49m\u001b[38;5;241;43m.\u001b[39;49m\u001b[43mfp\u001b[49m\u001b[38;5;241;43m.\u001b[39;49m\u001b[43mreadline\u001b[49m\u001b[43m(\u001b[49m\u001b[43m_MAXLINE\u001b[49m\u001b[43m \u001b[49m\u001b[38;5;241;43m+\u001b[39;49m\u001b[43m \u001b[49m\u001b[38;5;241;43m1\u001b[39;49m\u001b[43m)\u001b[49m, \u001b[38;5;124m\"\u001b[39m\u001b[38;5;124miso-8859-1\u001b[39m\u001b[38;5;124m\"\u001b[39m)\n\u001b[1;32m    282\u001b[0m     \u001b[38;5;28;01mif\u001b[39;00m \u001b[38;5;28mlen\u001b[39m(line) \u001b[38;5;241m>\u001b[39m _MAXLINE:\n\u001b[1;32m    283\u001b[0m         \u001b[38;5;28;01mraise\u001b[39;00m LineTooLong(\u001b[38;5;124m\"\u001b[39m\u001b[38;5;124mstatus line\u001b[39m\u001b[38;5;124m\"\u001b[39m)\n",
      "File \u001b[0;32m~/opt/anaconda3/lib/python3.9/socket.py:704\u001b[0m, in \u001b[0;36mSocketIO.readinto\u001b[0;34m(self, b)\u001b[0m\n\u001b[1;32m    702\u001b[0m \u001b[38;5;28;01mwhile\u001b[39;00m \u001b[38;5;28;01mTrue\u001b[39;00m:\n\u001b[1;32m    703\u001b[0m     \u001b[38;5;28;01mtry\u001b[39;00m:\n\u001b[0;32m--> 704\u001b[0m         \u001b[38;5;28;01mreturn\u001b[39;00m \u001b[38;5;28;43mself\u001b[39;49m\u001b[38;5;241;43m.\u001b[39;49m\u001b[43m_sock\u001b[49m\u001b[38;5;241;43m.\u001b[39;49m\u001b[43mrecv_into\u001b[49m\u001b[43m(\u001b[49m\u001b[43mb\u001b[49m\u001b[43m)\u001b[49m\n\u001b[1;32m    705\u001b[0m     \u001b[38;5;28;01mexcept\u001b[39;00m timeout:\n\u001b[1;32m    706\u001b[0m         \u001b[38;5;28mself\u001b[39m\u001b[38;5;241m.\u001b[39m_timeout_occurred \u001b[38;5;241m=\u001b[39m \u001b[38;5;28;01mTrue\u001b[39;00m\n",
      "\u001b[0;31mKeyboardInterrupt\u001b[0m: "
     ]
    }
   ],
   "source": [
    "import nltk\n",
    "nltk.download('all')"
   ]
  },
  {
   "cell_type": "code",
   "execution_count": null,
   "id": "f0602f51",
   "metadata": {
    "ExecuteTime": {
     "end_time": "2023-01-09T17:03:10.594853Z",
     "start_time": "2023-01-09T17:03:10.594838Z"
    }
   },
   "outputs": [],
   "source": [
    "!python -m spacy download en_core_web_sm"
   ]
  },
  {
   "cell_type": "code",
   "execution_count": null,
   "id": "4375832b",
   "metadata": {
    "ExecuteTime": {
     "end_time": "2023-01-09T17:03:10.596874Z",
     "start_time": "2023-01-09T17:03:10.596852Z"
    }
   },
   "outputs": [],
   "source": [
    "import pandas as pd\n",
    "import numpy as np\n",
    "import matplotlib.pyplot as plt\n",
    "from matplotlib.pyplot import imread\n",
    "import spacy\n",
    "import string\n",
    "\n",
    "from wordcloud import WordCloud"
   ]
  },
  {
   "cell_type": "code",
   "execution_count": null,
   "id": "a7eb211c",
   "metadata": {
    "ExecuteTime": {
     "end_time": "2023-01-09T17:03:10.600262Z",
     "start_time": "2023-01-09T17:03:10.600234Z"
    }
   },
   "outputs": [],
   "source": [
    "tweets = pd.read_csv(\"Elon_musk.csv\",encoding='Latin-1')\n",
    "tweets"
   ]
  },
  {
   "cell_type": "code",
   "execution_count": null,
   "id": "c50987d2",
   "metadata": {
    "ExecuteTime": {
     "end_time": "2023-01-09T17:03:10.602564Z",
     "start_time": "2023-01-09T17:03:10.602542Z"
    }
   },
   "outputs": [],
   "source": [
    "tweets_data = tweets.drop(['Unnamed: 0'],axis=1)\n",
    "tweets_data"
   ]
  },
  {
   "cell_type": "code",
   "execution_count": null,
   "id": "12d01d5f",
   "metadata": {
    "ExecuteTime": {
     "end_time": "2023-01-09T17:03:10.605504Z",
     "start_time": "2023-01-09T17:03:10.605479Z"
    }
   },
   "outputs": [],
   "source": [
    "#Text Preprocessing\n",
    "tweets_data = [Text.strip() for Text in tweets_data.Text] # remove both the leading and the trailing characters\n",
    "tweets_data = [Text for Text in tweets_data if Text] # removes empty strings, because they are considered in Python as False\n",
    "tweets_data[0:10]"
   ]
  },
  {
   "cell_type": "code",
   "execution_count": null,
   "id": "663bd8bb",
   "metadata": {
    "ExecuteTime": {
     "end_time": "2023-01-09T17:03:10.607964Z",
     "start_time": "2023-01-09T17:03:10.607943Z"
    }
   },
   "outputs": [],
   "source": [
    "#Joing all the tweets into a string/text\n",
    "Tweets_text = ' '.join(tweets_data)\n",
    "Tweets_text"
   ]
  },
  {
   "cell_type": "code",
   "execution_count": null,
   "id": "f10ab0cd",
   "metadata": {
    "ExecuteTime": {
     "end_time": "2023-01-09T17:03:10.610986Z",
     "start_time": "2023-01-09T17:03:10.610957Z"
    }
   },
   "outputs": [],
   "source": [
    "#using twittertokenizer to remove usernames\n",
    "from nltk.tokenize import TweetTokenizer\n",
    "tknzr = TweetTokenizer(strip_handles=True)\n",
    "tweets_tokens=tknzr.tokenize(Tweets_text)\n",
    "print(tweets_tokens[:50])"
   ]
  },
  {
   "cell_type": "code",
   "execution_count": null,
   "id": "2574efde",
   "metadata": {
    "ExecuteTime": {
     "end_time": "2023-01-09T17:03:10.621293Z",
     "start_time": "2023-01-09T17:03:10.621264Z"
    }
   },
   "outputs": [],
   "source": [
    "#Joining all the tweets_tokens into a text\n",
    "tweets_tokens_text = ' '.join(tweets_tokens)\n",
    "tweets_tokens_text"
   ]
  },
  {
   "cell_type": "code",
   "execution_count": null,
   "id": "3e75c741",
   "metadata": {
    "ExecuteTime": {
     "end_time": "2023-01-09T17:03:10.627221Z",
     "start_time": "2023-01-09T17:03:10.627190Z"
    }
   },
   "outputs": [],
   "source": [
    "no_punch_tweet_text = tweets_tokens_text.translate(str.maketrans('','',string.punctuation))\n",
    "no_punch_tweet_text"
   ]
  },
  {
   "cell_type": "code",
   "execution_count": null,
   "id": "a8019d74",
   "metadata": {
    "ExecuteTime": {
     "end_time": "2023-01-09T17:03:10.638340Z",
     "start_time": "2023-01-09T17:03:10.638313Z"
    }
   },
   "outputs": [],
   "source": [
    "#Removing urls\n",
    "no_url_tweet_text=re.sub(r'http\\S+', '', no_punch_tweet_text)\n",
    "no_url_tweet_text[:1000]"
   ]
  },
  {
   "cell_type": "code",
   "execution_count": null,
   "id": "6f8332a7",
   "metadata": {
    "ExecuteTime": {
     "end_time": "2023-01-09T17:03:10.641983Z",
     "start_time": "2023-01-09T17:03:10.641962Z"
    }
   },
   "outputs": [],
   "source": [
    "import nltk\n",
    "from nltk.corpus import stopwords\n",
    "from nltk.tokenize import sent_tokenize, word_tokenize\n",
    "from nltk.sentiment.vader import SentimentIntensityAnalyzer\n",
    "from nltk.stem import WordNetLemmatizer"
   ]
  },
  {
   "cell_type": "code",
   "execution_count": null,
   "id": "dfa8042f",
   "metadata": {
    "ExecuteTime": {
     "end_time": "2023-01-09T17:03:10.645123Z",
     "start_time": "2023-01-09T17:03:10.645101Z"
    }
   },
   "outputs": [],
   "source": [
    "text_tokens = word_tokenize(no_url_tweet_text)\n",
    "print(text_tokens[0:100])"
   ]
  },
  {
   "cell_type": "code",
   "execution_count": null,
   "id": "fc9cee8c",
   "metadata": {
    "ExecuteTime": {
     "end_time": "2023-01-09T17:03:10.647925Z",
     "start_time": "2023-01-09T17:03:10.647903Z"
    }
   },
   "outputs": [],
   "source": [
    "len(text_tokens)"
   ]
  },
  {
   "cell_type": "code",
   "execution_count": null,
   "id": "1f44da55",
   "metadata": {
    "ExecuteTime": {
     "end_time": "2023-01-09T17:03:10.649884Z",
     "start_time": "2023-01-09T17:03:10.649863Z"
    }
   },
   "outputs": [],
   "source": [
    "from nltk.corpus import stopwords\n",
    "nltk.download('stopwords')\n",
    "my_stop_words = stopwords.words('english')\n",
    "\n",
    "add_stopwords = ['the','\\x92','U0001F923','rt','haha','ye']\n",
    "my_stop_words.extend(add_stopwords)\n",
    "no_stopwords_tokens = [word for word in text_tokens if not word in my_stop_words]\n",
    "print(no_stopwords_tokens[0:100])"
   ]
  },
  {
   "cell_type": "code",
   "execution_count": null,
   "id": "b1bb1ffd",
   "metadata": {
    "ExecuteTime": {
     "end_time": "2023-01-09T17:03:10.653804Z",
     "start_time": "2023-01-09T17:03:10.653778Z"
    }
   },
   "outputs": [],
   "source": [
    "lower_words = [x.lower() for x in no_stopwords_tokens]\n",
    "print(lower_words[:100])"
   ]
  },
  {
   "cell_type": "code",
   "execution_count": null,
   "id": "9b592d48",
   "metadata": {
    "ExecuteTime": {
     "end_time": "2023-01-09T17:03:10.656470Z",
     "start_time": "2023-01-09T17:03:10.656446Z"
    }
   },
   "outputs": [],
   "source": [
    "#Stemming\n",
    "from nltk.stem import PorterStemmer\n",
    "ps = PorterStemmer()\n",
    "stemmed_tokens = [ps.stem(word) for word in lower_words]\n",
    "print(stemmed_tokens[:100])"
   ]
  },
  {
   "cell_type": "code",
   "execution_count": null,
   "id": "c7b392f2",
   "metadata": {
    "ExecuteTime": {
     "end_time": "2023-01-09T17:03:10.660182Z",
     "start_time": "2023-01-09T17:03:10.660161Z"
    }
   },
   "outputs": [],
   "source": [
    "#lemmatizating and using spacy library\n",
    "nlp = spacy.load('en_core_web_sm')\n",
    "doc = nlp(' '.join(lower_words))\n",
    "print(doc[:100])"
   ]
  },
  {
   "cell_type": "code",
   "execution_count": null,
   "id": "1a7128b0",
   "metadata": {
    "ExecuteTime": {
     "end_time": "2023-01-09T17:03:10.662959Z",
     "start_time": "2023-01-09T17:03:10.662939Z"
    }
   },
   "outputs": [],
   "source": [
    "lemmas = [token.lemma_ for token in doc]\n",
    "print(lemmas[:100])"
   ]
  },
  {
   "cell_type": "code",
   "execution_count": null,
   "id": "98facb54",
   "metadata": {
    "ExecuteTime": {
     "end_time": "2023-01-09T17:03:10.667442Z",
     "start_time": "2023-01-09T17:03:10.667418Z"
    }
   },
   "outputs": [],
   "source": [
    "#Feature Extraction"
   ]
  },
  {
   "cell_type": "code",
   "execution_count": null,
   "id": "8a84b0f2",
   "metadata": {
    "ExecuteTime": {
     "end_time": "2023-01-09T17:03:10.674470Z",
     "start_time": "2023-01-09T17:03:10.674444Z"
    }
   },
   "outputs": [],
   "source": [
    "#Using CountVEctorizer\n",
    "from sklearn.feature_extraction.text import CountVectorizer\n",
    "cv=CountVectorizer()\n",
    "tweet_cv = cv.fit_transform(lemmas)"
   ]
  },
  {
   "cell_type": "code",
   "execution_count": null,
   "id": "8f309f91",
   "metadata": {
    "ExecuteTime": {
     "end_time": "2023-01-09T17:03:10.677645Z",
     "start_time": "2023-01-09T17:03:10.677587Z"
    }
   },
   "outputs": [],
   "source": [
    "print(cv.vocabulary_)"
   ]
  },
  {
   "cell_type": "code",
   "execution_count": null,
   "id": "39a37430",
   "metadata": {
    "ExecuteTime": {
     "end_time": "2023-01-09T17:03:10.680467Z",
     "start_time": "2023-01-09T17:03:10.680386Z"
    }
   },
   "outputs": [],
   "source": [
    "print(cv.get_feature_names()[50:100])\n",
    "print(tweet_cv.toarray()[50:100])"
   ]
  },
  {
   "cell_type": "code",
   "execution_count": null,
   "id": "73bb730f",
   "metadata": {
    "ExecuteTime": {
     "end_time": "2023-01-09T17:03:10.686870Z",
     "start_time": "2023-01-09T17:03:10.686840Z"
    }
   },
   "outputs": [],
   "source": [
    "tweet_cv.toarray().shape"
   ]
  },
  {
   "cell_type": "code",
   "execution_count": null,
   "id": "b123dd2e",
   "metadata": {
    "ExecuteTime": {
     "end_time": "2023-01-09T17:03:10.691572Z",
     "start_time": "2023-01-09T17:03:10.691546Z"
    }
   },
   "outputs": [],
   "source": [
    "#Using Bigrams and Trigrams\n",
    "cv_ngram_range = CountVectorizer(analyzer='word',ngram_range=(1,3),max_features = 100)\n",
    "bow_matrix_ngram =cv_ngram_range.fit_transform(tweets_data)"
   ]
  },
  {
   "cell_type": "code",
   "execution_count": null,
   "id": "651d560d",
   "metadata": {
    "ExecuteTime": {
     "end_time": "2023-01-09T17:03:10.695482Z",
     "start_time": "2023-01-09T17:03:10.695446Z"
    }
   },
   "outputs": [],
   "source": [
    "print(cv_ngram_range.get_feature_names()[50:100])\n",
    "print(bow_matrix_ngram.toarray()[50:100])"
   ]
  },
  {
   "cell_type": "code",
   "execution_count": null,
   "id": "52676a9e",
   "metadata": {
    "ExecuteTime": {
     "end_time": "2023-01-09T17:03:10.697634Z",
     "start_time": "2023-01-09T17:03:10.697610Z"
    }
   },
   "outputs": [],
   "source": [
    "#TFidf vectorizer\n",
    "from sklearn.feature_extraction.text import TfidfVectorizer\n",
    "tfidfv_ngram_max_features = TfidfVectorizer(norm='l2',analyzer='word',ngram_range=(1,3),max_features=500)\n",
    "tfidfv_matrix_ngram = tfidfv_ngram_max_features.fit_transform(tweets_data)"
   ]
  },
  {
   "cell_type": "code",
   "execution_count": null,
   "id": "bd12dde5",
   "metadata": {
    "ExecuteTime": {
     "end_time": "2023-01-09T17:03:10.707052Z",
     "start_time": "2023-01-09T17:03:10.707015Z"
    }
   },
   "outputs": [],
   "source": [
    "print(tfidfv_ngram_max_features.get_feature_names())\n",
    "print(tfidfv_matrix_ngram.toarray())"
   ]
  },
  {
   "cell_type": "code",
   "execution_count": null,
   "id": "ce68ceeb",
   "metadata": {
    "ExecuteTime": {
     "end_time": "2023-01-09T17:03:10.729125Z",
     "start_time": "2023-01-09T17:03:10.729102Z"
    }
   },
   "outputs": [],
   "source": [
    "clean_tweets=' '.join(lemmas)\n",
    "clean_tweets"
   ]
  },
  {
   "cell_type": "code",
   "execution_count": null,
   "id": "ced74f89",
   "metadata": {
    "ExecuteTime": {
     "end_time": "2023-01-09T17:03:10.732336Z",
     "start_time": "2023-01-09T17:03:10.732313Z"
    },
    "scrolled": true
   },
   "outputs": [],
   "source": [
    "#Generate Word Cloud\n",
    "\n",
    "from wordcloud import STOPWORDS\n",
    "\n",
    "def plot_cloud(wordcloud):\n",
    "    plt.figure(figsize=(40, 30))\n",
    "    plt.imshow(wordcloud)\n",
    "    plt.axis(\"off\");\n",
    "    \n",
    "STOPWORDS.add('rt')\n",
    "wordcloud = WordCloud(width = 3000, height = 2000, background_color='black', max_words=100,colormap='Set2',stopwords=STOPWORDS).generate(clean_tweets)\n",
    "plot_cloud(wordcloud)"
   ]
  },
  {
   "cell_type": "code",
   "execution_count": null,
   "id": "ef71759a",
   "metadata": {},
   "outputs": [],
   "source": []
  },
  {
   "cell_type": "code",
   "execution_count": null,
   "id": "4b70ad82",
   "metadata": {
    "ExecuteTime": {
     "end_time": "2023-01-09T17:03:10.735696Z",
     "start_time": "2023-01-09T17:03:10.735672Z"
    }
   },
   "outputs": [],
   "source": [
    "#Named Entity Recognition\n",
    "nlp = spacy.load('en_core_web_sm')\n",
    "one_bloclk = clean_tweets\n",
    "doc_block = nlp(one_bloclk)\n",
    "spacy.displacy.render(doc_block,style='ent',jupyter=True)"
   ]
  },
  {
   "cell_type": "code",
   "execution_count": null,
   "id": "42631f31",
   "metadata": {
    "ExecuteTime": {
     "end_time": "2023-01-09T17:03:10.740039Z",
     "start_time": "2023-01-09T17:03:10.740008Z"
    }
   },
   "outputs": [],
   "source": [
    "for token in doc_block[0:100]:\n",
    "    print(token, token.pos_)"
   ]
  },
  {
   "cell_type": "code",
   "execution_count": null,
   "id": "a2f8e86d",
   "metadata": {
    "ExecuteTime": {
     "end_time": "2023-01-09T17:03:10.743853Z",
     "start_time": "2023-01-09T17:03:10.743831Z"
    }
   },
   "outputs": [],
   "source": [
    "nouns_verbs = [token.text for token in doc_block if token.pos_ in ('NOUN', 'VERB')]\n",
    "print(nouns_verbs[0:50])"
   ]
  },
  {
   "cell_type": "code",
   "execution_count": null,
   "id": "3956bb95",
   "metadata": {
    "ExecuteTime": {
     "end_time": "2023-01-09T17:03:10.746692Z",
     "start_time": "2023-01-09T17:03:10.746668Z"
    }
   },
   "outputs": [],
   "source": [
    "from sklearn.feature_extraction.text import CountVectorizer\n",
    "cv = CountVectorizer()\n",
    "\n",
    "X = cv.fit_transform(nouns_verbs)\n",
    "sum_words = X.sum(axis=0)\n",
    "words_freq = [(word, sum_words[0, idx]) for word, idx in cv.vocabulary_.items()]\n",
    "words_freq =sorted(words_freq, key = lambda x: x[1], reverse=True)\n",
    "wf_df = pd.DataFrame(words_freq)\n",
    "wf_df.columns = ['word', 'count']\n",
    "\n",
    "wf_df[0:20]"
   ]
  },
  {
   "cell_type": "code",
   "execution_count": null,
   "id": "7fae54ba",
   "metadata": {
    "ExecuteTime": {
     "end_time": "2023-01-09T17:03:10.750762Z",
     "start_time": "2023-01-09T17:03:10.750732Z"
    },
    "scrolled": true
   },
   "outputs": [],
   "source": [
    "wf_df[0:10].plot.bar(x='word', figsize=(12,8), title='Top verbs and nouns')"
   ]
  },
  {
   "cell_type": "code",
   "execution_count": null,
   "id": "93ccb800",
   "metadata": {},
   "outputs": [],
   "source": []
  },
  {
   "cell_type": "code",
   "execution_count": null,
   "id": "f1dadf4b",
   "metadata": {
    "ExecuteTime": {
     "end_time": "2023-01-09T17:03:10.761744Z",
     "start_time": "2023-01-09T17:03:10.761721Z"
    }
   },
   "outputs": [],
   "source": [
    "tweets_data1 = tweets.drop[]\n",
    "tweets_data1"
   ]
  },
  {
   "cell_type": "code",
   "execution_count": null,
   "id": "8e19dbc5",
   "metadata": {
    "ExecuteTime": {
     "end_time": "2023-01-09T17:03:10.765416Z",
     "start_time": "2023-01-09T17:03:10.765393Z"
    }
   },
   "outputs": [],
   "source": [
    "from nltk import tokenize\n",
    "sentences = tokenize.sent_tokenize(\" \".join(tweets_data))\n",
    "sentences[0:15]"
   ]
  },
  {
   "cell_type": "code",
   "execution_count": null,
   "id": "423f124a",
   "metadata": {
    "ExecuteTime": {
     "end_time": "2023-01-09T17:03:10.769914Z",
     "start_time": "2023-01-09T17:03:10.769889Z"
    }
   },
   "outputs": [],
   "source": [
    "sent_df = pd.DataFrame(sentences, columns=['sentence'])\n",
    "sent_df"
   ]
  },
  {
   "cell_type": "code",
   "execution_count": null,
   "id": "57d81d53",
   "metadata": {
    "ExecuteTime": {
     "end_time": "2023-01-09T17:03:10.773237Z",
     "start_time": "2023-01-09T17:03:10.773211Z"
    }
   },
   "outputs": [],
   "source": [
    "sent_df['word_count'] = sent_df['sentence'].str.split().apply(len)\n",
    "sent_df['word_count'].head(10)"
   ]
  },
  {
   "cell_type": "code",
   "execution_count": null,
   "id": "1ba2d8cf",
   "metadata": {
    "ExecuteTime": {
     "end_time": "2023-01-09T17:03:10.779847Z",
     "start_time": "2023-01-09T17:03:10.779820Z"
    }
   },
   "outputs": [],
   "source": [
    "affin = pd.read_csv('Afinn.csv',sep=',',encoding='Latin-1')\n",
    "affin"
   ]
  },
  {
   "cell_type": "code",
   "execution_count": null,
   "id": "d16f23d4",
   "metadata": {
    "ExecuteTime": {
     "end_time": "2023-01-09T17:03:10.783912Z",
     "start_time": "2023-01-09T17:03:10.783867Z"
    }
   },
   "outputs": [],
   "source": [
    "affinity_scores = affin.set_index('word')['value'].to_dict()"
   ]
  },
  {
   "cell_type": "code",
   "execution_count": null,
   "id": "2d85bf95",
   "metadata": {
    "ExecuteTime": {
     "end_time": "2023-01-09T17:03:10.804937Z",
     "start_time": "2023-01-09T17:03:10.804910Z"
    }
   },
   "outputs": [],
   "source": [
    "nlp = spacy.load('en_core_web_sm')\n",
    "sentiment_lexicon = affinity_scores\n",
    "\n",
    "def calculate_sentiment(text: str = None):\n",
    "    sent_score = 0\n",
    "    if text:\n",
    "        sentence = nlp(text)\n",
    "        for word in sentence:\n",
    "            sent_score += sentiment_lexicon.get(word.lemma_, 0)\n",
    "    return sent_score"
   ]
  },
  {
   "cell_type": "code",
   "execution_count": null,
   "id": "2c9bf045",
   "metadata": {
    "ExecuteTime": {
     "end_time": "2023-01-09T17:03:10.807446Z",
     "start_time": "2023-01-09T17:03:10.807395Z"
    }
   },
   "outputs": [],
   "source": [
    "calculate_sentiment(text = 'super')"
   ]
  },
  {
   "cell_type": "code",
   "execution_count": null,
   "id": "94bf28b4",
   "metadata": {
    "ExecuteTime": {
     "end_time": "2023-01-09T17:03:10.809651Z",
     "start_time": "2023-01-09T17:03:10.809636Z"
    }
   },
   "outputs": [],
   "source": [
    "sent_df['sentiment_value'] = sent_df['sentence'].apply(calculate_sentiment) \n",
    "sent_df['sentiment_value']"
   ]
  },
  {
   "cell_type": "code",
   "execution_count": null,
   "id": "cd502ac1",
   "metadata": {
    "ExecuteTime": {
     "end_time": "2023-01-09T17:03:10.812407Z",
     "start_time": "2023-01-09T17:03:10.812382Z"
    }
   },
   "outputs": [],
   "source": [
    "sent_df"
   ]
  },
  {
   "cell_type": "code",
   "execution_count": null,
   "id": "9a65042c",
   "metadata": {
    "ExecuteTime": {
     "end_time": "2023-01-09T17:03:10.815044Z",
     "start_time": "2023-01-09T17:03:10.815022Z"
    }
   },
   "outputs": [],
   "source": [
    "sent_df.sort_values(by='sentiment_value').tail(10)"
   ]
  },
  {
   "cell_type": "code",
   "execution_count": null,
   "id": "fd8fcc9a",
   "metadata": {
    "ExecuteTime": {
     "end_time": "2023-01-09T17:03:10.817986Z",
     "start_time": "2023-01-09T17:03:10.817967Z"
    }
   },
   "outputs": [],
   "source": [
    "sent_df['sentiment_value'].describe()"
   ]
  },
  {
   "cell_type": "code",
   "execution_count": null,
   "id": "a26a7896",
   "metadata": {
    "ExecuteTime": {
     "end_time": "2023-01-09T17:03:10.820684Z",
     "start_time": "2023-01-09T17:03:10.820662Z"
    }
   },
   "outputs": [],
   "source": [
    "sent_df[sent_df['sentiment_value']<=0].head()"
   ]
  },
  {
   "cell_type": "code",
   "execution_count": null,
   "id": "ac8f7a02",
   "metadata": {
    "ExecuteTime": {
     "end_time": "2023-01-09T17:03:10.823480Z",
     "start_time": "2023-01-09T17:03:10.823459Z"
    }
   },
   "outputs": [],
   "source": [
    "sent_df['index']=range(0,len(sent_df))\n",
    "sent_df"
   ]
  },
  {
   "cell_type": "code",
   "execution_count": null,
   "id": "cd568bd7",
   "metadata": {
    "ExecuteTime": {
     "end_time": "2023-01-09T17:03:10.835291Z",
     "start_time": "2023-01-09T17:03:10.835261Z"
    }
   },
   "outputs": [],
   "source": [
    "import seaborn as sns\n",
    "import matplotlib.pyplot as plt\n",
    "sns.distplot(sent_df['sentiment_value'])"
   ]
  },
  {
   "cell_type": "code",
   "execution_count": null,
   "id": "074f66bd",
   "metadata": {
    "ExecuteTime": {
     "end_time": "2023-01-09T17:03:10.849205Z",
     "start_time": "2023-01-09T17:03:10.849177Z"
    }
   },
   "outputs": [],
   "source": [
    "plt.figure(figsize=(15, 10))\n",
    "sns.lineplot(y='sentiment_value',x='index',data=sent_df)"
   ]
  },
  {
   "cell_type": "code",
   "execution_count": null,
   "id": "92b6197f",
   "metadata": {
    "ExecuteTime": {
     "end_time": "2023-01-09T17:03:10.857387Z",
     "start_time": "2023-01-09T17:03:10.857357Z"
    },
    "scrolled": true
   },
   "outputs": [],
   "source": [
    "sent_df.plot.scatter(x='word_count', y='sentiment_value', figsize=(8,8), title='Sentence sentiment value to sentence word count')"
   ]
  },
  {
   "cell_type": "code",
   "execution_count": null,
   "id": "78b69220",
   "metadata": {},
   "outputs": [],
   "source": []
  },
  {
   "cell_type": "code",
   "execution_count": null,
   "id": "dcf18041",
   "metadata": {
    "ExecuteTime": {
     "end_time": "2023-01-09T17:03:10.864229Z",
     "start_time": "2023-01-09T17:03:10.864202Z"
    }
   },
   "outputs": [],
   "source": [
    "#checking for the raw data\n",
    "tweets_data1"
   ]
  },
  {
   "cell_type": "code",
   "execution_count": null,
   "id": "b8d662dc",
   "metadata": {
    "ExecuteTime": {
     "end_time": "2023-01-09T17:03:10.868748Z",
     "start_time": "2023-01-09T17:03:10.868719Z"
    }
   },
   "outputs": [],
   "source": [
    "tweets_data1['sentiment_value'] = tweets_data1['Text'].apply(calculate_sentiment) \n",
    "tweets_data1['sentiment_value']"
   ]
  },
  {
   "cell_type": "code",
   "execution_count": null,
   "id": "e586e0e9",
   "metadata": {
    "ExecuteTime": {
     "end_time": "2023-01-09T17:03:10.873806Z",
     "start_time": "2023-01-09T17:03:10.873787Z"
    }
   },
   "outputs": [],
   "source": [
    "tweets_data1"
   ]
  },
  {
   "cell_type": "code",
   "execution_count": null,
   "id": "5179dce3",
   "metadata": {
    "ExecuteTime": {
     "end_time": "2023-01-09T17:03:10.877115Z",
     "start_time": "2023-01-09T17:03:10.877095Z"
    }
   },
   "outputs": [],
   "source": [
    "tweets_data1.sort_values(by='sentiment_value').tail(10)"
   ]
  },
  {
   "cell_type": "code",
   "execution_count": null,
   "id": "b23e7d7e",
   "metadata": {},
   "outputs": [],
   "source": []
  }
 ],
 "metadata": {
  "kernelspec": {
   "display_name": "Python 3 (ipykernel)",
   "language": "python",
   "name": "python3"
  },
  "language_info": {
   "codemirror_mode": {
    "name": "ipython",
    "version": 3
   },
   "file_extension": ".py",
   "mimetype": "text/x-python",
   "name": "python",
   "nbconvert_exporter": "python",
   "pygments_lexer": "ipython3",
   "version": "3.9.15"
  }
 },
 "nbformat": 4,
 "nbformat_minor": 5
}

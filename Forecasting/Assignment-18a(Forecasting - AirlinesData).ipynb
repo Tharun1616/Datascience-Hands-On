{
 "cells": [
  {
   "cell_type": "markdown",
   "id": "281ac85a",
   "metadata": {},
   "source": [
    "# Assignment"
   ]
  },
  {
   "cell_type": "markdown",
   "id": "9b0bd96b",
   "metadata": {},
   "source": [
    "Forecast the Airlines Passengers data set. Prepare a document for each model explaining \n",
    "how many dummy variables you have created and RMSE value for each model. Finally which model you will use for \n",
    "Forecasting."
   ]
  },
  {
   "cell_type": "code",
   "execution_count": 1,
   "id": "15bf2a50",
   "metadata": {
    "ExecuteTime": {
     "end_time": "2023-01-14T06:57:48.600836Z",
     "start_time": "2023-01-14T06:57:43.085388Z"
    }
   },
   "outputs": [],
   "source": [
    "import pandas as pd\n",
    "import numpy as np\n",
    "import matplotlib.pyplot as plt\n",
    "from pandas.plotting import lag_plot\n",
    "import seaborn as sns\n",
    "\n",
    "import warnings\n",
    "warnings.filterwarnings('ignore')"
   ]
  },
  {
   "cell_type": "code",
   "execution_count": 2,
   "id": "8e58d6c9",
   "metadata": {
    "ExecuteTime": {
     "end_time": "2023-01-14T06:57:49.075560Z",
     "start_time": "2023-01-14T06:57:48.603527Z"
    }
   },
   "outputs": [
    {
     "data": {
      "text/html": [
       "<div>\n",
       "<style scoped>\n",
       "    .dataframe tbody tr th:only-of-type {\n",
       "        vertical-align: middle;\n",
       "    }\n",
       "\n",
       "    .dataframe tbody tr th {\n",
       "        vertical-align: top;\n",
       "    }\n",
       "\n",
       "    .dataframe thead th {\n",
       "        text-align: right;\n",
       "    }\n",
       "</style>\n",
       "<table border=\"1\" class=\"dataframe\">\n",
       "  <thead>\n",
       "    <tr style=\"text-align: right;\">\n",
       "      <th></th>\n",
       "      <th>Month</th>\n",
       "      <th>Passengers</th>\n",
       "    </tr>\n",
       "  </thead>\n",
       "  <tbody>\n",
       "    <tr>\n",
       "      <th>0</th>\n",
       "      <td>1995-01-01</td>\n",
       "      <td>112</td>\n",
       "    </tr>\n",
       "    <tr>\n",
       "      <th>1</th>\n",
       "      <td>1995-02-01</td>\n",
       "      <td>118</td>\n",
       "    </tr>\n",
       "    <tr>\n",
       "      <th>2</th>\n",
       "      <td>1995-03-01</td>\n",
       "      <td>132</td>\n",
       "    </tr>\n",
       "    <tr>\n",
       "      <th>3</th>\n",
       "      <td>1995-04-01</td>\n",
       "      <td>129</td>\n",
       "    </tr>\n",
       "    <tr>\n",
       "      <th>4</th>\n",
       "      <td>1995-05-01</td>\n",
       "      <td>121</td>\n",
       "    </tr>\n",
       "  </tbody>\n",
       "</table>\n",
       "</div>"
      ],
      "text/plain": [
       "       Month  Passengers\n",
       "0 1995-01-01         112\n",
       "1 1995-02-01         118\n",
       "2 1995-03-01         132\n",
       "3 1995-04-01         129\n",
       "4 1995-05-01         121"
      ]
     },
     "execution_count": 2,
     "metadata": {},
     "output_type": "execute_result"
    }
   ],
   "source": [
    "airlines_df = pd.read_excel('Airlines+Data.xlsx')\n",
    "airlines_df.head()"
   ]
  },
  {
   "cell_type": "code",
   "execution_count": 3,
   "id": "01648bd8",
   "metadata": {
    "ExecuteTime": {
     "end_time": "2023-01-14T06:57:49.089764Z",
     "start_time": "2023-01-14T06:57:49.078422Z"
    }
   },
   "outputs": [
    {
     "data": {
      "text/plain": [
       "(96, 2)"
      ]
     },
     "execution_count": 3,
     "metadata": {},
     "output_type": "execute_result"
    }
   ],
   "source": [
    "airlines_df.shape"
   ]
  },
  {
   "cell_type": "code",
   "execution_count": 4,
   "id": "7a0a1fe2",
   "metadata": {
    "ExecuteTime": {
     "end_time": "2023-01-14T06:57:49.100730Z",
     "start_time": "2023-01-14T06:57:49.092458Z"
    }
   },
   "outputs": [
    {
     "data": {
      "text/plain": [
       "Month         0\n",
       "Passengers    0\n",
       "dtype: int64"
      ]
     },
     "execution_count": 4,
     "metadata": {},
     "output_type": "execute_result"
    }
   ],
   "source": [
    "airlines_df.isnull().sum()"
   ]
  },
  {
   "cell_type": "code",
   "execution_count": 5,
   "id": "6aaa3ff8",
   "metadata": {
    "ExecuteTime": {
     "end_time": "2023-01-14T06:57:49.126648Z",
     "start_time": "2023-01-14T06:57:49.112050Z"
    }
   },
   "outputs": [
    {
     "name": "stdout",
     "output_type": "stream",
     "text": [
      "<class 'pandas.core.frame.DataFrame'>\n",
      "RangeIndex: 96 entries, 0 to 95\n",
      "Data columns (total 2 columns):\n",
      " #   Column      Non-Null Count  Dtype         \n",
      "---  ------      --------------  -----         \n",
      " 0   Month       96 non-null     datetime64[ns]\n",
      " 1   Passengers  96 non-null     int64         \n",
      "dtypes: datetime64[ns](1), int64(1)\n",
      "memory usage: 1.6 KB\n"
     ]
    }
   ],
   "source": [
    "airlines_df.info()"
   ]
  },
  {
   "cell_type": "code",
   "execution_count": 6,
   "id": "8cf6e4e1",
   "metadata": {
    "ExecuteTime": {
     "end_time": "2023-01-14T06:57:49.143518Z",
     "start_time": "2023-01-14T06:57:49.130014Z"
    }
   },
   "outputs": [
    {
     "data": {
      "text/html": [
       "<div>\n",
       "<style scoped>\n",
       "    .dataframe tbody tr th:only-of-type {\n",
       "        vertical-align: middle;\n",
       "    }\n",
       "\n",
       "    .dataframe tbody tr th {\n",
       "        vertical-align: top;\n",
       "    }\n",
       "\n",
       "    .dataframe thead th {\n",
       "        text-align: right;\n",
       "    }\n",
       "</style>\n",
       "<table border=\"1\" class=\"dataframe\">\n",
       "  <thead>\n",
       "    <tr style=\"text-align: right;\">\n",
       "      <th></th>\n",
       "      <th>Passengers</th>\n",
       "    </tr>\n",
       "  </thead>\n",
       "  <tbody>\n",
       "    <tr>\n",
       "      <th>count</th>\n",
       "      <td>96.000000</td>\n",
       "    </tr>\n",
       "    <tr>\n",
       "      <th>mean</th>\n",
       "      <td>213.708333</td>\n",
       "    </tr>\n",
       "    <tr>\n",
       "      <th>std</th>\n",
       "      <td>71.918216</td>\n",
       "    </tr>\n",
       "    <tr>\n",
       "      <th>min</th>\n",
       "      <td>104.000000</td>\n",
       "    </tr>\n",
       "    <tr>\n",
       "      <th>25%</th>\n",
       "      <td>156.000000</td>\n",
       "    </tr>\n",
       "    <tr>\n",
       "      <th>50%</th>\n",
       "      <td>200.000000</td>\n",
       "    </tr>\n",
       "    <tr>\n",
       "      <th>75%</th>\n",
       "      <td>264.750000</td>\n",
       "    </tr>\n",
       "    <tr>\n",
       "      <th>max</th>\n",
       "      <td>413.000000</td>\n",
       "    </tr>\n",
       "  </tbody>\n",
       "</table>\n",
       "</div>"
      ],
      "text/plain": [
       "       Passengers\n",
       "count   96.000000\n",
       "mean   213.708333\n",
       "std     71.918216\n",
       "min    104.000000\n",
       "25%    156.000000\n",
       "50%    200.000000\n",
       "75%    264.750000\n",
       "max    413.000000"
      ]
     },
     "execution_count": 6,
     "metadata": {},
     "output_type": "execute_result"
    }
   ],
   "source": [
    "airlines_df.describe()"
   ]
  },
  {
   "cell_type": "code",
   "execution_count": 7,
   "id": "9b15108c",
   "metadata": {
    "ExecuteTime": {
     "end_time": "2023-01-14T06:57:49.160648Z",
     "start_time": "2023-01-14T06:57:49.147345Z"
    }
   },
   "outputs": [
    {
     "data": {
      "text/html": [
       "<div>\n",
       "<style scoped>\n",
       "    .dataframe tbody tr th:only-of-type {\n",
       "        vertical-align: middle;\n",
       "    }\n",
       "\n",
       "    .dataframe tbody tr th {\n",
       "        vertical-align: top;\n",
       "    }\n",
       "\n",
       "    .dataframe thead th {\n",
       "        text-align: right;\n",
       "    }\n",
       "</style>\n",
       "<table border=\"1\" class=\"dataframe\">\n",
       "  <thead>\n",
       "    <tr style=\"text-align: right;\">\n",
       "      <th></th>\n",
       "      <th>Passengers</th>\n",
       "    </tr>\n",
       "    <tr>\n",
       "      <th>Month</th>\n",
       "      <th></th>\n",
       "    </tr>\n",
       "  </thead>\n",
       "  <tbody>\n",
       "    <tr>\n",
       "      <th>1995-01-01</th>\n",
       "      <td>112</td>\n",
       "    </tr>\n",
       "    <tr>\n",
       "      <th>1995-02-01</th>\n",
       "      <td>118</td>\n",
       "    </tr>\n",
       "    <tr>\n",
       "      <th>1995-03-01</th>\n",
       "      <td>132</td>\n",
       "    </tr>\n",
       "    <tr>\n",
       "      <th>1995-04-01</th>\n",
       "      <td>129</td>\n",
       "    </tr>\n",
       "    <tr>\n",
       "      <th>1995-05-01</th>\n",
       "      <td>121</td>\n",
       "    </tr>\n",
       "  </tbody>\n",
       "</table>\n",
       "</div>"
      ],
      "text/plain": [
       "            Passengers\n",
       "Month                 \n",
       "1995-01-01         112\n",
       "1995-02-01         118\n",
       "1995-03-01         132\n",
       "1995-04-01         129\n",
       "1995-05-01         121"
      ]
     },
     "execution_count": 7,
     "metadata": {},
     "output_type": "execute_result"
    }
   ],
   "source": [
    "airlines_df_1 = airlines_df.set_index('Month')\n",
    "airlines_df_1.head()"
   ]
  },
  {
   "cell_type": "code",
   "execution_count": 8,
   "id": "5bdd123a",
   "metadata": {
    "ExecuteTime": {
     "end_time": "2023-01-14T06:57:49.426715Z",
     "start_time": "2023-01-14T06:57:49.163863Z"
    }
   },
   "outputs": [
    {
     "data": {
      "text/plain": [
       "<AxesSubplot: xlabel='Month'>"
      ]
     },
     "execution_count": 8,
     "metadata": {},
     "output_type": "execute_result"
    },
    {
     "data": {
      "image/png": "[encoded data removed]",
      "text/plain": [
       "<Figure size 640x480 with 1 Axes>"
      ]
     },
     "metadata": {},
     "output_type": "display_data"
    }
   ],
   "source": [
    "airlines_df_1.plot()"
   ]
  },
  {
   "cell_type": "code",
   "execution_count": 9,
   "id": "c0f15d0a",
   "metadata": {
    "ExecuteTime": {
     "end_time": "2023-01-14T06:57:49.614465Z",
     "start_time": "2023-01-14T06:57:49.429571Z"
    }
   },
   "outputs": [
    {
     "data": {
      "text/plain": [
       "array([[<AxesSubplot: title={'center': 'Passengers'}>]], dtype=object)"
      ]
     },
     "execution_count": 9,
     "metadata": {},
     "output_type": "execute_result"
    },
    {
     "data": {
      "image/png": "[encoded data removed]",
      "text/plain": [
       "<Figure size 640x480 with 1 Axes>"
      ]
     },
     "metadata": {},
     "output_type": "display_data"
    }
   ],
   "source": [
    "airlines_df_1.hist()"
   ]
  },
  {
   "cell_type": "code",
   "execution_count": 10,
   "id": "af68dd4f",
   "metadata": {
    "ExecuteTime": {
     "end_time": "2023-01-14T06:57:49.973191Z",
     "start_time": "2023-01-14T06:57:49.617022Z"
    }
   },
   "outputs": [
    {
     "data": {
      "text/plain": [
       "<AxesSubplot: ylabel='Density'>"
      ]
     },
     "execution_count": 10,
     "metadata": {},
     "output_type": "execute_result"
    },
    {
     "data": {
      "image/png": "[encoded data removed]",
      "text/plain": [
       "<Figure size 640x480 with 1 Axes>"
      ]
     },
     "metadata": {},
     "output_type": "display_data"
    }
   ],
   "source": [
    "sns.distplot(airlines_df_1,bins=50)"
   ]
  },
  {
   "cell_type": "code",
   "execution_count": 11,
   "id": "20e8770a",
   "metadata": {
    "ExecuteTime": {
     "end_time": "2023-01-14T06:57:50.368003Z",
     "start_time": "2023-01-14T06:57:49.982833Z"
    }
   },
   "outputs": [
    {
     "data": {
      "text/plain": [
       "<AxesSubplot: xlabel='y(t)', ylabel='y(t + 1)'>"
      ]
     },
     "execution_count": 11,
     "metadata": {},
     "output_type": "execute_result"
    },
    {
     "data": {
      "image/png": "[encoded data removed]",
      "text/plain": [
       "<Figure size 640x480 with 1 Axes>"
      ]
     },
     "metadata": {},
     "output_type": "display_data"
    }
   ],
   "source": [
    "lag_plot(airlines_df_1)"
   ]
  },
  {
   "cell_type": "code",
   "execution_count": 12,
   "id": "ceebe485",
   "metadata": {
    "ExecuteTime": {
     "end_time": "2023-01-14T06:57:50.427796Z",
     "start_time": "2023-01-14T06:57:50.377421Z"
    }
   },
   "outputs": [
    {
     "data": {
      "text/html": [
       "<div>\n",
       "<style scoped>\n",
       "    .dataframe tbody tr th:only-of-type {\n",
       "        vertical-align: middle;\n",
       "    }\n",
       "\n",
       "    .dataframe tbody tr th {\n",
       "        vertical-align: top;\n",
       "    }\n",
       "\n",
       "    .dataframe thead th {\n",
       "        text-align: right;\n",
       "    }\n",
       "</style>\n",
       "<table border=\"1\" class=\"dataframe\">\n",
       "  <thead>\n",
       "    <tr style=\"text-align: right;\">\n",
       "      <th></th>\n",
       "      <th>Month</th>\n",
       "      <th>Passengers</th>\n",
       "      <th>month</th>\n",
       "      <th>year</th>\n",
       "    </tr>\n",
       "  </thead>\n",
       "  <tbody>\n",
       "    <tr>\n",
       "      <th>0</th>\n",
       "      <td>1995-01-01</td>\n",
       "      <td>112</td>\n",
       "      <td>Jan</td>\n",
       "      <td>1995</td>\n",
       "    </tr>\n",
       "    <tr>\n",
       "      <th>1</th>\n",
       "      <td>1995-02-01</td>\n",
       "      <td>118</td>\n",
       "      <td>Feb</td>\n",
       "      <td>1995</td>\n",
       "    </tr>\n",
       "    <tr>\n",
       "      <th>2</th>\n",
       "      <td>1995-03-01</td>\n",
       "      <td>132</td>\n",
       "      <td>Mar</td>\n",
       "      <td>1995</td>\n",
       "    </tr>\n",
       "    <tr>\n",
       "      <th>3</th>\n",
       "      <td>1995-04-01</td>\n",
       "      <td>129</td>\n",
       "      <td>Apr</td>\n",
       "      <td>1995</td>\n",
       "    </tr>\n",
       "    <tr>\n",
       "      <th>4</th>\n",
       "      <td>1995-05-01</td>\n",
       "      <td>121</td>\n",
       "      <td>May</td>\n",
       "      <td>1995</td>\n",
       "    </tr>\n",
       "  </tbody>\n",
       "</table>\n",
       "</div>"
      ],
      "text/plain": [
       "       Month  Passengers month  year\n",
       "0 1995-01-01         112   Jan  1995\n",
       "1 1995-02-01         118   Feb  1995\n",
       "2 1995-03-01         132   Mar  1995\n",
       "3 1995-04-01         129   Apr  1995\n",
       "4 1995-05-01         121   May  1995"
      ]
     },
     "execution_count": 12,
     "metadata": {},
     "output_type": "execute_result"
    }
   ],
   "source": [
    "#Extracting month and year into separate columns\n",
    "airlines_data = airlines_df.copy()\n",
    "airlines_data['month'] = airlines_data.Month.dt.strftime(\"%b\")\n",
    "airlines_data['year'] = airlines_data.Month.dt.strftime(\"%Y\")\n",
    "airlines_data.head()"
   ]
  },
  {
   "cell_type": "code",
   "execution_count": 13,
   "id": "f0987d67",
   "metadata": {
    "ExecuteTime": {
     "end_time": "2023-01-14T06:57:50.904079Z",
     "start_time": "2023-01-14T06:57:50.453003Z"
    }
   },
   "outputs": [
    {
     "data": {
      "text/plain": [
       "<AxesSubplot: xlabel='month', ylabel='Passengers'>"
      ]
     },
     "execution_count": 13,
     "metadata": {},
     "output_type": "execute_result"
    },
    {
     "data": {
      "image/png": "[encoded data removed]",
      "text/plain": [
       "<Figure size 640x480 with 1 Axes>"
      ]
     },
     "metadata": {},
     "output_type": "display_data"
    }
   ],
   "source": [
    "sns.boxplot(x='month',y='Passengers',data=airlines_data)"
   ]
  },
  {
   "cell_type": "code",
   "execution_count": 14,
   "id": "cd8fd0e2",
   "metadata": {
    "ExecuteTime": {
     "end_time": "2023-01-14T06:57:51.182718Z",
     "start_time": "2023-01-14T06:57:50.908855Z"
    }
   },
   "outputs": [
    {
     "data": {
      "text/plain": [
       "<AxesSubplot: xlabel='year', ylabel='Passengers'>"
      ]
     },
     "execution_count": 14,
     "metadata": {},
     "output_type": "execute_result"
    },
    {
     "data": {
      "image/png": "[encoded data removed]",
      "text/plain": [
       "<Figure size 640x480 with 1 Axes>"
      ]
     },
     "metadata": {},
     "output_type": "display_data"
    }
   ],
   "source": [
    "sns.boxplot(x='year',y='Passengers',data=airlines_data)"
   ]
  },
  {
   "cell_type": "code",
   "execution_count": 15,
   "id": "01e7714c",
   "metadata": {
    "ExecuteTime": {
     "end_time": "2023-01-14T06:57:51.638880Z",
     "start_time": "2023-01-14T06:57:51.186398Z"
    }
   },
   "outputs": [
    {
     "data": {
      "text/plain": [
       "<AxesSubplot: xlabel='year', ylabel='Passengers'>"
      ]
     },
     "execution_count": 15,
     "metadata": {},
     "output_type": "execute_result"
    },
    {
     "data": {
      "image/png": "[encoded data removed]",
      "text/plain": [
       "<Figure size 640x480 with 1 Axes>"
      ]
     },
     "metadata": {},
     "output_type": "display_data"
    }
   ],
   "source": [
    "#lineplot\n",
    "sns.lineplot(x='year',y='Passengers',data=airlines_data)"
   ]
  },
  {
   "cell_type": "code",
   "execution_count": 16,
   "id": "594317d2",
   "metadata": {
    "ExecuteTime": {
     "end_time": "2023-01-14T06:57:52.242007Z",
     "start_time": "2023-01-14T06:57:51.641678Z"
    }
   },
   "outputs": [
    {
     "data": {
      "text/plain": [
       "<AxesSubplot: xlabel='month', ylabel='Passengers'>"
      ]
     },
     "execution_count": 16,
     "metadata": {},
     "output_type": "execute_result"
    },
    {
     "data": {
      "image/png": "[encoded data removed]",
      "text/plain": [
       "<Figure size 640x480 with 1 Axes>"
      ]
     },
     "metadata": {},
     "output_type": "display_data"
    }
   ],
   "source": [
    "sns.lineplot(x='month',y='Passengers',data=airlines_data)"
   ]
  },
  {
   "cell_type": "code",
   "execution_count": 17,
   "id": "25d2d725",
   "metadata": {
    "ExecuteTime": {
     "end_time": "2023-01-14T06:57:52.442843Z",
     "start_time": "2023-01-14T06:57:52.252031Z"
    }
   },
   "outputs": [
    {
     "data": {
      "text/plain": [
       "<matplotlib.legend.Legend at 0x7ff7a0ed3b80>"
      ]
     },
     "execution_count": 17,
     "metadata": {},
     "output_type": "execute_result"
    },
    {
     "data": {
      "image/png": "[encoded data removed]",
      "text/plain": [
       "<Figure size 640x480 with 1 Axes>"
      ]
     },
     "metadata": {},
     "output_type": "display_data"
    }
   ],
   "source": [
    "#Moving Average\n",
    "for i in range(2,30,8):\n",
    "    airlines_data[\"Passengers\"].rolling(i).mean().plot(label=str(i))\n",
    "plt.legend(loc='best')"
   ]
  },
  {
   "cell_type": "code",
   "execution_count": 18,
   "id": "3042a930",
   "metadata": {
    "ExecuteTime": {
     "end_time": "2023-01-14T06:57:53.016795Z",
     "start_time": "2023-01-14T06:57:52.446552Z"
    }
   },
   "outputs": [
    {
     "data": {
      "image/png": "[encoded data removed]",
      "text/plain": [
       "<Figure size 640x480 with 4 Axes>"
      ]
     },
     "metadata": {},
     "output_type": "display_data"
    }
   ],
   "source": [
    "#TimeSeries Decomposition plot\n",
    "from statsmodels.tsa.seasonal import seasonal_decompose\n",
    "decompose_ts_add = seasonal_decompose(airlines_data.Passengers,period=12)\n",
    "decompose_ts_add.plot()\n",
    "plt.show()"
   ]
  },
  {
   "cell_type": "code",
   "execution_count": 19,
   "id": "f416adc9",
   "metadata": {
    "ExecuteTime": {
     "end_time": "2023-01-14T06:57:53.333798Z",
     "start_time": "2023-01-14T06:57:53.020034Z"
    }
   },
   "outputs": [
    {
     "data": {
      "image/png": "[encoded data removed]",
      "text/plain": [
       "<Figure size 640x480 with 1 Axes>"
      ]
     },
     "metadata": {},
     "output_type": "display_data"
    }
   ],
   "source": [
    "#ACF plot\n",
    "from statsmodels.graphics.tsaplots import plot_acf,plot_pacf\n",
    "acf = plot_acf(airlines_data['Passengers'])"
   ]
  },
  {
   "cell_type": "code",
   "execution_count": 20,
   "id": "b8b1d8e0",
   "metadata": {
    "ExecuteTime": {
     "end_time": "2023-01-14T06:57:53.538473Z",
     "start_time": "2023-01-14T06:57:53.339307Z"
    }
   },
   "outputs": [
    {
     "data": {
      "image/png": "[encoded data removed]",
      "text/plain": [
       "<Figure size 640x480 with 1 Axes>"
      ]
     },
     "metadata": {},
     "output_type": "display_data"
    }
   ],
   "source": [
    "#PACF plot\n",
    "pacf = plot_pacf(airlines_data['Passengers'])"
   ]
  },
  {
   "cell_type": "code",
   "execution_count": 21,
   "id": "2f37ec71",
   "metadata": {
    "ExecuteTime": {
     "end_time": "2023-01-14T06:57:53.583343Z",
     "start_time": "2023-01-14T06:57:53.547990Z"
    }
   },
   "outputs": [
    {
     "data": {
      "text/html": [
       "<div>\n",
       "<style scoped>\n",
       "    .dataframe tbody tr th:only-of-type {\n",
       "        vertical-align: middle;\n",
       "    }\n",
       "\n",
       "    .dataframe tbody tr th {\n",
       "        vertical-align: top;\n",
       "    }\n",
       "\n",
       "    .dataframe thead th {\n",
       "        text-align: right;\n",
       "    }\n",
       "</style>\n",
       "<table border=\"1\" class=\"dataframe\">\n",
       "  <thead>\n",
       "    <tr style=\"text-align: right;\">\n",
       "      <th></th>\n",
       "      <th>Month</th>\n",
       "      <th>Passengers</th>\n",
       "      <th>month</th>\n",
       "      <th>year</th>\n",
       "    </tr>\n",
       "  </thead>\n",
       "  <tbody>\n",
       "    <tr>\n",
       "      <th>0</th>\n",
       "      <td>1995-01-01</td>\n",
       "      <td>112</td>\n",
       "      <td>Jan</td>\n",
       "      <td>1995</td>\n",
       "    </tr>\n",
       "    <tr>\n",
       "      <th>1</th>\n",
       "      <td>1995-02-01</td>\n",
       "      <td>118</td>\n",
       "      <td>Feb</td>\n",
       "      <td>1995</td>\n",
       "    </tr>\n",
       "    <tr>\n",
       "      <th>2</th>\n",
       "      <td>1995-03-01</td>\n",
       "      <td>132</td>\n",
       "      <td>Mar</td>\n",
       "      <td>1995</td>\n",
       "    </tr>\n",
       "    <tr>\n",
       "      <th>3</th>\n",
       "      <td>1995-04-01</td>\n",
       "      <td>129</td>\n",
       "      <td>Apr</td>\n",
       "      <td>1995</td>\n",
       "    </tr>\n",
       "    <tr>\n",
       "      <th>4</th>\n",
       "      <td>1995-05-01</td>\n",
       "      <td>121</td>\n",
       "      <td>May</td>\n",
       "      <td>1995</td>\n",
       "    </tr>\n",
       "  </tbody>\n",
       "</table>\n",
       "</div>"
      ],
      "text/plain": [
       "       Month  Passengers month  year\n",
       "0 1995-01-01         112   Jan  1995\n",
       "1 1995-02-01         118   Feb  1995\n",
       "2 1995-03-01         132   Mar  1995\n",
       "3 1995-04-01         129   Apr  1995\n",
       "4 1995-05-01         121   May  1995"
      ]
     },
     "execution_count": 21,
     "metadata": {},
     "output_type": "execute_result"
    }
   ],
   "source": [
    "airlines_data.head()"
   ]
  },
  {
   "cell_type": "code",
   "execution_count": 22,
   "id": "848e6a2d",
   "metadata": {
    "ExecuteTime": {
     "end_time": "2023-01-14T06:57:53.597111Z",
     "start_time": "2023-01-14T06:57:53.587844Z"
    }
   },
   "outputs": [],
   "source": [
    "#Creating dummy values for month\n",
    "airlines_data['year'] = airlines_data['year'].astype('int64')"
   ]
  },
  {
   "cell_type": "code",
   "execution_count": 23,
   "id": "ea8441b8",
   "metadata": {
    "ExecuteTime": {
     "end_time": "2023-01-14T06:57:53.619130Z",
     "start_time": "2023-01-14T06:57:53.607017Z"
    }
   },
   "outputs": [],
   "source": [
    "airlines_data_1 = pd.get_dummies(airlines_data)"
   ]
  },
  {
   "cell_type": "code",
   "execution_count": 24,
   "id": "7be0a7c4",
   "metadata": {
    "ExecuteTime": {
     "end_time": "2023-01-14T06:57:53.642660Z",
     "start_time": "2023-01-14T06:57:53.623173Z"
    }
   },
   "outputs": [
    {
     "data": {
      "text/html": [
       "<div>\n",
       "<style scoped>\n",
       "    .dataframe tbody tr th:only-of-type {\n",
       "        vertical-align: middle;\n",
       "    }\n",
       "\n",
       "    .dataframe tbody tr th {\n",
       "        vertical-align: top;\n",
       "    }\n",
       "\n",
       "    .dataframe thead th {\n",
       "        text-align: right;\n",
       "    }\n",
       "</style>\n",
       "<table border=\"1\" class=\"dataframe\">\n",
       "  <thead>\n",
       "    <tr style=\"text-align: right;\">\n",
       "      <th></th>\n",
       "      <th>Month</th>\n",
       "      <th>Passengers</th>\n",
       "      <th>year</th>\n",
       "      <th>month_Apr</th>\n",
       "      <th>month_Aug</th>\n",
       "      <th>month_Dec</th>\n",
       "      <th>month_Feb</th>\n",
       "      <th>month_Jan</th>\n",
       "      <th>month_Jul</th>\n",
       "      <th>month_Jun</th>\n",
       "      <th>month_Mar</th>\n",
       "      <th>month_May</th>\n",
       "      <th>month_Nov</th>\n",
       "      <th>month_Oct</th>\n",
       "      <th>month_Sep</th>\n",
       "    </tr>\n",
       "  </thead>\n",
       "  <tbody>\n",
       "    <tr>\n",
       "      <th>0</th>\n",
       "      <td>1995-01-01</td>\n",
       "      <td>112</td>\n",
       "      <td>1995</td>\n",
       "      <td>0</td>\n",
       "      <td>0</td>\n",
       "      <td>0</td>\n",
       "      <td>0</td>\n",
       "      <td>1</td>\n",
       "      <td>0</td>\n",
       "      <td>0</td>\n",
       "      <td>0</td>\n",
       "      <td>0</td>\n",
       "      <td>0</td>\n",
       "      <td>0</td>\n",
       "      <td>0</td>\n",
       "    </tr>\n",
       "    <tr>\n",
       "      <th>1</th>\n",
       "      <td>1995-02-01</td>\n",
       "      <td>118</td>\n",
       "      <td>1995</td>\n",
       "      <td>0</td>\n",
       "      <td>0</td>\n",
       "      <td>0</td>\n",
       "      <td>1</td>\n",
       "      <td>0</td>\n",
       "      <td>0</td>\n",
       "      <td>0</td>\n",
       "      <td>0</td>\n",
       "      <td>0</td>\n",
       "      <td>0</td>\n",
       "      <td>0</td>\n",
       "      <td>0</td>\n",
       "    </tr>\n",
       "    <tr>\n",
       "      <th>2</th>\n",
       "      <td>1995-03-01</td>\n",
       "      <td>132</td>\n",
       "      <td>1995</td>\n",
       "      <td>0</td>\n",
       "      <td>0</td>\n",
       "      <td>0</td>\n",
       "      <td>0</td>\n",
       "      <td>0</td>\n",
       "      <td>0</td>\n",
       "      <td>0</td>\n",
       "      <td>1</td>\n",
       "      <td>0</td>\n",
       "      <td>0</td>\n",
       "      <td>0</td>\n",
       "      <td>0</td>\n",
       "    </tr>\n",
       "    <tr>\n",
       "      <th>3</th>\n",
       "      <td>1995-04-01</td>\n",
       "      <td>129</td>\n",
       "      <td>1995</td>\n",
       "      <td>1</td>\n",
       "      <td>0</td>\n",
       "      <td>0</td>\n",
       "      <td>0</td>\n",
       "      <td>0</td>\n",
       "      <td>0</td>\n",
       "      <td>0</td>\n",
       "      <td>0</td>\n",
       "      <td>0</td>\n",
       "      <td>0</td>\n",
       "      <td>0</td>\n",
       "      <td>0</td>\n",
       "    </tr>\n",
       "    <tr>\n",
       "      <th>4</th>\n",
       "      <td>1995-05-01</td>\n",
       "      <td>121</td>\n",
       "      <td>1995</td>\n",
       "      <td>0</td>\n",
       "      <td>0</td>\n",
       "      <td>0</td>\n",
       "      <td>0</td>\n",
       "      <td>0</td>\n",
       "      <td>0</td>\n",
       "      <td>0</td>\n",
       "      <td>0</td>\n",
       "      <td>1</td>\n",
       "      <td>0</td>\n",
       "      <td>0</td>\n",
       "      <td>0</td>\n",
       "    </tr>\n",
       "    <tr>\n",
       "      <th>...</th>\n",
       "      <td>...</td>\n",
       "      <td>...</td>\n",
       "      <td>...</td>\n",
       "      <td>...</td>\n",
       "      <td>...</td>\n",
       "      <td>...</td>\n",
       "      <td>...</td>\n",
       "      <td>...</td>\n",
       "      <td>...</td>\n",
       "      <td>...</td>\n",
       "      <td>...</td>\n",
       "      <td>...</td>\n",
       "      <td>...</td>\n",
       "      <td>...</td>\n",
       "      <td>...</td>\n",
       "    </tr>\n",
       "    <tr>\n",
       "      <th>91</th>\n",
       "      <td>2002-08-01</td>\n",
       "      <td>405</td>\n",
       "      <td>2002</td>\n",
       "      <td>0</td>\n",
       "      <td>1</td>\n",
       "      <td>0</td>\n",
       "      <td>0</td>\n",
       "      <td>0</td>\n",
       "      <td>0</td>\n",
       "      <td>0</td>\n",
       "      <td>0</td>\n",
       "      <td>0</td>\n",
       "      <td>0</td>\n",
       "      <td>0</td>\n",
       "      <td>0</td>\n",
       "    </tr>\n",
       "    <tr>\n",
       "      <th>92</th>\n",
       "      <td>2002-09-01</td>\n",
       "      <td>355</td>\n",
       "      <td>2002</td>\n",
       "      <td>0</td>\n",
       "      <td>0</td>\n",
       "      <td>0</td>\n",
       "      <td>0</td>\n",
       "      <td>0</td>\n",
       "      <td>0</td>\n",
       "      <td>0</td>\n",
       "      <td>0</td>\n",
       "      <td>0</td>\n",
       "      <td>0</td>\n",
       "      <td>0</td>\n",
       "      <td>1</td>\n",
       "    </tr>\n",
       "    <tr>\n",
       "      <th>93</th>\n",
       "      <td>2002-10-01</td>\n",
       "      <td>306</td>\n",
       "      <td>2002</td>\n",
       "      <td>0</td>\n",
       "      <td>0</td>\n",
       "      <td>0</td>\n",
       "      <td>0</td>\n",
       "      <td>0</td>\n",
       "      <td>0</td>\n",
       "      <td>0</td>\n",
       "      <td>0</td>\n",
       "      <td>0</td>\n",
       "      <td>0</td>\n",
       "      <td>1</td>\n",
       "      <td>0</td>\n",
       "    </tr>\n",
       "    <tr>\n",
       "      <th>94</th>\n",
       "      <td>2002-11-01</td>\n",
       "      <td>271</td>\n",
       "      <td>2002</td>\n",
       "      <td>0</td>\n",
       "      <td>0</td>\n",
       "      <td>0</td>\n",
       "      <td>0</td>\n",
       "      <td>0</td>\n",
       "      <td>0</td>\n",
       "      <td>0</td>\n",
       "      <td>0</td>\n",
       "      <td>0</td>\n",
       "      <td>1</td>\n",
       "      <td>0</td>\n",
       "      <td>0</td>\n",
       "    </tr>\n",
       "    <tr>\n",
       "      <th>95</th>\n",
       "      <td>2002-12-01</td>\n",
       "      <td>306</td>\n",
       "      <td>2002</td>\n",
       "      <td>0</td>\n",
       "      <td>0</td>\n",
       "      <td>1</td>\n",
       "      <td>0</td>\n",
       "      <td>0</td>\n",
       "      <td>0</td>\n",
       "      <td>0</td>\n",
       "      <td>0</td>\n",
       "      <td>0</td>\n",
       "      <td>0</td>\n",
       "      <td>0</td>\n",
       "      <td>0</td>\n",
       "    </tr>\n",
       "  </tbody>\n",
       "</table>\n",
       "<p>96 rows × 15 columns</p>\n",
       "</div>"
      ],
      "text/plain": [
       "        Month  Passengers  year  month_Apr  month_Aug  month_Dec  month_Feb  \\\n",
       "0  1995-01-01         112  1995          0          0          0          0   \n",
       "1  1995-02-01         118  1995          0          0          0          1   \n",
       "2  1995-03-01         132  1995          0          0          0          0   \n",
       "3  1995-04-01         129  1995          1          0          0          0   \n",
       "4  1995-05-01         121  1995          0          0          0          0   \n",
       "..        ...         ...   ...        ...        ...        ...        ...   \n",
       "91 2002-08-01         405  2002          0          1          0          0   \n",
       "92 2002-09-01         355  2002          0          0          0          0   \n",
       "93 2002-10-01         306  2002          0          0          0          0   \n",
       "94 2002-11-01         271  2002          0          0          0          0   \n",
       "95 2002-12-01         306  2002          0          0          1          0   \n",
       "\n",
       "    month_Jan  month_Jul  month_Jun  month_Mar  month_May  month_Nov  \\\n",
       "0           1          0          0          0          0          0   \n",
       "1           0          0          0          0          0          0   \n",
       "2           0          0          0          1          0          0   \n",
       "3           0          0          0          0          0          0   \n",
       "4           0          0          0          0          1          0   \n",
       "..        ...        ...        ...        ...        ...        ...   \n",
       "91          0          0          0          0          0          0   \n",
       "92          0          0          0          0          0          0   \n",
       "93          0          0          0          0          0          0   \n",
       "94          0          0          0          0          0          1   \n",
       "95          0          0          0          0          0          0   \n",
       "\n",
       "    month_Oct  month_Sep  \n",
       "0           0          0  \n",
       "1           0          0  \n",
       "2           0          0  \n",
       "3           0          0  \n",
       "4           0          0  \n",
       "..        ...        ...  \n",
       "91          0          0  \n",
       "92          0          1  \n",
       "93          1          0  \n",
       "94          0          0  \n",
       "95          0          0  \n",
       "\n",
       "[96 rows x 15 columns]"
      ]
     },
     "execution_count": 24,
     "metadata": {},
     "output_type": "execute_result"
    }
   ],
   "source": [
    "airlines_data_1"
   ]
  },
  {
   "cell_type": "code",
   "execution_count": 25,
   "id": "b2e792b9",
   "metadata": {
    "ExecuteTime": {
     "end_time": "2023-01-14T06:57:53.649323Z",
     "start_time": "2023-01-14T06:57:53.645554Z"
    }
   },
   "outputs": [],
   "source": [
    "x = np.arange(1,97)"
   ]
  },
  {
   "cell_type": "code",
   "execution_count": 26,
   "id": "ae7e41d2",
   "metadata": {
    "ExecuteTime": {
     "end_time": "2023-01-14T06:57:53.662692Z",
     "start_time": "2023-01-14T06:57:53.654040Z"
    }
   },
   "outputs": [
    {
     "data": {
      "text/plain": [
       "0      1\n",
       "1      2\n",
       "2      3\n",
       "3      4\n",
       "4      5\n",
       "      ..\n",
       "91    92\n",
       "92    93\n",
       "93    94\n",
       "94    95\n",
       "95    96\n",
       "Length: 96, dtype: int64"
      ]
     },
     "execution_count": 26,
     "metadata": {},
     "output_type": "execute_result"
    }
   ],
   "source": [
    "#timesteps \n",
    "t = pd.Series(data=x)\n",
    "t"
   ]
  },
  {
   "cell_type": "code",
   "execution_count": 27,
   "id": "f74aed10",
   "metadata": {
    "ExecuteTime": {
     "end_time": "2023-01-14T06:57:53.672951Z",
     "start_time": "2023-01-14T06:57:53.665685Z"
    }
   },
   "outputs": [
    {
     "data": {
      "text/plain": [
       "0        1\n",
       "1        4\n",
       "2        9\n",
       "3       16\n",
       "4       25\n",
       "      ... \n",
       "91    8464\n",
       "92    8649\n",
       "93    8836\n",
       "94    9025\n",
       "95    9216\n",
       "Length: 96, dtype: int64"
      ]
     },
     "execution_count": 27,
     "metadata": {},
     "output_type": "execute_result"
    }
   ],
   "source": [
    "t_sqr = pd.Series(data=(x*x))\n",
    "t_sqr"
   ]
  },
  {
   "cell_type": "code",
   "execution_count": 28,
   "id": "30afc23e",
   "metadata": {
    "ExecuteTime": {
     "end_time": "2023-01-14T06:57:53.681815Z",
     "start_time": "2023-01-14T06:57:53.676760Z"
    }
   },
   "outputs": [],
   "source": [
    "#log of no_of_passengers\n",
    "airlines_data_1['log_passengers'] = np.log(airlines_data_1['Passengers'])\n",
    "airlines_data_1['t'] = t\n",
    "airlines_data_1['t_sqr'] = t_sqr"
   ]
  },
  {
   "cell_type": "code",
   "execution_count": 29,
   "id": "ed4027af",
   "metadata": {
    "ExecuteTime": {
     "end_time": "2023-01-14T06:57:53.707860Z",
     "start_time": "2023-01-14T06:57:53.687580Z"
    }
   },
   "outputs": [
    {
     "data": {
      "text/html": [
       "<div>\n",
       "<style scoped>\n",
       "    .dataframe tbody tr th:only-of-type {\n",
       "        vertical-align: middle;\n",
       "    }\n",
       "\n",
       "    .dataframe tbody tr th {\n",
       "        vertical-align: top;\n",
       "    }\n",
       "\n",
       "    .dataframe thead th {\n",
       "        text-align: right;\n",
       "    }\n",
       "</style>\n",
       "<table border=\"1\" class=\"dataframe\">\n",
       "  <thead>\n",
       "    <tr style=\"text-align: right;\">\n",
       "      <th></th>\n",
       "      <th>Month</th>\n",
       "      <th>Passengers</th>\n",
       "      <th>year</th>\n",
       "      <th>month_Apr</th>\n",
       "      <th>month_Aug</th>\n",
       "      <th>month_Dec</th>\n",
       "      <th>month_Feb</th>\n",
       "      <th>month_Jan</th>\n",
       "      <th>month_Jul</th>\n",
       "      <th>month_Jun</th>\n",
       "      <th>month_Mar</th>\n",
       "      <th>month_May</th>\n",
       "      <th>month_Nov</th>\n",
       "      <th>month_Oct</th>\n",
       "      <th>month_Sep</th>\n",
       "      <th>log_passengers</th>\n",
       "      <th>t</th>\n",
       "      <th>t_sqr</th>\n",
       "    </tr>\n",
       "  </thead>\n",
       "  <tbody>\n",
       "    <tr>\n",
       "      <th>0</th>\n",
       "      <td>1995-01-01</td>\n",
       "      <td>112</td>\n",
       "      <td>1995</td>\n",
       "      <td>0</td>\n",
       "      <td>0</td>\n",
       "      <td>0</td>\n",
       "      <td>0</td>\n",
       "      <td>1</td>\n",
       "      <td>0</td>\n",
       "      <td>0</td>\n",
       "      <td>0</td>\n",
       "      <td>0</td>\n",
       "      <td>0</td>\n",
       "      <td>0</td>\n",
       "      <td>0</td>\n",
       "      <td>4.718499</td>\n",
       "      <td>1</td>\n",
       "      <td>1</td>\n",
       "    </tr>\n",
       "    <tr>\n",
       "      <th>1</th>\n",
       "      <td>1995-02-01</td>\n",
       "      <td>118</td>\n",
       "      <td>1995</td>\n",
       "      <td>0</td>\n",
       "      <td>0</td>\n",
       "      <td>0</td>\n",
       "      <td>1</td>\n",
       "      <td>0</td>\n",
       "      <td>0</td>\n",
       "      <td>0</td>\n",
       "      <td>0</td>\n",
       "      <td>0</td>\n",
       "      <td>0</td>\n",
       "      <td>0</td>\n",
       "      <td>0</td>\n",
       "      <td>4.770685</td>\n",
       "      <td>2</td>\n",
       "      <td>4</td>\n",
       "    </tr>\n",
       "    <tr>\n",
       "      <th>2</th>\n",
       "      <td>1995-03-01</td>\n",
       "      <td>132</td>\n",
       "      <td>1995</td>\n",
       "      <td>0</td>\n",
       "      <td>0</td>\n",
       "      <td>0</td>\n",
       "      <td>0</td>\n",
       "      <td>0</td>\n",
       "      <td>0</td>\n",
       "      <td>0</td>\n",
       "      <td>1</td>\n",
       "      <td>0</td>\n",
       "      <td>0</td>\n",
       "      <td>0</td>\n",
       "      <td>0</td>\n",
       "      <td>4.882802</td>\n",
       "      <td>3</td>\n",
       "      <td>9</td>\n",
       "    </tr>\n",
       "    <tr>\n",
       "      <th>3</th>\n",
       "      <td>1995-04-01</td>\n",
       "      <td>129</td>\n",
       "      <td>1995</td>\n",
       "      <td>1</td>\n",
       "      <td>0</td>\n",
       "      <td>0</td>\n",
       "      <td>0</td>\n",
       "      <td>0</td>\n",
       "      <td>0</td>\n",
       "      <td>0</td>\n",
       "      <td>0</td>\n",
       "      <td>0</td>\n",
       "      <td>0</td>\n",
       "      <td>0</td>\n",
       "      <td>0</td>\n",
       "      <td>4.859812</td>\n",
       "      <td>4</td>\n",
       "      <td>16</td>\n",
       "    </tr>\n",
       "    <tr>\n",
       "      <th>4</th>\n",
       "      <td>1995-05-01</td>\n",
       "      <td>121</td>\n",
       "      <td>1995</td>\n",
       "      <td>0</td>\n",
       "      <td>0</td>\n",
       "      <td>0</td>\n",
       "      <td>0</td>\n",
       "      <td>0</td>\n",
       "      <td>0</td>\n",
       "      <td>0</td>\n",
       "      <td>0</td>\n",
       "      <td>1</td>\n",
       "      <td>0</td>\n",
       "      <td>0</td>\n",
       "      <td>0</td>\n",
       "      <td>4.795791</td>\n",
       "      <td>5</td>\n",
       "      <td>25</td>\n",
       "    </tr>\n",
       "  </tbody>\n",
       "</table>\n",
       "</div>"
      ],
      "text/plain": [
       "       Month  Passengers  year  month_Apr  month_Aug  month_Dec  month_Feb  \\\n",
       "0 1995-01-01         112  1995          0          0          0          0   \n",
       "1 1995-02-01         118  1995          0          0          0          1   \n",
       "2 1995-03-01         132  1995          0          0          0          0   \n",
       "3 1995-04-01         129  1995          1          0          0          0   \n",
       "4 1995-05-01         121  1995          0          0          0          0   \n",
       "\n",
       "   month_Jan  month_Jul  month_Jun  month_Mar  month_May  month_Nov  \\\n",
       "0          1          0          0          0          0          0   \n",
       "1          0          0          0          0          0          0   \n",
       "2          0          0          0          1          0          0   \n",
       "3          0          0          0          0          0          0   \n",
       "4          0          0          0          0          1          0   \n",
       "\n",
       "   month_Oct  month_Sep  log_passengers  t  t_sqr  \n",
       "0          0          0        4.718499  1      1  \n",
       "1          0          0        4.770685  2      4  \n",
       "2          0          0        4.882802  3      9  \n",
       "3          0          0        4.859812  4     16  \n",
       "4          0          0        4.795791  5     25  "
      ]
     },
     "execution_count": 29,
     "metadata": {},
     "output_type": "execute_result"
    }
   ],
   "source": [
    "airlines_data_1.head()"
   ]
  },
  {
   "cell_type": "code",
   "execution_count": 30,
   "id": "e996db66",
   "metadata": {
    "ExecuteTime": {
     "end_time": "2023-01-14T06:57:53.717156Z",
     "start_time": "2023-01-14T06:57:53.712462Z"
    }
   },
   "outputs": [],
   "source": [
    "#Splitting the data\n",
    "train = airlines_data_1[:84]\n",
    "test = airlines_data_1[84:]"
   ]
  },
  {
   "cell_type": "code",
   "execution_count": 31,
   "id": "6fc35464",
   "metadata": {
    "ExecuteTime": {
     "end_time": "2023-01-14T06:57:53.747612Z",
     "start_time": "2023-01-14T06:57:53.722929Z"
    }
   },
   "outputs": [
    {
     "data": {
      "text/html": [
       "<div>\n",
       "<style scoped>\n",
       "    .dataframe tbody tr th:only-of-type {\n",
       "        vertical-align: middle;\n",
       "    }\n",
       "\n",
       "    .dataframe tbody tr th {\n",
       "        vertical-align: top;\n",
       "    }\n",
       "\n",
       "    .dataframe thead th {\n",
       "        text-align: right;\n",
       "    }\n",
       "</style>\n",
       "<table border=\"1\" class=\"dataframe\">\n",
       "  <thead>\n",
       "    <tr style=\"text-align: right;\">\n",
       "      <th></th>\n",
       "      <th>Month</th>\n",
       "      <th>Passengers</th>\n",
       "      <th>year</th>\n",
       "      <th>month_Apr</th>\n",
       "      <th>month_Aug</th>\n",
       "      <th>month_Dec</th>\n",
       "      <th>month_Feb</th>\n",
       "      <th>month_Jan</th>\n",
       "      <th>month_Jul</th>\n",
       "      <th>month_Jun</th>\n",
       "      <th>month_Mar</th>\n",
       "      <th>month_May</th>\n",
       "      <th>month_Nov</th>\n",
       "      <th>month_Oct</th>\n",
       "      <th>month_Sep</th>\n",
       "      <th>log_passengers</th>\n",
       "      <th>t</th>\n",
       "      <th>t_sqr</th>\n",
       "    </tr>\n",
       "  </thead>\n",
       "  <tbody>\n",
       "    <tr>\n",
       "      <th>0</th>\n",
       "      <td>1995-01-01</td>\n",
       "      <td>112</td>\n",
       "      <td>1995</td>\n",
       "      <td>0</td>\n",
       "      <td>0</td>\n",
       "      <td>0</td>\n",
       "      <td>0</td>\n",
       "      <td>1</td>\n",
       "      <td>0</td>\n",
       "      <td>0</td>\n",
       "      <td>0</td>\n",
       "      <td>0</td>\n",
       "      <td>0</td>\n",
       "      <td>0</td>\n",
       "      <td>0</td>\n",
       "      <td>4.718499</td>\n",
       "      <td>1</td>\n",
       "      <td>1</td>\n",
       "    </tr>\n",
       "    <tr>\n",
       "      <th>1</th>\n",
       "      <td>1995-02-01</td>\n",
       "      <td>118</td>\n",
       "      <td>1995</td>\n",
       "      <td>0</td>\n",
       "      <td>0</td>\n",
       "      <td>0</td>\n",
       "      <td>1</td>\n",
       "      <td>0</td>\n",
       "      <td>0</td>\n",
       "      <td>0</td>\n",
       "      <td>0</td>\n",
       "      <td>0</td>\n",
       "      <td>0</td>\n",
       "      <td>0</td>\n",
       "      <td>0</td>\n",
       "      <td>4.770685</td>\n",
       "      <td>2</td>\n",
       "      <td>4</td>\n",
       "    </tr>\n",
       "    <tr>\n",
       "      <th>2</th>\n",
       "      <td>1995-03-01</td>\n",
       "      <td>132</td>\n",
       "      <td>1995</td>\n",
       "      <td>0</td>\n",
       "      <td>0</td>\n",
       "      <td>0</td>\n",
       "      <td>0</td>\n",
       "      <td>0</td>\n",
       "      <td>0</td>\n",
       "      <td>0</td>\n",
       "      <td>1</td>\n",
       "      <td>0</td>\n",
       "      <td>0</td>\n",
       "      <td>0</td>\n",
       "      <td>0</td>\n",
       "      <td>4.882802</td>\n",
       "      <td>3</td>\n",
       "      <td>9</td>\n",
       "    </tr>\n",
       "    <tr>\n",
       "      <th>3</th>\n",
       "      <td>1995-04-01</td>\n",
       "      <td>129</td>\n",
       "      <td>1995</td>\n",
       "      <td>1</td>\n",
       "      <td>0</td>\n",
       "      <td>0</td>\n",
       "      <td>0</td>\n",
       "      <td>0</td>\n",
       "      <td>0</td>\n",
       "      <td>0</td>\n",
       "      <td>0</td>\n",
       "      <td>0</td>\n",
       "      <td>0</td>\n",
       "      <td>0</td>\n",
       "      <td>0</td>\n",
       "      <td>4.859812</td>\n",
       "      <td>4</td>\n",
       "      <td>16</td>\n",
       "    </tr>\n",
       "    <tr>\n",
       "      <th>4</th>\n",
       "      <td>1995-05-01</td>\n",
       "      <td>121</td>\n",
       "      <td>1995</td>\n",
       "      <td>0</td>\n",
       "      <td>0</td>\n",
       "      <td>0</td>\n",
       "      <td>0</td>\n",
       "      <td>0</td>\n",
       "      <td>0</td>\n",
       "      <td>0</td>\n",
       "      <td>0</td>\n",
       "      <td>1</td>\n",
       "      <td>0</td>\n",
       "      <td>0</td>\n",
       "      <td>0</td>\n",
       "      <td>4.795791</td>\n",
       "      <td>5</td>\n",
       "      <td>25</td>\n",
       "    </tr>\n",
       "    <tr>\n",
       "      <th>...</th>\n",
       "      <td>...</td>\n",
       "      <td>...</td>\n",
       "      <td>...</td>\n",
       "      <td>...</td>\n",
       "      <td>...</td>\n",
       "      <td>...</td>\n",
       "      <td>...</td>\n",
       "      <td>...</td>\n",
       "      <td>...</td>\n",
       "      <td>...</td>\n",
       "      <td>...</td>\n",
       "      <td>...</td>\n",
       "      <td>...</td>\n",
       "      <td>...</td>\n",
       "      <td>...</td>\n",
       "      <td>...</td>\n",
       "      <td>...</td>\n",
       "      <td>...</td>\n",
       "    </tr>\n",
       "    <tr>\n",
       "      <th>79</th>\n",
       "      <td>2001-08-01</td>\n",
       "      <td>347</td>\n",
       "      <td>2001</td>\n",
       "      <td>0</td>\n",
       "      <td>1</td>\n",
       "      <td>0</td>\n",
       "      <td>0</td>\n",
       "      <td>0</td>\n",
       "      <td>0</td>\n",
       "      <td>0</td>\n",
       "      <td>0</td>\n",
       "      <td>0</td>\n",
       "      <td>0</td>\n",
       "      <td>0</td>\n",
       "      <td>0</td>\n",
       "      <td>5.849325</td>\n",
       "      <td>80</td>\n",
       "      <td>6400</td>\n",
       "    </tr>\n",
       "    <tr>\n",
       "      <th>80</th>\n",
       "      <td>2001-09-01</td>\n",
       "      <td>312</td>\n",
       "      <td>2001</td>\n",
       "      <td>0</td>\n",
       "      <td>0</td>\n",
       "      <td>0</td>\n",
       "      <td>0</td>\n",
       "      <td>0</td>\n",
       "      <td>0</td>\n",
       "      <td>0</td>\n",
       "      <td>0</td>\n",
       "      <td>0</td>\n",
       "      <td>0</td>\n",
       "      <td>0</td>\n",
       "      <td>1</td>\n",
       "      <td>5.743003</td>\n",
       "      <td>81</td>\n",
       "      <td>6561</td>\n",
       "    </tr>\n",
       "    <tr>\n",
       "      <th>81</th>\n",
       "      <td>2001-10-01</td>\n",
       "      <td>274</td>\n",
       "      <td>2001</td>\n",
       "      <td>0</td>\n",
       "      <td>0</td>\n",
       "      <td>0</td>\n",
       "      <td>0</td>\n",
       "      <td>0</td>\n",
       "      <td>0</td>\n",
       "      <td>0</td>\n",
       "      <td>0</td>\n",
       "      <td>0</td>\n",
       "      <td>0</td>\n",
       "      <td>1</td>\n",
       "      <td>0</td>\n",
       "      <td>5.613128</td>\n",
       "      <td>82</td>\n",
       "      <td>6724</td>\n",
       "    </tr>\n",
       "    <tr>\n",
       "      <th>82</th>\n",
       "      <td>2001-11-01</td>\n",
       "      <td>237</td>\n",
       "      <td>2001</td>\n",
       "      <td>0</td>\n",
       "      <td>0</td>\n",
       "      <td>0</td>\n",
       "      <td>0</td>\n",
       "      <td>0</td>\n",
       "      <td>0</td>\n",
       "      <td>0</td>\n",
       "      <td>0</td>\n",
       "      <td>0</td>\n",
       "      <td>1</td>\n",
       "      <td>0</td>\n",
       "      <td>0</td>\n",
       "      <td>5.468060</td>\n",
       "      <td>83</td>\n",
       "      <td>6889</td>\n",
       "    </tr>\n",
       "    <tr>\n",
       "      <th>83</th>\n",
       "      <td>2001-12-01</td>\n",
       "      <td>278</td>\n",
       "      <td>2001</td>\n",
       "      <td>0</td>\n",
       "      <td>0</td>\n",
       "      <td>1</td>\n",
       "      <td>0</td>\n",
       "      <td>0</td>\n",
       "      <td>0</td>\n",
       "      <td>0</td>\n",
       "      <td>0</td>\n",
       "      <td>0</td>\n",
       "      <td>0</td>\n",
       "      <td>0</td>\n",
       "      <td>0</td>\n",
       "      <td>5.627621</td>\n",
       "      <td>84</td>\n",
       "      <td>7056</td>\n",
       "    </tr>\n",
       "  </tbody>\n",
       "</table>\n",
       "<p>84 rows × 18 columns</p>\n",
       "</div>"
      ],
      "text/plain": [
       "        Month  Passengers  year  month_Apr  month_Aug  month_Dec  month_Feb  \\\n",
       "0  1995-01-01         112  1995          0          0          0          0   \n",
       "1  1995-02-01         118  1995          0          0          0          1   \n",
       "2  1995-03-01         132  1995          0          0          0          0   \n",
       "3  1995-04-01         129  1995          1          0          0          0   \n",
       "4  1995-05-01         121  1995          0          0          0          0   \n",
       "..        ...         ...   ...        ...        ...        ...        ...   \n",
       "79 2001-08-01         347  2001          0          1          0          0   \n",
       "80 2001-09-01         312  2001          0          0          0          0   \n",
       "81 2001-10-01         274  2001          0          0          0          0   \n",
       "82 2001-11-01         237  2001          0          0          0          0   \n",
       "83 2001-12-01         278  2001          0          0          1          0   \n",
       "\n",
       "    month_Jan  month_Jul  month_Jun  month_Mar  month_May  month_Nov  \\\n",
       "0           1          0          0          0          0          0   \n",
       "1           0          0          0          0          0          0   \n",
       "2           0          0          0          1          0          0   \n",
       "3           0          0          0          0          0          0   \n",
       "4           0          0          0          0          1          0   \n",
       "..        ...        ...        ...        ...        ...        ...   \n",
       "79          0          0          0          0          0          0   \n",
       "80          0          0          0          0          0          0   \n",
       "81          0          0          0          0          0          0   \n",
       "82          0          0          0          0          0          1   \n",
       "83          0          0          0          0          0          0   \n",
       "\n",
       "    month_Oct  month_Sep  log_passengers   t  t_sqr  \n",
       "0           0          0        4.718499   1      1  \n",
       "1           0          0        4.770685   2      4  \n",
       "2           0          0        4.882802   3      9  \n",
       "3           0          0        4.859812   4     16  \n",
       "4           0          0        4.795791   5     25  \n",
       "..        ...        ...             ...  ..    ...  \n",
       "79          0          0        5.849325  80   6400  \n",
       "80          0          1        5.743003  81   6561  \n",
       "81          1          0        5.613128  82   6724  \n",
       "82          0          0        5.468060  83   6889  \n",
       "83          0          0        5.627621  84   7056  \n",
       "\n",
       "[84 rows x 18 columns]"
      ]
     },
     "execution_count": 31,
     "metadata": {},
     "output_type": "execute_result"
    }
   ],
   "source": [
    "train"
   ]
  },
  {
   "cell_type": "markdown",
   "id": "43a18d00",
   "metadata": {},
   "source": [
    "Model Building"
   ]
  },
  {
   "cell_type": "code",
   "execution_count": 32,
   "id": "9b1bbcac",
   "metadata": {
    "ExecuteTime": {
     "end_time": "2023-01-14T06:57:53.761875Z",
     "start_time": "2023-01-14T06:57:53.752130Z"
    }
   },
   "outputs": [],
   "source": [
    "def MAE(pred,org):\n",
    "    temp = np.abs((pred-org)/org)\n",
    "    return np.mean(temp)"
   ]
  },
  {
   "cell_type": "code",
   "execution_count": 33,
   "id": "199ff5c6",
   "metadata": {
    "ExecuteTime": {
     "end_time": "2023-01-14T06:57:53.851266Z",
     "start_time": "2023-01-14T06:57:53.764573Z"
    }
   },
   "outputs": [
    {
     "data": {
      "text/plain": [
       "0.12875898544471479"
      ]
     },
     "execution_count": 33,
     "metadata": {},
     "output_type": "execute_result"
    }
   ],
   "source": [
    "#Building Linear Model\n",
    "import statsmodels.formula.api as smf\n",
    "\n",
    "model_linear = smf.ols('Passengers~t',data=train).fit()\n",
    "pred_linear =  pd.Series(model_linear.predict(pd.DataFrame(test['t'])))                                              #predict on test data   \n",
    "mae_linear = MAE(test['Passengers'],pred_linear)                                                                     #calculate eoot mean sqr error \n",
    "mae_linear"
   ]
  },
  {
   "cell_type": "code",
   "execution_count": 34,
   "id": "23b62e38",
   "metadata": {
    "ExecuteTime": {
     "end_time": "2023-01-14T06:57:53.884944Z",
     "start_time": "2023-01-14T06:57:53.853566Z"
    }
   },
   "outputs": [
    {
     "data": {
      "text/plain": [
       "0.11102459391985826"
      ]
     },
     "execution_count": 34,
     "metadata": {},
     "output_type": "execute_result"
    }
   ],
   "source": [
    "#Exponential\n",
    "model_exp = smf.ols('log_passengers~t',data=train).fit()\n",
    "pred_exp = pd.Series(model_exp.predict(pd.DataFrame(test['t'])))\n",
    "mae_exp = MAE(test['Passengers'], np.exp(pred_exp))\n",
    "mae_exp"
   ]
  },
  {
   "cell_type": "code",
   "execution_count": 35,
   "id": "6172bbf2",
   "metadata": {
    "ExecuteTime": {
     "end_time": "2023-01-14T06:57:53.923578Z",
     "start_time": "2023-01-14T06:57:53.889355Z"
    }
   },
   "outputs": [
    {
     "data": {
      "text/plain": [
       "0.11838168080315846"
      ]
     },
     "execution_count": 35,
     "metadata": {},
     "output_type": "execute_result"
    }
   ],
   "source": [
    "#Quadratic \n",
    "model_quad = smf.ols('Passengers~t+t_sqr',data=train).fit()\n",
    "pred_quad = pd.Series(model_quad.predict(test[[\"t\",\"t_sqr\"]]))\n",
    "mae_quad = MAE(test['Passengers'],pred_quad)\n",
    "mae_quad"
   ]
  },
  {
   "cell_type": "code",
   "execution_count": 36,
   "id": "9c655df9",
   "metadata": {
    "ExecuteTime": {
     "end_time": "2023-01-14T06:57:53.996598Z",
     "start_time": "2023-01-14T06:57:53.929628Z"
    }
   },
   "outputs": [
    {
     "data": {
      "text/plain": [
       "0.6601957591766388"
      ]
     },
     "execution_count": 36,
     "metadata": {},
     "output_type": "execute_result"
    }
   ],
   "source": [
    "#Additive seasonality \n",
    "model_add_sea = smf.ols('Passengers~month_Jan+month_Feb+month_Mar+month_Apr+month_May+month_Jun+month_Jul+month_Aug+month_Sep+month_Oct+month_Nov',data=train).fit()\n",
    "pred_add_sea = pd.Series(model_add_sea.predict(test[['month_Jan','month_Feb','month_Mar','month_Apr','month_May','month_Jun','month_Jul','month_Aug','month_Sep','month_Oct','month_Nov']]))\n",
    "mae_add_sea = MAE(test['Passengers'],pred_add_sea)\n",
    "mae_add_sea"
   ]
  },
  {
   "cell_type": "code",
   "execution_count": 37,
   "id": "24948a36",
   "metadata": {
    "ExecuteTime": {
     "end_time": "2023-01-14T06:57:54.059438Z",
     "start_time": "2023-01-14T06:57:54.001160Z"
    }
   },
   "outputs": [
    {
     "data": {
      "text/plain": [
       "0.055710861779884456"
      ]
     },
     "execution_count": 37,
     "metadata": {},
     "output_type": "execute_result"
    }
   ],
   "source": [
    "#Additive Seasonality Quadratic \n",
    "model_add_sea_quad = smf.ols('Passengers~t+t_sqr+month_Jan+month_Feb+month_Mar+month_Apr+month_May+month_Jun+month_Jul+month_Aug+month_Sep+month_Oct+month_Nov',data=train).fit()\n",
    "pred_add_sea_quad = pd.Series(model_add_sea_quad.predict(test[['month_Jan','month_Feb','month_Mar','month_Apr','month_May','month_Jun','month_Jul','month_Aug','month_Sep','month_Oct','month_Nov','t','t_sqr']]))\n",
    "mae_add_sea_quad = MAE(test['Passengers'], pred_add_sea_quad)\n",
    "mae_add_sea_quad"
   ]
  },
  {
   "cell_type": "code",
   "execution_count": 38,
   "id": "30d21d5c",
   "metadata": {
    "ExecuteTime": {
     "end_time": "2023-01-14T06:57:54.125789Z",
     "start_time": "2023-01-14T06:57:54.062218Z"
    }
   },
   "outputs": [
    {
     "data": {
      "text/plain": [
       "0.7218240575033885"
      ]
     },
     "execution_count": 38,
     "metadata": {},
     "output_type": "execute_result"
    }
   ],
   "source": [
    "##Multiplicative Seasonality\n",
    "model_mult_sea = smf.ols('log_passengers~month_Jan+month_Feb+month_Mar+month_Apr+month_May+month_Jun+month_Jul+month_Aug+month_Sep+month_Oct+month_Nov',data = train).fit()\n",
    "pred_mult_sea = pd.Series(model_mult_sea.predict(test))\n",
    "mae_mult_sea = MAE(test['Passengers'], np.exp(pred_mult_sea))\n",
    "mae_mult_sea"
   ]
  },
  {
   "cell_type": "code",
   "execution_count": 39,
   "id": "42944f2a",
   "metadata": {
    "ExecuteTime": {
     "end_time": "2023-01-14T06:57:54.192324Z",
     "start_time": "2023-01-14T06:57:54.130971Z"
    }
   },
   "outputs": [
    {
     "data": {
      "text/plain": [
       "0.024187475026050762"
      ]
     },
     "execution_count": 39,
     "metadata": {},
     "output_type": "execute_result"
    }
   ],
   "source": [
    "#Multiplicative Additive Seasonality \n",
    "\n",
    "model_Mul_Add_sea = smf.ols('log_passengers~t+month_Jan+month_Feb+month_Mar+month_Apr+month_May+month_Jun+month_Jul+month_Aug+month_Sep+month_Oct+month_Nov',data = train).fit()\n",
    "pred_Mult_add_sea = pd.Series(model_Mul_Add_sea.predict(test))\n",
    "mae_Mult_add_sea = MAE(test['Passengers'], np.exp(pred_Mult_add_sea))\n",
    "mae_Mult_add_sea "
   ]
  },
  {
   "cell_type": "markdown",
   "id": "7a6039ff",
   "metadata": {},
   "source": [
    "Forecasing by Data driven Model"
   ]
  },
  {
   "cell_type": "code",
   "execution_count": 40,
   "id": "ac424743",
   "metadata": {
    "ExecuteTime": {
     "end_time": "2023-01-14T06:57:54.301758Z",
     "start_time": "2023-01-14T06:57:54.197113Z"
    }
   },
   "outputs": [],
   "source": [
    "from statsmodels.tsa.seasonal import seasonal_decompose\n",
    "from statsmodels.tsa.holtwinters import SimpleExpSmoothing\n",
    "from statsmodels.tsa.holtwinters import Holt\n",
    "from statsmodels.tsa.holtwinters import ExponentialSmoothing"
   ]
  },
  {
   "cell_type": "code",
   "execution_count": 41,
   "id": "7970ac15",
   "metadata": {
    "ExecuteTime": {
     "end_time": "2023-01-14T06:57:54.316040Z",
     "start_time": "2023-01-14T06:57:54.305264Z"
    }
   },
   "outputs": [
    {
     "data": {
      "text/html": [
       "<div>\n",
       "<style scoped>\n",
       "    .dataframe tbody tr th:only-of-type {\n",
       "        vertical-align: middle;\n",
       "    }\n",
       "\n",
       "    .dataframe tbody tr th {\n",
       "        vertical-align: top;\n",
       "    }\n",
       "\n",
       "    .dataframe thead th {\n",
       "        text-align: right;\n",
       "    }\n",
       "</style>\n",
       "<table border=\"1\" class=\"dataframe\">\n",
       "  <thead>\n",
       "    <tr style=\"text-align: right;\">\n",
       "      <th></th>\n",
       "      <th>Month</th>\n",
       "      <th>Passengers</th>\n",
       "      <th>month</th>\n",
       "      <th>year</th>\n",
       "    </tr>\n",
       "  </thead>\n",
       "  <tbody>\n",
       "    <tr>\n",
       "      <th>0</th>\n",
       "      <td>1995-01-01</td>\n",
       "      <td>112</td>\n",
       "      <td>Jan</td>\n",
       "      <td>1995</td>\n",
       "    </tr>\n",
       "    <tr>\n",
       "      <th>1</th>\n",
       "      <td>1995-02-01</td>\n",
       "      <td>118</td>\n",
       "      <td>Feb</td>\n",
       "      <td>1995</td>\n",
       "    </tr>\n",
       "    <tr>\n",
       "      <th>2</th>\n",
       "      <td>1995-03-01</td>\n",
       "      <td>132</td>\n",
       "      <td>Mar</td>\n",
       "      <td>1995</td>\n",
       "    </tr>\n",
       "    <tr>\n",
       "      <th>3</th>\n",
       "      <td>1995-04-01</td>\n",
       "      <td>129</td>\n",
       "      <td>Apr</td>\n",
       "      <td>1995</td>\n",
       "    </tr>\n",
       "    <tr>\n",
       "      <th>4</th>\n",
       "      <td>1995-05-01</td>\n",
       "      <td>121</td>\n",
       "      <td>May</td>\n",
       "      <td>1995</td>\n",
       "    </tr>\n",
       "  </tbody>\n",
       "</table>\n",
       "</div>"
      ],
      "text/plain": [
       "       Month  Passengers month  year\n",
       "0 1995-01-01         112   Jan  1995\n",
       "1 1995-02-01         118   Feb  1995\n",
       "2 1995-03-01         132   Mar  1995\n",
       "3 1995-04-01         129   Apr  1995\n",
       "4 1995-05-01         121   May  1995"
      ]
     },
     "execution_count": 41,
     "metadata": {},
     "output_type": "execute_result"
    }
   ],
   "source": [
    "airlines_data.head()"
   ]
  },
  {
   "cell_type": "code",
   "execution_count": 42,
   "id": "84fb2855",
   "metadata": {
    "ExecuteTime": {
     "end_time": "2023-01-14T06:57:54.340556Z",
     "start_time": "2023-01-14T06:57:54.324545Z"
    }
   },
   "outputs": [],
   "source": [
    "Train = airlines_data.head(84)\n",
    "Test = airlines_data.tail(12)"
   ]
  },
  {
   "cell_type": "code",
   "execution_count": 43,
   "id": "ae6cc217",
   "metadata": {
    "ExecuteTime": {
     "end_time": "2023-01-14T06:57:54.384628Z",
     "start_time": "2023-01-14T06:57:54.349640Z"
    }
   },
   "outputs": [
    {
     "data": {
      "text/plain": [
       "0.1341127474051382"
      ]
     },
     "execution_count": 43,
     "metadata": {},
     "output_type": "execute_result"
    }
   ],
   "source": [
    "#Simple Exponential method\n",
    "ses_model = SimpleExpSmoothing(Train[\"Passengers\"]).fit(smoothing_level=0.2)\n",
    "pred_ses = ses_model.predict(start = Test.index[0],end = Test.index[-1])\n",
    "MAE_ses = MAE(pred_ses,Test.Passengers) \n",
    "MAE_ses"
   ]
  },
  {
   "cell_type": "code",
   "execution_count": 44,
   "id": "666b462c",
   "metadata": {
    "ExecuteTime": {
     "end_time": "2023-01-14T06:57:54.420010Z",
     "start_time": "2023-01-14T06:57:54.389635Z"
    }
   },
   "outputs": [
    {
     "data": {
      "text/plain": [
       "0.23530719652100496"
      ]
     },
     "execution_count": 44,
     "metadata": {},
     "output_type": "execute_result"
    }
   ],
   "source": [
    "#Hotl method\n",
    "hw_model = Holt(Train[\"Passengers\"]).fit(smoothing_level=0.8, smoothing_slope=0.2)\n",
    "pred_hw = hw_model.predict(start = Test.index[0],end = Test.index[-1])\n",
    "MAE_hw = MAE(pred_hw,Test.Passengers) \n",
    "MAE_hw"
   ]
  },
  {
   "cell_type": "code",
   "execution_count": 45,
   "id": "8a18b8dc",
   "metadata": {
    "ExecuteTime": {
     "end_time": "2023-01-14T06:57:54.552479Z",
     "start_time": "2023-01-14T06:57:54.429706Z"
    }
   },
   "outputs": [
    {
     "data": {
      "text/plain": [
       "0.05729920281996286"
      ]
     },
     "execution_count": 45,
     "metadata": {},
     "output_type": "execute_result"
    }
   ],
   "source": [
    "#Holts winter exponential smoothing with additive seasonality and additive trend\n",
    "hwe_model_add_add = ExponentialSmoothing(Train[\"Passengers\"],seasonal=\"add\",trend=\"add\",seasonal_periods=12).fit() #add the trend to the model\n",
    "pred_hwe_add_add = hwe_model_add_add.predict(start = Test.index[0],end = Test.index[-1])\n",
    "MAE__hwe_add_add = MAE(pred_hwe_add_add,Test.Passengers) \n",
    "MAE__hwe_add_add"
   ]
  },
  {
   "cell_type": "code",
   "execution_count": 46,
   "id": "3914878a",
   "metadata": {
    "ExecuteTime": {
     "end_time": "2023-01-14T06:57:54.675344Z",
     "start_time": "2023-01-14T06:57:54.554542Z"
    }
   },
   "outputs": [
    {
     "data": {
      "text/plain": [
       "0.028208437891420583"
      ]
     },
     "execution_count": 46,
     "metadata": {},
     "output_type": "execute_result"
    }
   ],
   "source": [
    "#Holts winter exponential smoothing with multiplicative seasonality and additive trend\n",
    "hwe_model_mul_add = ExponentialSmoothing(Train[\"Passengers\"],seasonal=\"mul\",trend=\"add\",seasonal_periods=12).fit() \n",
    "pred_hwe_mul_add = hwe_model_mul_add.predict(start = Test.index[0],end = Test.index[-1])\n",
    "MAE__hwe_mul_add = MAE(pred_hwe_mul_add,Test.Passengers)\n",
    "MAE__hwe_mul_add"
   ]
  },
  {
   "cell_type": "markdown",
   "id": "33f326a5",
   "metadata": {},
   "source": [
    "#Forecasting by ARIMA Model"
   ]
  },
  {
   "cell_type": "code",
   "execution_count": 47,
   "id": "6706a2d8",
   "metadata": {
    "ExecuteTime": {
     "end_time": "2023-01-14T06:57:54.693091Z",
     "start_time": "2023-01-14T06:57:54.680115Z"
    }
   },
   "outputs": [
    {
     "data": {
      "text/html": [
       "<div>\n",
       "<style scoped>\n",
       "    .dataframe tbody tr th:only-of-type {\n",
       "        vertical-align: middle;\n",
       "    }\n",
       "\n",
       "    .dataframe tbody tr th {\n",
       "        vertical-align: top;\n",
       "    }\n",
       "\n",
       "    .dataframe thead th {\n",
       "        text-align: right;\n",
       "    }\n",
       "</style>\n",
       "<table border=\"1\" class=\"dataframe\">\n",
       "  <thead>\n",
       "    <tr style=\"text-align: right;\">\n",
       "      <th></th>\n",
       "      <th>Passengers</th>\n",
       "    </tr>\n",
       "    <tr>\n",
       "      <th>Month</th>\n",
       "      <th></th>\n",
       "    </tr>\n",
       "  </thead>\n",
       "  <tbody>\n",
       "    <tr>\n",
       "      <th>1995-01-01</th>\n",
       "      <td>112</td>\n",
       "    </tr>\n",
       "    <tr>\n",
       "      <th>1995-02-01</th>\n",
       "      <td>118</td>\n",
       "    </tr>\n",
       "    <tr>\n",
       "      <th>1995-03-01</th>\n",
       "      <td>132</td>\n",
       "    </tr>\n",
       "    <tr>\n",
       "      <th>1995-04-01</th>\n",
       "      <td>129</td>\n",
       "    </tr>\n",
       "    <tr>\n",
       "      <th>1995-05-01</th>\n",
       "      <td>121</td>\n",
       "    </tr>\n",
       "  </tbody>\n",
       "</table>\n",
       "</div>"
      ],
      "text/plain": [
       "            Passengers\n",
       "Month                 \n",
       "1995-01-01         112\n",
       "1995-02-01         118\n",
       "1995-03-01         132\n",
       "1995-04-01         129\n",
       "1995-05-01         121"
      ]
     },
     "execution_count": 47,
     "metadata": {},
     "output_type": "execute_result"
    }
   ],
   "source": [
    "airlines_df_1.head()"
   ]
  },
  {
   "cell_type": "code",
   "execution_count": 48,
   "id": "421833b6",
   "metadata": {
    "ExecuteTime": {
     "end_time": "2023-01-14T06:57:54.704312Z",
     "start_time": "2023-01-14T06:57:54.696406Z"
    }
   },
   "outputs": [],
   "source": [
    "# separate out a validation dataset\n",
    "split_point = len(airlines_df_1) - 12\n",
    "dataset, validation = airlines_df_1[0:split_point], airlines_df_1[split_point:]"
   ]
  },
  {
   "cell_type": "code",
   "execution_count": 49,
   "id": "6914d1f5",
   "metadata": {
    "ExecuteTime": {
     "end_time": "2023-01-14T06:57:54.719025Z",
     "start_time": "2023-01-14T06:57:54.707864Z"
    }
   },
   "outputs": [
    {
     "data": {
      "text/plain": [
       "84"
      ]
     },
     "execution_count": 49,
     "metadata": {},
     "output_type": "execute_result"
    }
   ],
   "source": [
    "len(dataset)"
   ]
  },
  {
   "cell_type": "code",
   "execution_count": 50,
   "id": "49aec542",
   "metadata": {
    "ExecuteTime": {
     "end_time": "2023-01-14T06:57:54.735054Z",
     "start_time": "2023-01-14T06:57:54.723897Z"
    }
   },
   "outputs": [],
   "source": [
    "X = dataset.values\n",
    "X = X.astype('float32')\n",
    "train_size = int(len(X) * 0.50)\n",
    "train, test = X[0:train_size], X[train_size:]"
   ]
  },
  {
   "cell_type": "code",
   "execution_count": 51,
   "id": "dd988db1",
   "metadata": {
    "ExecuteTime": {
     "end_time": "2023-01-14T06:57:54.909128Z",
     "start_time": "2023-01-14T06:57:54.738194Z"
    }
   },
   "outputs": [
    {
     "name": "stdout",
     "output_type": "stream",
     "text": [
      ">Predicted=218.000, Expected=230.000\n",
      ">Predicted=230.000, Expected=242.000\n",
      ">Predicted=242.000, Expected=209.000\n",
      ">Predicted=209.000, Expected=191.000\n",
      ">Predicted=191.000, Expected=172.000\n",
      ">Predicted=172.000, Expected=194.000\n",
      ">Predicted=194.000, Expected=196.000\n",
      ">Predicted=196.000, Expected=196.000\n",
      ">Predicted=196.000, Expected=236.000\n",
      ">Predicted=236.000, Expected=235.000\n",
      ">Predicted=235.000, Expected=229.000\n",
      ">Predicted=229.000, Expected=243.000\n",
      ">Predicted=243.000, Expected=264.000\n",
      ">Predicted=264.000, Expected=272.000\n",
      ">Predicted=272.000, Expected=237.000\n",
      ">Predicted=237.000, Expected=211.000\n",
      ">Predicted=211.000, Expected=180.000\n",
      ">Predicted=180.000, Expected=201.000\n",
      ">Predicted=201.000, Expected=204.000\n",
      ">Predicted=204.000, Expected=188.000\n",
      ">Predicted=188.000, Expected=235.000\n",
      ">Predicted=235.000, Expected=227.000\n",
      ">Predicted=227.000, Expected=234.000\n",
      ">Predicted=234.000, Expected=264.000\n",
      ">Predicted=264.000, Expected=302.000\n",
      ">Predicted=302.000, Expected=293.000\n",
      ">Predicted=293.000, Expected=259.000\n",
      ">Predicted=259.000, Expected=229.000\n",
      ">Predicted=229.000, Expected=203.000\n",
      ">Predicted=203.000, Expected=229.000\n",
      ">Predicted=229.000, Expected=242.000\n",
      ">Predicted=242.000, Expected=233.000\n",
      ">Predicted=233.000, Expected=267.000\n",
      ">Predicted=267.000, Expected=269.000\n",
      ">Predicted=269.000, Expected=270.000\n",
      ">Predicted=270.000, Expected=315.000\n",
      ">Predicted=315.000, Expected=364.000\n",
      ">Predicted=364.000, Expected=347.000\n",
      ">Predicted=347.000, Expected=312.000\n",
      ">Predicted=312.000, Expected=274.000\n",
      ">Predicted=274.000, Expected=237.000\n",
      ">Predicted=237.000, Expected=278.000\n",
      "MAE_base: 0.089\n"
     ]
    }
   ],
   "source": [
    "from sklearn.metrics import mean_squared_error\n",
    "# walk-forward validation\n",
    "history = [x for x in train]\n",
    "predictions = list()\n",
    "for i in range(len(test)):\n",
    "    yhat = history[-1]\n",
    "    predictions.append(yhat)\n",
    "    obs = test[i]\n",
    "    history.append(obs)\n",
    "    print('>Predicted=%.3f, Expected=%.3f' % (yhat, obs))\n",
    "# report performance\n",
    "MAE_base = MAE(predictions, test)\n",
    "print('MAE_base: %.3f' % MAE_base)"
   ]
  },
  {
   "cell_type": "code",
   "execution_count": 52,
   "id": "d4624ae8",
   "metadata": {
    "ExecuteTime": {
     "end_time": "2023-01-14T06:57:54.925711Z",
     "start_time": "2023-01-14T06:57:54.912554Z"
    }
   },
   "outputs": [
    {
     "data": {
      "text/html": [
       "<div>\n",
       "<style scoped>\n",
       "    .dataframe tbody tr th:only-of-type {\n",
       "        vertical-align: middle;\n",
       "    }\n",
       "\n",
       "    .dataframe tbody tr th {\n",
       "        vertical-align: top;\n",
       "    }\n",
       "\n",
       "    .dataframe thead th {\n",
       "        text-align: right;\n",
       "    }\n",
       "</style>\n",
       "<table border=\"1\" class=\"dataframe\">\n",
       "  <thead>\n",
       "    <tr style=\"text-align: right;\">\n",
       "      <th></th>\n",
       "      <th>Passengers</th>\n",
       "    </tr>\n",
       "    <tr>\n",
       "      <th>Month</th>\n",
       "      <th></th>\n",
       "    </tr>\n",
       "  </thead>\n",
       "  <tbody>\n",
       "    <tr>\n",
       "      <th>1995-01-01</th>\n",
       "      <td>112</td>\n",
       "    </tr>\n",
       "    <tr>\n",
       "      <th>1995-02-01</th>\n",
       "      <td>118</td>\n",
       "    </tr>\n",
       "    <tr>\n",
       "      <th>1995-03-01</th>\n",
       "      <td>132</td>\n",
       "    </tr>\n",
       "    <tr>\n",
       "      <th>1995-04-01</th>\n",
       "      <td>129</td>\n",
       "    </tr>\n",
       "    <tr>\n",
       "      <th>1995-05-01</th>\n",
       "      <td>121</td>\n",
       "    </tr>\n",
       "  </tbody>\n",
       "</table>\n",
       "</div>"
      ],
      "text/plain": [
       "            Passengers\n",
       "Month                 \n",
       "1995-01-01         112\n",
       "1995-02-01         118\n",
       "1995-03-01         132\n",
       "1995-04-01         129\n",
       "1995-05-01         121"
      ]
     },
     "execution_count": 52,
     "metadata": {},
     "output_type": "execute_result"
    }
   ],
   "source": [
    "#Sarima Model\n",
    "airlines_df_1.head()"
   ]
  },
  {
   "cell_type": "code",
   "execution_count": 53,
   "id": "1fd89d4a",
   "metadata": {
    "ExecuteTime": {
     "end_time": "2023-01-14T06:57:54.973287Z",
     "start_time": "2023-01-14T06:57:54.956159Z"
    }
   },
   "outputs": [],
   "source": [
    "#performing test to check whether data is stationary or not\n",
    "from statsmodels.tsa.stattools import adfuller\n",
    "\n",
    "def adf_test(series):\n",
    "    result=adfuller(series)\n",
    "    print('ADF Statistics: {}'.format(result[0]))\n",
    "    print('p- value: {}'.format(result[1]))\n",
    "    if result[1] <= 0.05:\n",
    "        print(\"strong evidence against the null hypothesis, reject the null hypothesis. Data has no unit root and is stationary\")\n",
    "    else:\n",
    "        print(\"weak evidence against null hypothesis, time series has a unit root, indicating it is non-stationary \")\n"
   ]
  },
  {
   "cell_type": "code",
   "execution_count": 54,
   "id": "aa0281d5",
   "metadata": {
    "ExecuteTime": {
     "end_time": "2023-01-14T06:57:55.020340Z",
     "start_time": "2023-01-14T06:57:54.979301Z"
    }
   },
   "outputs": [
    {
     "name": "stdout",
     "output_type": "stream",
     "text": [
      "ADF Statistics: 1.3402479596467032\n",
      "p- value: 0.9968250481137263\n",
      "weak evidence against null hypothesis, time series has a unit root, indicating it is non-stationary \n"
     ]
    }
   ],
   "source": [
    "adf_test(airlines_df_1['Passengers'])"
   ]
  },
  {
   "cell_type": "code",
   "execution_count": 55,
   "id": "4abc594f",
   "metadata": {
    "ExecuteTime": {
     "end_time": "2023-01-14T06:57:55.053524Z",
     "start_time": "2023-01-14T06:57:55.036571Z"
    }
   },
   "outputs": [],
   "source": [
    "## Use Techniques Differencing 1st time\n",
    "airlines_df_1['Passengers First Difference']=airlines_df_1['Passengers']-airlines_df_1['Passengers'].shift(12)"
   ]
  },
  {
   "cell_type": "code",
   "execution_count": 56,
   "id": "e1023344",
   "metadata": {
    "ExecuteTime": {
     "end_time": "2023-01-14T06:57:55.103250Z",
     "start_time": "2023-01-14T06:57:55.062605Z"
    }
   },
   "outputs": [
    {
     "name": "stdout",
     "output_type": "stream",
     "text": [
      "ADF Statistics: -2.6900043838623167\n",
      "p- value: 0.07578397625851754\n",
      "weak evidence against null hypothesis, time series has a unit root, indicating it is non-stationary \n"
     ]
    }
   ],
   "source": [
    "adf_test(airlines_df_1['Passengers First Difference'].dropna())"
   ]
  },
  {
   "cell_type": "code",
   "execution_count": 57,
   "id": "ef733333",
   "metadata": {
    "ExecuteTime": {
     "end_time": "2023-01-14T06:57:55.119871Z",
     "start_time": "2023-01-14T06:57:55.106291Z"
    }
   },
   "outputs": [],
   "source": [
    "airlines_df_1['Passengers Second Difference']=airlines_df_1['Passengers First Difference']-airlines_df_1['Passengers First Difference'].shift(12)"
   ]
  },
  {
   "cell_type": "code",
   "execution_count": 58,
   "id": "7b20f9f5",
   "metadata": {
    "ExecuteTime": {
     "end_time": "2023-01-14T06:57:55.170907Z",
     "start_time": "2023-01-14T06:57:55.126071Z"
    }
   },
   "outputs": [
    {
     "name": "stdout",
     "output_type": "stream",
     "text": [
      "ADF Statistics: -2.1094801421381826\n",
      "p- value: 0.24071971540603815\n",
      "weak evidence against null hypothesis, time series has a unit root, indicating it is non-stationary \n"
     ]
    }
   ],
   "source": [
    "adf_test(airlines_df_1['Passengers Second Difference'].dropna())"
   ]
  },
  {
   "cell_type": "code",
   "execution_count": 59,
   "id": "ddb15f8c",
   "metadata": {
    "ExecuteTime": {
     "end_time": "2023-01-14T06:57:55.206328Z",
     "start_time": "2023-01-14T06:57:55.185459Z"
    }
   },
   "outputs": [],
   "source": [
    "## Use Techniques Differencing 2nd time\n",
    "airlines_df_1['Passengers Third Difference']=airlines_df_1['Passengers Second Difference']-airlines_df_1['Passengers Second Difference'].shift(12)"
   ]
  },
  {
   "cell_type": "code",
   "execution_count": 60,
   "id": "dee033cb",
   "metadata": {
    "ExecuteTime": {
     "end_time": "2023-01-14T06:57:55.252146Z",
     "start_time": "2023-01-14T06:57:55.215699Z"
    }
   },
   "outputs": [
    {
     "data": {
      "text/html": [
       "<div>\n",
       "<style scoped>\n",
       "    .dataframe tbody tr th:only-of-type {\n",
       "        vertical-align: middle;\n",
       "    }\n",
       "\n",
       "    .dataframe tbody tr th {\n",
       "        vertical-align: top;\n",
       "    }\n",
       "\n",
       "    .dataframe thead th {\n",
       "        text-align: right;\n",
       "    }\n",
       "</style>\n",
       "<table border=\"1\" class=\"dataframe\">\n",
       "  <thead>\n",
       "    <tr style=\"text-align: right;\">\n",
       "      <th></th>\n",
       "      <th>Passengers</th>\n",
       "      <th>Passengers First Difference</th>\n",
       "      <th>Passengers Second Difference</th>\n",
       "      <th>Passengers Third Difference</th>\n",
       "    </tr>\n",
       "    <tr>\n",
       "      <th>Month</th>\n",
       "      <th></th>\n",
       "      <th></th>\n",
       "      <th></th>\n",
       "      <th></th>\n",
       "    </tr>\n",
       "  </thead>\n",
       "  <tbody>\n",
       "    <tr>\n",
       "      <th>1997-07-01</th>\n",
       "      <td>199</td>\n",
       "      <td>29.0</td>\n",
       "      <td>7.0</td>\n",
       "      <td>NaN</td>\n",
       "    </tr>\n",
       "    <tr>\n",
       "      <th>1997-08-01</th>\n",
       "      <td>199</td>\n",
       "      <td>29.0</td>\n",
       "      <td>7.0</td>\n",
       "      <td>NaN</td>\n",
       "    </tr>\n",
       "    <tr>\n",
       "      <th>1997-09-01</th>\n",
       "      <td>184</td>\n",
       "      <td>26.0</td>\n",
       "      <td>4.0</td>\n",
       "      <td>NaN</td>\n",
       "    </tr>\n",
       "    <tr>\n",
       "      <th>1997-10-01</th>\n",
       "      <td>162</td>\n",
       "      <td>29.0</td>\n",
       "      <td>15.0</td>\n",
       "      <td>NaN</td>\n",
       "    </tr>\n",
       "    <tr>\n",
       "      <th>1997-11-01</th>\n",
       "      <td>146</td>\n",
       "      <td>32.0</td>\n",
       "      <td>22.0</td>\n",
       "      <td>NaN</td>\n",
       "    </tr>\n",
       "    <tr>\n",
       "      <th>1997-12-01</th>\n",
       "      <td>166</td>\n",
       "      <td>26.0</td>\n",
       "      <td>4.0</td>\n",
       "      <td>NaN</td>\n",
       "    </tr>\n",
       "    <tr>\n",
       "      <th>1998-01-01</th>\n",
       "      <td>171</td>\n",
       "      <td>26.0</td>\n",
       "      <td>-4.0</td>\n",
       "      <td>-31.0</td>\n",
       "    </tr>\n",
       "    <tr>\n",
       "      <th>1998-02-01</th>\n",
       "      <td>180</td>\n",
       "      <td>30.0</td>\n",
       "      <td>6.0</td>\n",
       "      <td>-10.0</td>\n",
       "    </tr>\n",
       "    <tr>\n",
       "      <th>1998-03-01</th>\n",
       "      <td>193</td>\n",
       "      <td>15.0</td>\n",
       "      <td>-22.0</td>\n",
       "      <td>-50.0</td>\n",
       "    </tr>\n",
       "    <tr>\n",
       "      <th>1998-04-01</th>\n",
       "      <td>181</td>\n",
       "      <td>18.0</td>\n",
       "      <td>-10.0</td>\n",
       "      <td>-32.0</td>\n",
       "    </tr>\n",
       "  </tbody>\n",
       "</table>\n",
       "</div>"
      ],
      "text/plain": [
       "            Passengers  Passengers First Difference  \\\n",
       "Month                                                 \n",
       "1997-07-01         199                         29.0   \n",
       "1997-08-01         199                         29.0   \n",
       "1997-09-01         184                         26.0   \n",
       "1997-10-01         162                         29.0   \n",
       "1997-11-01         146                         32.0   \n",
       "1997-12-01         166                         26.0   \n",
       "1998-01-01         171                         26.0   \n",
       "1998-02-01         180                         30.0   \n",
       "1998-03-01         193                         15.0   \n",
       "1998-04-01         181                         18.0   \n",
       "\n",
       "            Passengers Second Difference  Passengers Third Difference  \n",
       "Month                                                                  \n",
       "1997-07-01                           7.0                          NaN  \n",
       "1997-08-01                           7.0                          NaN  \n",
       "1997-09-01                           4.0                          NaN  \n",
       "1997-10-01                          15.0                          NaN  \n",
       "1997-11-01                          22.0                          NaN  \n",
       "1997-12-01                           4.0                          NaN  \n",
       "1998-01-01                          -4.0                        -31.0  \n",
       "1998-02-01                           6.0                        -10.0  \n",
       "1998-03-01                         -22.0                        -50.0  \n",
       "1998-04-01                         -10.0                        -32.0  "
      ]
     },
     "execution_count": 60,
     "metadata": {},
     "output_type": "execute_result"
    }
   ],
   "source": [
    "airlines_df_1.iloc[30:40]"
   ]
  },
  {
   "cell_type": "code",
   "execution_count": 61,
   "id": "21950f13",
   "metadata": {
    "ExecuteTime": {
     "end_time": "2023-01-14T06:57:55.289384Z",
     "start_time": "2023-01-14T06:57:55.254994Z"
    }
   },
   "outputs": [
    {
     "name": "stdout",
     "output_type": "stream",
     "text": [
      "ADF Statistics: -4.89382405549013\n",
      "p- value: 3.585265761394368e-05\n",
      "strong evidence against the null hypothesis, reject the null hypothesis. Data has no unit root and is stationary\n"
     ]
    }
   ],
   "source": [
    "adf_test(airlines_df_1['Passengers Third Difference'].dropna())"
   ]
  },
  {
   "cell_type": "code",
   "execution_count": 62,
   "id": "e9c755cc",
   "metadata": {
    "ExecuteTime": {
     "end_time": "2023-01-14T06:57:55.618614Z",
     "start_time": "2023-01-14T06:57:55.303731Z"
    }
   },
   "outputs": [
    {
     "data": {
      "image/png": "[encoded data removed]",
      "text/plain": [
       "<Figure size 640x480 with 1 Axes>"
      ]
     },
     "metadata": {},
     "output_type": "display_data"
    }
   ],
   "source": [
    "acf = plot_acf(airlines_df_1[\"Passengers Third Difference\"].dropna())"
   ]
  },
  {
   "cell_type": "code",
   "execution_count": 63,
   "id": "531fc6df",
   "metadata": {
    "ExecuteTime": {
     "end_time": "2023-01-14T06:57:55.878239Z",
     "start_time": "2023-01-14T06:57:55.624657Z"
    }
   },
   "outputs": [
    {
     "data": {
      "image/png": "[encoded data removed]",
      "text/plain": [
       "<Figure size 640x480 with 1 Axes>"
      ]
     },
     "metadata": {},
     "output_type": "display_data"
    }
   ],
   "source": [
    "pacf = plot_pacf(airlines_df_1[\"Passengers Third Difference\"].dropna())"
   ]
  },
  {
   "cell_type": "code",
   "execution_count": 64,
   "id": "b9d6c3a7",
   "metadata": {
    "ExecuteTime": {
     "end_time": "2023-01-14T06:57:55.887303Z",
     "start_time": "2023-01-14T06:57:55.882740Z"
    }
   },
   "outputs": [],
   "source": [
    "from datetime import datetime,timedelta\n",
    "train_dataset_end=datetime(1999,12,1)\n",
    "test_dataset_end=datetime(2002,12,1)"
   ]
  },
  {
   "cell_type": "code",
   "execution_count": 65,
   "id": "8ea3e67a",
   "metadata": {
    "ExecuteTime": {
     "end_time": "2023-01-14T06:57:55.900657Z",
     "start_time": "2023-01-14T06:57:55.889815Z"
    }
   },
   "outputs": [],
   "source": [
    "train_data=airlines_df_1[:train_dataset_end]\n",
    "test_data=airlines_df_1[train_dataset_end+timedelta(days=1):test_dataset_end]"
   ]
  },
  {
   "cell_type": "code",
   "execution_count": 66,
   "id": "3a860338",
   "metadata": {
    "ExecuteTime": {
     "end_time": "2023-01-14T06:57:55.936272Z",
     "start_time": "2023-01-14T06:57:55.904724Z"
    }
   },
   "outputs": [],
   "source": [
    "## create a SARIMA model as we are working with seasonal data\n",
    "from statsmodels.tsa.statespace.sarimax import SARIMAX"
   ]
  },
  {
   "cell_type": "code",
   "execution_count": 67,
   "id": "4d0fd8bc",
   "metadata": {
    "ExecuteTime": {
     "end_time": "2023-01-14T06:57:58.440082Z",
     "start_time": "2023-01-14T06:57:55.939874Z"
    }
   },
   "outputs": [
    {
     "name": "stderr",
     "output_type": "stream",
     "text": [
      "/Users/tarunvannelli/opt/anaconda3/lib/python3.9/site-packages/statsmodels/tsa/base/tsa_model.py:471: ValueWarning: No frequency information was provided, so inferred frequency MS will be used.\n",
      "  self._init_dates(dates, freq)\n",
      "/Users/tarunvannelli/opt/anaconda3/lib/python3.9/site-packages/statsmodels/tsa/base/tsa_model.py:471: ValueWarning: No frequency information was provided, so inferred frequency MS will be used.\n",
      "  self._init_dates(dates, freq)\n",
      " This problem is unconstrained.\n"
     ]
    },
    {
     "name": "stdout",
     "output_type": "stream",
     "text": [
      "RUNNING THE L-BFGS-B CODE\n",
      "\n",
      "           * * *\n",
      "\n",
      "Machine precision = 2.220D-16\n",
      " N =           13     M =           10\n",
      "\n",
      "At X0         0 variables are exactly at the bounds\n",
      "\n",
      "At iterate    0    f=  1.93024D+00    |proj g|=  1.21737D-01\n",
      "\n",
      "At iterate    5    f=  1.89152D+00    |proj g|=  2.52432D-02\n",
      "\n",
      "At iterate   10    f=  1.87373D+00    |proj g|=  1.43443D-02\n",
      "\n",
      "At iterate   15    f=  1.84563D+00    |proj g|=  3.46618D-02\n",
      "\n",
      "At iterate   20    f=  1.82431D+00    |proj g|=  6.67392D-03\n",
      "\n",
      "At iterate   25    f=  1.79864D+00    |proj g|=  9.50013D-02\n",
      "\n",
      "At iterate   30    f=  1.78178D+00    |proj g|=  2.23480D-02\n",
      "\n",
      "At iterate   35    f=  1.77997D+00    |proj g|=  1.39254D-02\n",
      "\n",
      "At iterate   40    f=  1.77972D+00    |proj g|=  1.53369D-03\n",
      "\n",
      "At iterate   45    f=  1.77971D+00    |proj g|=  5.47547D-04\n",
      "\n",
      "At iterate   50    f=  1.77971D+00    |proj g|=  2.27616D-04\n",
      "\n",
      "           * * *\n",
      "\n",
      "Tit   = total number of iterations\n",
      "Tnf   = total number of function evaluations\n",
      "Tnint = total number of segments explored during Cauchy searches\n",
      "Skip  = number of BFGS updates skipped\n",
      "Nact  = number of active bounds at final generalized Cauchy point\n",
      "Projg = norm of the final projected gradient\n",
      "F     = final function value\n",
      "\n",
      "           * * *\n",
      "\n",
      "   N    Tit     Tnf  Tnint  Skip  Nact     Projg        F\n",
      "   13     50     62      1     0     0   2.276D-04   1.780D+00\n",
      "  F =   1.7797088660143454     \n",
      "\n",
      "STOP: TOTAL NO. of ITERATIONS REACHED LIMIT                 \n"
     ]
    },
    {
     "name": "stderr",
     "output_type": "stream",
     "text": [
      "/Users/tarunvannelli/opt/anaconda3/lib/python3.9/site-packages/statsmodels/base/model.py:604: ConvergenceWarning: Maximum Likelihood optimization failed to converge. Check mle_retvals\n",
      "  warnings.warn(\"Maximum Likelihood optimization failed to \"\n"
     ]
    },
    {
     "data": {
      "text/html": [
       "<table class=\"simpletable\">\n",
       "<caption>SARIMAX Results</caption>\n",
       "<tr>\n",
       "  <th>Dep. Variable:</th>              <td>Passengers</td>            <th>  No. Observations:  </th>    <td>60</td>   \n",
       "</tr>\n",
       "<tr>\n",
       "  <th>Model:</th>           <td>SARIMAX(10, 0, 2)x(0, 3, [], 12)</td> <th>  Log Likelihood     </th> <td>-106.783</td>\n",
       "</tr>\n",
       "<tr>\n",
       "  <th>Date:</th>                    <td>Sat, 14 Jan 2023</td>         <th>  AIC                </th>  <td>239.565</td>\n",
       "</tr>\n",
       "<tr>\n",
       "  <th>Time:</th>                        <td>12:27:58</td>             <th>  BIC                </th>  <td>254.880</td>\n",
       "</tr>\n",
       "<tr>\n",
       "  <th>Sample:</th>                     <td>01-01-1995</td>            <th>  HQIC               </th>  <td>243.628</td>\n",
       "</tr>\n",
       "<tr>\n",
       "  <th></th>                           <td>- 12-01-1999</td>           <th>                     </th>     <td> </td>   \n",
       "</tr>\n",
       "<tr>\n",
       "  <th>Covariance Type:</th>                <td>opg</td>               <th>                     </th>     <td> </td>   \n",
       "</tr>\n",
       "</table>\n",
       "<table class=\"simpletable\">\n",
       "<tr>\n",
       "     <td></td>       <th>coef</th>     <th>std err</th>      <th>z</th>      <th>P>|z|</th>  <th>[0.025</th>    <th>0.975]</th>  \n",
       "</tr>\n",
       "<tr>\n",
       "  <th>ar.L1</th>  <td>    0.5802</td> <td>    0.629</td> <td>    0.923</td> <td> 0.356</td> <td>   -0.652</td> <td>    1.812</td>\n",
       "</tr>\n",
       "<tr>\n",
       "  <th>ar.L2</th>  <td>    0.4939</td> <td>    0.715</td> <td>    0.691</td> <td> 0.490</td> <td>   -0.907</td> <td>    1.895</td>\n",
       "</tr>\n",
       "<tr>\n",
       "  <th>ar.L3</th>  <td>   -0.4803</td> <td>    0.616</td> <td>   -0.779</td> <td> 0.436</td> <td>   -1.688</td> <td>    0.728</td>\n",
       "</tr>\n",
       "<tr>\n",
       "  <th>ar.L4</th>  <td>    0.1986</td> <td>    0.547</td> <td>    0.363</td> <td> 0.716</td> <td>   -0.873</td> <td>    1.270</td>\n",
       "</tr>\n",
       "<tr>\n",
       "  <th>ar.L5</th>  <td>   -0.1637</td> <td>    0.484</td> <td>   -0.338</td> <td> 0.735</td> <td>   -1.112</td> <td>    0.785</td>\n",
       "</tr>\n",
       "<tr>\n",
       "  <th>ar.L6</th>  <td>   -0.0070</td> <td>    0.479</td> <td>   -0.015</td> <td> 0.988</td> <td>   -0.945</td> <td>    0.931</td>\n",
       "</tr>\n",
       "<tr>\n",
       "  <th>ar.L7</th>  <td>   -0.0393</td> <td>    0.585</td> <td>   -0.067</td> <td> 0.946</td> <td>   -1.185</td> <td>    1.106</td>\n",
       "</tr>\n",
       "<tr>\n",
       "  <th>ar.L8</th>  <td>   -0.0790</td> <td>    0.319</td> <td>   -0.248</td> <td> 0.804</td> <td>   -0.704</td> <td>    0.546</td>\n",
       "</tr>\n",
       "<tr>\n",
       "  <th>ar.L9</th>  <td>    0.3846</td> <td>    0.615</td> <td>    0.625</td> <td> 0.532</td> <td>   -0.821</td> <td>    1.590</td>\n",
       "</tr>\n",
       "<tr>\n",
       "  <th>ar.L10</th> <td>   -0.4763</td> <td>    0.439</td> <td>   -1.085</td> <td> 0.278</td> <td>   -1.337</td> <td>    0.384</td>\n",
       "</tr>\n",
       "<tr>\n",
       "  <th>ma.L1</th>  <td>    0.2003</td> <td>   12.500</td> <td>    0.016</td> <td> 0.987</td> <td>  -24.299</td> <td>   24.700</td>\n",
       "</tr>\n",
       "<tr>\n",
       "  <th>ma.L2</th>  <td>   -0.7817</td> <td>   10.190</td> <td>   -0.077</td> <td> 0.939</td> <td>  -20.754</td> <td>   19.191</td>\n",
       "</tr>\n",
       "<tr>\n",
       "  <th>sigma2</th> <td>   98.1833</td> <td> 1204.754</td> <td>    0.081</td> <td> 0.935</td> <td>-2263.090</td> <td> 2459.457</td>\n",
       "</tr>\n",
       "</table>\n",
       "<table class=\"simpletable\">\n",
       "<tr>\n",
       "  <th>Ljung-Box (L1) (Q):</th>     <td>1.22</td> <th>  Jarque-Bera (JB):  </th> <td>1.58</td> \n",
       "</tr>\n",
       "<tr>\n",
       "  <th>Prob(Q):</th>                <td>0.27</td> <th>  Prob(JB):          </th> <td>0.45</td> \n",
       "</tr>\n",
       "<tr>\n",
       "  <th>Heteroskedasticity (H):</th> <td>0.92</td> <th>  Skew:              </th> <td>-0.16</td>\n",
       "</tr>\n",
       "<tr>\n",
       "  <th>Prob(H) (two-sided):</th>    <td>0.91</td> <th>  Kurtosis:          </th> <td>1.78</td> \n",
       "</tr>\n",
       "</table><br/><br/>Warnings:<br/>[1] Covariance matrix calculated using the outer product of gradients (complex-step)."
      ],
      "text/plain": [
       "<class 'statsmodels.iolib.summary.Summary'>\n",
       "\"\"\"\n",
       "                                      SARIMAX Results                                       \n",
       "============================================================================================\n",
       "Dep. Variable:                           Passengers   No. Observations:                   60\n",
       "Model:             SARIMAX(10, 0, 2)x(0, 3, [], 12)   Log Likelihood                -106.783\n",
       "Date:                              Sat, 14 Jan 2023   AIC                            239.565\n",
       "Time:                                      12:27:58   BIC                            254.880\n",
       "Sample:                                  01-01-1995   HQIC                           243.628\n",
       "                                       - 12-01-1999                                         \n",
       "Covariance Type:                                opg                                         \n",
       "==============================================================================\n",
       "                 coef    std err          z      P>|z|      [0.025      0.975]\n",
       "------------------------------------------------------------------------------\n",
       "ar.L1          0.5802      0.629      0.923      0.356      -0.652       1.812\n",
       "ar.L2          0.4939      0.715      0.691      0.490      -0.907       1.895\n",
       "ar.L3         -0.4803      0.616     -0.779      0.436      -1.688       0.728\n",
       "ar.L4          0.1986      0.547      0.363      0.716      -0.873       1.270\n",
       "ar.L5         -0.1637      0.484     -0.338      0.735      -1.112       0.785\n",
       "ar.L6         -0.0070      0.479     -0.015      0.988      -0.945       0.931\n",
       "ar.L7         -0.0393      0.585     -0.067      0.946      -1.185       1.106\n",
       "ar.L8         -0.0790      0.319     -0.248      0.804      -0.704       0.546\n",
       "ar.L9          0.3846      0.615      0.625      0.532      -0.821       1.590\n",
       "ar.L10        -0.4763      0.439     -1.085      0.278      -1.337       0.384\n",
       "ma.L1          0.2003     12.500      0.016      0.987     -24.299      24.700\n",
       "ma.L2         -0.7817     10.190     -0.077      0.939     -20.754      19.191\n",
       "sigma2        98.1833   1204.754      0.081      0.935   -2263.090    2459.457\n",
       "===================================================================================\n",
       "Ljung-Box (L1) (Q):                   1.22   Jarque-Bera (JB):                 1.58\n",
       "Prob(Q):                              0.27   Prob(JB):                         0.45\n",
       "Heteroskedasticity (H):               0.92   Skew:                            -0.16\n",
       "Prob(H) (two-sided):                  0.91   Kurtosis:                         1.78\n",
       "===================================================================================\n",
       "\n",
       "Warnings:\n",
       "[1] Covariance matrix calculated using the outer product of gradients (complex-step).\n",
       "\"\"\""
      ]
     },
     "execution_count": 67,
     "metadata": {},
     "output_type": "execute_result"
    }
   ],
   "source": [
    "model_SARIMA=SARIMAX(train_data['Passengers'],order=(10,0,2),seasonal_order=(0,3,0,12))\n",
    "model_SARIMA_fit=model_SARIMA.fit()\n",
    "model_SARIMA_fit.summary()"
   ]
  },
  {
   "cell_type": "code",
   "execution_count": 68,
   "id": "feca5a7f",
   "metadata": {
    "ExecuteTime": {
     "end_time": "2023-01-14T06:57:58.453292Z",
     "start_time": "2023-01-14T06:57:58.447925Z"
    }
   },
   "outputs": [
    {
     "name": "stdout",
     "output_type": "stream",
     "text": [
      "2000-01-01 00:00:00\n",
      "2002-12-01 00:00:00\n"
     ]
    }
   ],
   "source": [
    "pred_start_date=test_data.index[0]\n",
    "pred_end_date=test_data.index[-1]\n",
    "print(pred_start_date)\n",
    "print(pred_end_date)"
   ]
  },
  {
   "cell_type": "code",
   "execution_count": 69,
   "id": "738076d3",
   "metadata": {
    "ExecuteTime": {
     "end_time": "2023-01-14T06:57:58.471178Z",
     "start_time": "2023-01-14T06:57:58.455745Z"
    }
   },
   "outputs": [
    {
     "data": {
      "text/plain": [
       "0.1603987332322756"
      ]
     },
     "execution_count": 69,
     "metadata": {},
     "output_type": "execute_result"
    }
   ],
   "source": [
    "pred_Sarima=model_SARIMA_fit.predict(start=datetime(2000,1,1),end=datetime(2002,12,1))\n",
    "MAE_Sarima = MAE(pred_Sarima, test_data['Passengers'])\n",
    "MAE_Sarima"
   ]
  },
  {
   "cell_type": "code",
   "execution_count": 70,
   "id": "ef964993",
   "metadata": {
    "ExecuteTime": {
     "end_time": "2023-01-14T06:57:58.484880Z",
     "start_time": "2023-01-14T06:57:58.473655Z"
    }
   },
   "outputs": [
    {
     "data": {
      "text/html": [
       "<div>\n",
       "<style scoped>\n",
       "    .dataframe tbody tr th:only-of-type {\n",
       "        vertical-align: middle;\n",
       "    }\n",
       "\n",
       "    .dataframe tbody tr th {\n",
       "        vertical-align: top;\n",
       "    }\n",
       "\n",
       "    .dataframe thead th {\n",
       "        text-align: right;\n",
       "    }\n",
       "</style>\n",
       "<table border=\"1\" class=\"dataframe\">\n",
       "  <thead>\n",
       "    <tr style=\"text-align: right;\">\n",
       "      <th></th>\n",
       "      <th>MODEL</th>\n",
       "      <th>MAE_Values</th>\n",
       "    </tr>\n",
       "  </thead>\n",
       "  <tbody>\n",
       "    <tr>\n",
       "      <th>6</th>\n",
       "      <td>MAE_Mult_add_sea</td>\n",
       "      <td>0.024187</td>\n",
       "    </tr>\n",
       "    <tr>\n",
       "      <th>10</th>\n",
       "      <td>MAE__hwe_mul_add</td>\n",
       "      <td>0.028208</td>\n",
       "    </tr>\n",
       "    <tr>\n",
       "      <th>4</th>\n",
       "      <td>MAE_add_sea_quad</td>\n",
       "      <td>0.055711</td>\n",
       "    </tr>\n",
       "    <tr>\n",
       "      <th>9</th>\n",
       "      <td>MAE_hwe_add_add</td>\n",
       "      <td>0.057299</td>\n",
       "    </tr>\n",
       "    <tr>\n",
       "      <th>11</th>\n",
       "      <td>MAE_base</td>\n",
       "      <td>0.089354</td>\n",
       "    </tr>\n",
       "    <tr>\n",
       "      <th>1</th>\n",
       "      <td>MAE_Exp</td>\n",
       "      <td>0.111025</td>\n",
       "    </tr>\n",
       "    <tr>\n",
       "      <th>2</th>\n",
       "      <td>MAE_Quad</td>\n",
       "      <td>0.118382</td>\n",
       "    </tr>\n",
       "    <tr>\n",
       "      <th>0</th>\n",
       "      <td>MAE_linear</td>\n",
       "      <td>0.128759</td>\n",
       "    </tr>\n",
       "    <tr>\n",
       "      <th>7</th>\n",
       "      <td>MAE_ses</td>\n",
       "      <td>0.134113</td>\n",
       "    </tr>\n",
       "    <tr>\n",
       "      <th>12</th>\n",
       "      <td>MAE_SARIMA</td>\n",
       "      <td>0.160399</td>\n",
       "    </tr>\n",
       "    <tr>\n",
       "      <th>8</th>\n",
       "      <td>MAE_hw</td>\n",
       "      <td>0.235307</td>\n",
       "    </tr>\n",
       "    <tr>\n",
       "      <th>3</th>\n",
       "      <td>MAE_add_sea</td>\n",
       "      <td>0.660196</td>\n",
       "    </tr>\n",
       "    <tr>\n",
       "      <th>5</th>\n",
       "      <td>MAE_Mult_sea</td>\n",
       "      <td>0.721824</td>\n",
       "    </tr>\n",
       "  </tbody>\n",
       "</table>\n",
       "</div>"
      ],
      "text/plain": [
       "               MODEL  MAE_Values\n",
       "6   MAE_Mult_add_sea    0.024187\n",
       "10  MAE__hwe_mul_add    0.028208\n",
       "4   MAE_add_sea_quad    0.055711\n",
       "9    MAE_hwe_add_add    0.057299\n",
       "11          MAE_base    0.089354\n",
       "1            MAE_Exp    0.111025\n",
       "2           MAE_Quad    0.118382\n",
       "0         MAE_linear    0.128759\n",
       "7            MAE_ses    0.134113\n",
       "12        MAE_SARIMA    0.160399\n",
       "8             MAE_hw    0.235307\n",
       "3        MAE_add_sea    0.660196\n",
       "5       MAE_Mult_sea    0.721824"
      ]
     },
     "execution_count": 70,
     "metadata": {},
     "output_type": "execute_result"
    }
   ],
   "source": [
    "#Compare the results \n",
    "\n",
    "data = {\"MODEL\":pd.Series([\"MAE_linear\",\"MAE_Exp\",\"MAE_Quad\",\"MAE_add_sea\",\"MAE_add_sea_quad\",\"MAE_Mult_sea\",\"MAE_Mult_add_sea\",\"MAE_ses\",\"MAE_hw\",\"MAE_hwe_add_add\",\"MAE__hwe_mul_add\",\"MAE_base\",\"MAE_SARIMA\"]),\n",
    "        \"MAE_Values\":pd.Series([mae_linear,mae_exp,mae_quad,mae_add_sea,mae_add_sea_quad,mae_mult_sea,mae_Mult_add_sea,MAE_ses,MAE_hw,MAE__hwe_add_add,MAE__hwe_mul_add,MAE_base,MAE_Sarima])}\n",
    "table_mae=pd.DataFrame(data)\n",
    "table_mae.sort_values(['MAE_Values'])"
   ]
  },
  {
   "cell_type": "code",
   "execution_count": 71,
   "id": "2bc0bac6",
   "metadata": {
    "ExecuteTime": {
     "end_time": "2023-01-14T06:57:58.497089Z",
     "start_time": "2023-01-14T06:57:58.488642Z"
    }
   },
   "outputs": [
    {
     "data": {
      "text/plain": [
       "84    5.632141\n",
       "85    5.647734\n",
       "86    5.792098\n",
       "87    5.756366\n",
       "88    5.746648\n",
       "89    5.865009\n",
       "90    5.972273\n",
       "91    5.972648\n",
       "92    5.865485\n",
       "93    5.738005\n",
       "94    5.606271\n",
       "95    5.744972\n",
       "dtype: float64"
      ]
     },
     "execution_count": 71,
     "metadata": {},
     "output_type": "execute_result"
    }
   ],
   "source": [
    "#Comparing mul seasonality and add trend predicted vales\n",
    "#with the actual values\n",
    "pred_Mult_add_sea"
   ]
  },
  {
   "cell_type": "code",
   "execution_count": 72,
   "id": "295cf17d",
   "metadata": {
    "ExecuteTime": {
     "end_time": "2023-01-14T06:57:58.513302Z",
     "start_time": "2023-01-14T06:57:58.501501Z"
    }
   },
   "outputs": [
    {
     "data": {
      "text/html": [
       "<div>\n",
       "<style scoped>\n",
       "    .dataframe tbody tr th:only-of-type {\n",
       "        vertical-align: middle;\n",
       "    }\n",
       "\n",
       "    .dataframe tbody tr th {\n",
       "        vertical-align: top;\n",
       "    }\n",
       "\n",
       "    .dataframe thead th {\n",
       "        text-align: right;\n",
       "    }\n",
       "</style>\n",
       "<table border=\"1\" class=\"dataframe\">\n",
       "  <thead>\n",
       "    <tr style=\"text-align: right;\">\n",
       "      <th></th>\n",
       "      <th>Passengers</th>\n",
       "      <th>Forecast_Passengers</th>\n",
       "    </tr>\n",
       "  </thead>\n",
       "  <tbody>\n",
       "    <tr>\n",
       "      <th>84</th>\n",
       "      <td>284</td>\n",
       "      <td>279.259237</td>\n",
       "    </tr>\n",
       "    <tr>\n",
       "      <th>85</th>\n",
       "      <td>277</td>\n",
       "      <td>283.647937</td>\n",
       "    </tr>\n",
       "    <tr>\n",
       "      <th>86</th>\n",
       "      <td>317</td>\n",
       "      <td>327.699745</td>\n",
       "    </tr>\n",
       "    <tr>\n",
       "      <th>87</th>\n",
       "      <td>313</td>\n",
       "      <td>316.197279</td>\n",
       "    </tr>\n",
       "    <tr>\n",
       "      <th>88</th>\n",
       "      <td>318</td>\n",
       "      <td>313.139118</td>\n",
       "    </tr>\n",
       "    <tr>\n",
       "      <th>89</th>\n",
       "      <td>374</td>\n",
       "      <td>352.485470</td>\n",
       "    </tr>\n",
       "    <tr>\n",
       "      <th>90</th>\n",
       "      <td>413</td>\n",
       "      <td>392.396393</td>\n",
       "    </tr>\n",
       "    <tr>\n",
       "      <th>91</th>\n",
       "      <td>405</td>\n",
       "      <td>392.543731</td>\n",
       "    </tr>\n",
       "    <tr>\n",
       "      <th>92</th>\n",
       "      <td>355</td>\n",
       "      <td>352.653113</td>\n",
       "    </tr>\n",
       "    <tr>\n",
       "      <th>93</th>\n",
       "      <td>306</td>\n",
       "      <td>310.444392</td>\n",
       "    </tr>\n",
       "    <tr>\n",
       "      <th>94</th>\n",
       "      <td>271</td>\n",
       "      <td>272.127554</td>\n",
       "    </tr>\n",
       "    <tr>\n",
       "      <th>95</th>\n",
       "      <td>306</td>\n",
       "      <td>312.614872</td>\n",
       "    </tr>\n",
       "  </tbody>\n",
       "</table>\n",
       "</div>"
      ],
      "text/plain": [
       "    Passengers  Forecast_Passengers\n",
       "84         284           279.259237\n",
       "85         277           283.647937\n",
       "86         317           327.699745\n",
       "87         313           316.197279\n",
       "88         318           313.139118\n",
       "89         374           352.485470\n",
       "90         413           392.396393\n",
       "91         405           392.543731\n",
       "92         355           352.653113\n",
       "93         306           310.444392\n",
       "94         271           272.127554\n",
       "95         306           312.614872"
      ]
     },
     "execution_count": 72,
     "metadata": {},
     "output_type": "execute_result"
    }
   ],
   "source": [
    "cmp_df = pd.DataFrame(Test['Passengers'])\n",
    "cmp_df['Forecast_Passengers'] = np.exp(pred_Mult_add_sea)\n",
    "cmp_df"
   ]
  },
  {
   "cell_type": "code",
   "execution_count": 73,
   "id": "37c5e7df",
   "metadata": {
    "ExecuteTime": {
     "end_time": "2023-01-14T06:57:58.762465Z",
     "start_time": "2023-01-14T06:57:58.515476Z"
    },
    "scrolled": false
   },
   "outputs": [
    {
     "data": {
      "text/plain": [
       "<AxesSubplot: >"
      ]
     },
     "execution_count": 73,
     "metadata": {},
     "output_type": "execute_result"
    },
    {
     "data": {
      "image/png": "[encoded data removed]",
      "text/plain": [
       "<Figure size 1200x800 with 1 Axes>"
      ]
     },
     "metadata": {},
     "output_type": "display_data"
    }
   ],
   "source": [
    "cmp_df[['Passengers','Forecast_Passengers']].plot(figsize=(12,8))"
   ]
  }
 ],
 "metadata": {
  "kernelspec": {
   "display_name": "Python 3 (ipykernel)",
   "language": "python",
   "name": "python3"
  },
  "language_info": {
   "codemirror_mode": {
    "name": "ipython",
    "version": 3
   },
   "file_extension": ".py",
   "mimetype": "text/x-python",
   "name": "python",
   "nbconvert_exporter": "python",
   "pygments_lexer": "ipython3",
   "version": "3.9.15"
  }
 },
 "nbformat": 4,
 "nbformat_minor": 5
}

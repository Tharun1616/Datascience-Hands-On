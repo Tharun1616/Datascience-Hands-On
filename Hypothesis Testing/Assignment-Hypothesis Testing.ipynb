{
 "cells": [
  {
   "cell_type": "markdown",
   "id": "ba3ae342",
   "metadata": {},
   "source": [
    "# Hypothesis Testing Exercise(1)"
   ]
  },
  {
   "cell_type": "markdown",
   "id": "17b8451c",
   "metadata": {},
   "source": [
    "# Question1"
   ]
  },
  {
   "cell_type": "markdown",
   "id": "9aabdb62",
   "metadata": {},
   "source": [
    "A F&B manager wants to determine whether there is any significant difference in the diameter of the cutlet between two units. A randomly selected sample of cutlets was collected from both units and measured? Analyze the data and draw inferences at 5% significance level. Please state the assumptions and tests that you carried out to check validity of the assumptions."
   ]
  },
  {
   "cell_type": "markdown",
   "id": "0f9cc954",
   "metadata": {},
   "source": [
    "Assumptions:\n",
    "Null Hypothesis: There is no significant difference in the diameter of the cutlet between two units(μ1=μ2)\n",
    "Alternate Hypothesis: There is significant difference in the diameter of the cutlet between two units(μ1!=μ2)"
   ]
  },
  {
   "cell_type": "code",
   "execution_count": 1,
   "id": "0f0b70c9",
   "metadata": {
    "ExecuteTime": {
     "end_time": "2022-12-05T16:44:22.298546Z",
     "start_time": "2022-12-05T16:44:19.250291Z"
    }
   },
   "outputs": [],
   "source": [
    "import pandas as pd\n",
    "import numpy as np\n",
    "import matplotlib.pyplot as plt\n",
    "import seaborn as sns"
   ]
  },
  {
   "cell_type": "code",
   "execution_count": 3,
   "id": "70867bd1",
   "metadata": {
    "ExecuteTime": {
     "end_time": "2022-12-05T16:46:09.194555Z",
     "start_time": "2022-12-05T16:46:09.182338Z"
    }
   },
   "outputs": [
    {
     "data": {
      "text/html": [
       "<div>\n",
       "<style scoped>\n",
       "    .dataframe tbody tr th:only-of-type {\n",
       "        vertical-align: middle;\n",
       "    }\n",
       "\n",
       "    .dataframe tbody tr th {\n",
       "        vertical-align: top;\n",
       "    }\n",
       "\n",
       "    .dataframe thead th {\n",
       "        text-align: right;\n",
       "    }\n",
       "</style>\n",
       "<table border=\"1\" class=\"dataframe\">\n",
       "  <thead>\n",
       "    <tr style=\"text-align: right;\">\n",
       "      <th></th>\n",
       "      <th>Unit A</th>\n",
       "      <th>Unit B</th>\n",
       "    </tr>\n",
       "  </thead>\n",
       "  <tbody>\n",
       "    <tr>\n",
       "      <th>0</th>\n",
       "      <td>6.8090</td>\n",
       "      <td>6.7703</td>\n",
       "    </tr>\n",
       "    <tr>\n",
       "      <th>1</th>\n",
       "      <td>6.4376</td>\n",
       "      <td>7.5093</td>\n",
       "    </tr>\n",
       "    <tr>\n",
       "      <th>2</th>\n",
       "      <td>6.9157</td>\n",
       "      <td>6.7300</td>\n",
       "    </tr>\n",
       "    <tr>\n",
       "      <th>3</th>\n",
       "      <td>7.3012</td>\n",
       "      <td>6.7878</td>\n",
       "    </tr>\n",
       "    <tr>\n",
       "      <th>4</th>\n",
       "      <td>7.4488</td>\n",
       "      <td>7.1522</td>\n",
       "    </tr>\n",
       "  </tbody>\n",
       "</table>\n",
       "</div>"
      ],
      "text/plain": [
       "   Unit A  Unit B\n",
       "0  6.8090  6.7703\n",
       "1  6.4376  7.5093\n",
       "2  6.9157  6.7300\n",
       "3  7.3012  6.7878\n",
       "4  7.4488  7.1522"
      ]
     },
     "execution_count": 3,
     "metadata": {},
     "output_type": "execute_result"
    }
   ],
   "source": [
    "#Read file\n",
    "df = pd.read_csv('Cutlets.csv')\n",
    "df.head()"
   ]
  },
  {
   "cell_type": "code",
   "execution_count": 6,
   "id": "2fd7bfa4",
   "metadata": {
    "ExecuteTime": {
     "end_time": "2022-12-05T16:47:22.714237Z",
     "start_time": "2022-12-05T16:47:22.692561Z"
    }
   },
   "outputs": [
    {
     "data": {
      "text/plain": [
       "Unit A    0\n",
       "Unit B    0\n",
       "dtype: int64"
      ]
     },
     "execution_count": 6,
     "metadata": {},
     "output_type": "execute_result"
    }
   ],
   "source": [
    "df.isnull().sum()"
   ]
  },
  {
   "cell_type": "code",
   "execution_count": 7,
   "id": "649b8c15",
   "metadata": {
    "ExecuteTime": {
     "end_time": "2022-12-05T16:47:29.425232Z",
     "start_time": "2022-12-05T16:47:29.402981Z"
    },
    "scrolled": true
   },
   "outputs": [
    {
     "data": {
      "text/html": [
       "<div>\n",
       "<style scoped>\n",
       "    .dataframe tbody tr th:only-of-type {\n",
       "        vertical-align: middle;\n",
       "    }\n",
       "\n",
       "    .dataframe tbody tr th {\n",
       "        vertical-align: top;\n",
       "    }\n",
       "\n",
       "    .dataframe thead th {\n",
       "        text-align: right;\n",
       "    }\n",
       "</style>\n",
       "<table border=\"1\" class=\"dataframe\">\n",
       "  <thead>\n",
       "    <tr style=\"text-align: right;\">\n",
       "      <th></th>\n",
       "      <th>Unit A</th>\n",
       "      <th>Unit B</th>\n",
       "    </tr>\n",
       "  </thead>\n",
       "  <tbody>\n",
       "    <tr>\n",
       "      <th>count</th>\n",
       "      <td>35.000000</td>\n",
       "      <td>35.000000</td>\n",
       "    </tr>\n",
       "    <tr>\n",
       "      <th>mean</th>\n",
       "      <td>7.019091</td>\n",
       "      <td>6.964297</td>\n",
       "    </tr>\n",
       "    <tr>\n",
       "      <th>std</th>\n",
       "      <td>0.288408</td>\n",
       "      <td>0.343401</td>\n",
       "    </tr>\n",
       "    <tr>\n",
       "      <th>min</th>\n",
       "      <td>6.437600</td>\n",
       "      <td>6.038000</td>\n",
       "    </tr>\n",
       "    <tr>\n",
       "      <th>25%</th>\n",
       "      <td>6.831500</td>\n",
       "      <td>6.753600</td>\n",
       "    </tr>\n",
       "    <tr>\n",
       "      <th>50%</th>\n",
       "      <td>6.943800</td>\n",
       "      <td>6.939900</td>\n",
       "    </tr>\n",
       "    <tr>\n",
       "      <th>75%</th>\n",
       "      <td>7.280550</td>\n",
       "      <td>7.195000</td>\n",
       "    </tr>\n",
       "    <tr>\n",
       "      <th>max</th>\n",
       "      <td>7.516900</td>\n",
       "      <td>7.545900</td>\n",
       "    </tr>\n",
       "  </tbody>\n",
       "</table>\n",
       "</div>"
      ],
      "text/plain": [
       "          Unit A     Unit B\n",
       "count  35.000000  35.000000\n",
       "mean    7.019091   6.964297\n",
       "std     0.288408   0.343401\n",
       "min     6.437600   6.038000\n",
       "25%     6.831500   6.753600\n",
       "50%     6.943800   6.939900\n",
       "75%     7.280550   7.195000\n",
       "max     7.516900   7.545900"
      ]
     },
     "execution_count": 7,
     "metadata": {},
     "output_type": "execute_result"
    }
   ],
   "source": [
    "df.describe()"
   ]
  },
  {
   "cell_type": "code",
   "execution_count": 22,
   "id": "bce03271",
   "metadata": {
    "ExecuteTime": {
     "end_time": "2022-12-05T17:00:43.328044Z",
     "start_time": "2022-12-05T17:00:43.074224Z"
    }
   },
   "outputs": [
    {
     "data": {
      "image/png": "[encoded data removed]",
      "text/plain": [
       "<Figure size 432x288 with 2 Axes>"
      ]
     },
     "metadata": {
      "needs_background": "light"
     },
     "output_type": "display_data"
    }
   ],
   "source": [
    "plt.subplots()\n",
    "plt.subplot(121)\n",
    "plt.hist(df['Unit A'])\n",
    "plt.title('UnitA')\n",
    "plt.subplot(122)\n",
    "plt.hist(df['Unit B'])\n",
    "plt.title('UnitB')\n",
    "plt.show()"
   ]
  },
  {
   "cell_type": "code",
   "execution_count": 21,
   "id": "dc69c68f",
   "metadata": {
    "ExecuteTime": {
     "end_time": "2022-12-05T17:00:31.840237Z",
     "start_time": "2022-12-05T17:00:31.665530Z"
    }
   },
   "outputs": [
    {
     "data": {
      "image/png": "[encoded data removed]",
      "text/plain": [
       "<Figure size 432x288 with 2 Axes>"
      ]
     },
     "metadata": {
      "needs_background": "light"
     },
     "output_type": "display_data"
    }
   ],
   "source": [
    "plt.subplots()\n",
    "plt.subplot(121)\n",
    "plt.boxplot(df['Unit A'])\n",
    "plt.title('UnitA')\n",
    "plt.subplot(122)\n",
    "plt.boxplot(df['Unit B'])\n",
    "plt.title('UnitB')\n",
    "plt.show()"
   ]
  },
  {
   "cell_type": "code",
   "execution_count": 25,
   "id": "4bebd4fa",
   "metadata": {
    "ExecuteTime": {
     "end_time": "2022-12-05T17:05:51.489002Z",
     "start_time": "2022-12-05T17:05:51.228255Z"
    },
    "scrolled": true
   },
   "outputs": [
    {
     "data": {
      "text/plain": [
       "<matplotlib.legend.Legend at 0x7feacd67b5b0>"
      ]
     },
     "execution_count": 25,
     "metadata": {},
     "output_type": "execute_result"
    },
    {
     "data": {
      "image/png": "[encoded data removed]",
      "text/plain": [
       "<Figure size 576x432 with 1 Axes>"
      ]
     },
     "metadata": {
      "needs_background": "light"
     },
     "output_type": "display_data"
    }
   ],
   "source": [
    "import warnings\n",
    "warnings.filterwarnings('ignore')\n",
    "plt.figure(figsize=(8,6))\n",
    "sns.distplot(df['Unit A'])\n",
    "sns.distplot(df['Unit B'])\n",
    "plt.legend(['UnitA','UnitB'])"
   ]
  },
  {
   "cell_type": "markdown",
   "id": "44ed8b08",
   "metadata": {},
   "source": [
    "Using t-test as there is no s.d of the population is given"
   ]
  },
  {
   "cell_type": "code",
   "execution_count": 27,
   "id": "b9015a37",
   "metadata": {
    "ExecuteTime": {
     "end_time": "2022-12-05T17:11:12.730488Z",
     "start_time": "2022-12-05T17:11:12.710921Z"
    }
   },
   "outputs": [
    {
     "data": {
      "text/plain": [
       "Ttest_indResult(statistic=0.7228688704678063, pvalue=0.4722394724599501)"
      ]
     },
     "execution_count": 27,
     "metadata": {},
     "output_type": "execute_result"
    }
   ],
   "source": [
    "import scipy.stats as stats\n",
    "p_value=stats.ttest_ind(df['Unit A'],df['Unit B'])\n",
    "p_value"
   ]
  },
  {
   "cell_type": "markdown",
   "id": "cdc2b55d",
   "metadata": {},
   "source": [
    "Compare pvalue with significane value which is alpha = 0.05\n",
    "if pvalue > alpha => Accept Null Hypothesis\n",
    "if pvalue < alpha => Accept Alternate Hypothesis"
   ]
  },
  {
   "cell_type": "markdown",
   "id": "74950e5e",
   "metadata": {},
   "source": [
    "Here pvalue is 0.4722394724599501 which is greater than alpha(0.05)\n",
    "So we are accepting Null Hypothesis: There is no significant difference in the diameter of the cutlet between two units(μ1=μ2)"
   ]
  },
  {
   "cell_type": "code",
   "execution_count": null,
   "id": "b3b98882",
   "metadata": {},
   "outputs": [],
   "source": []
  },
  {
   "cell_type": "markdown",
   "id": "9adfe5f6",
   "metadata": {},
   "source": [
    "# Question2"
   ]
  },
  {
   "attachments": {},
   "cell_type": "markdown",
   "id": "b6a16e24",
   "metadata": {},
   "source": [
    "A hospital wants to determine whether there is any difference in the average Turn Around Time (TAT) of reports of the laboratories on their preferred list. They collected a random sample and recorded TAT for reports of 4 laboratories. TAT is defined as sample collected to report dispatch.Analyze the data and determine whether there is any difference in average TAT among the different laboratories at 5% significance level."
   ]
  },
  {
   "attachments": {},
   "cell_type": "markdown",
   "id": "793ff1cb",
   "metadata": {},
   "source": [
    "Assumptions:\n",
    "Null Hypothesis: there is no difference in the average Turn Around Time (TAT) of reports of the laboratories(μ1=μ2=μ3=μ4)\n",
    "Alternate Hypothesis:Atleast one mean is different"
   ]
  },
  {
   "cell_type": "code",
   "execution_count": 12,
   "id": "0d211129",
   "metadata": {
    "ExecuteTime": {
     "end_time": "2022-12-06T15:16:23.973529Z",
     "start_time": "2022-12-06T15:16:23.969127Z"
    }
   },
   "outputs": [],
   "source": [
    "import pandas as pd\n",
    "import numpy as np\n",
    "import matplotlib.pyplot as plt\n",
    "import seaborn as sns"
   ]
  },
  {
   "cell_type": "code",
   "execution_count": 13,
   "id": "252ceac9",
   "metadata": {
    "ExecuteTime": {
     "end_time": "2022-12-06T15:16:25.586015Z",
     "start_time": "2022-12-06T15:16:25.565564Z"
    }
   },
   "outputs": [
    {
     "data": {
      "text/html": [
       "<div>\n",
       "<style scoped>\n",
       "    .dataframe tbody tr th:only-of-type {\n",
       "        vertical-align: middle;\n",
       "    }\n",
       "\n",
       "    .dataframe tbody tr th {\n",
       "        vertical-align: top;\n",
       "    }\n",
       "\n",
       "    .dataframe thead th {\n",
       "        text-align: right;\n",
       "    }\n",
       "</style>\n",
       "<table border=\"1\" class=\"dataframe\">\n",
       "  <thead>\n",
       "    <tr style=\"text-align: right;\">\n",
       "      <th></th>\n",
       "      <th>Laboratory 1</th>\n",
       "      <th>Laboratory 2</th>\n",
       "      <th>Laboratory 3</th>\n",
       "      <th>Laboratory 4</th>\n",
       "    </tr>\n",
       "  </thead>\n",
       "  <tbody>\n",
       "    <tr>\n",
       "      <th>0</th>\n",
       "      <td>185.35</td>\n",
       "      <td>165.53</td>\n",
       "      <td>176.70</td>\n",
       "      <td>166.13</td>\n",
       "    </tr>\n",
       "    <tr>\n",
       "      <th>1</th>\n",
       "      <td>170.49</td>\n",
       "      <td>185.91</td>\n",
       "      <td>198.45</td>\n",
       "      <td>160.79</td>\n",
       "    </tr>\n",
       "    <tr>\n",
       "      <th>2</th>\n",
       "      <td>192.77</td>\n",
       "      <td>194.92</td>\n",
       "      <td>201.23</td>\n",
       "      <td>185.18</td>\n",
       "    </tr>\n",
       "    <tr>\n",
       "      <th>3</th>\n",
       "      <td>177.33</td>\n",
       "      <td>183.00</td>\n",
       "      <td>199.61</td>\n",
       "      <td>176.42</td>\n",
       "    </tr>\n",
       "    <tr>\n",
       "      <th>4</th>\n",
       "      <td>193.41</td>\n",
       "      <td>169.57</td>\n",
       "      <td>204.63</td>\n",
       "      <td>152.60</td>\n",
       "    </tr>\n",
       "  </tbody>\n",
       "</table>\n",
       "</div>"
      ],
      "text/plain": [
       "   Laboratory 1  Laboratory 2  Laboratory 3  Laboratory 4\n",
       "0        185.35        165.53        176.70        166.13\n",
       "1        170.49        185.91        198.45        160.79\n",
       "2        192.77        194.92        201.23        185.18\n",
       "3        177.33        183.00        199.61        176.42\n",
       "4        193.41        169.57        204.63        152.60"
      ]
     },
     "execution_count": 13,
     "metadata": {},
     "output_type": "execute_result"
    }
   ],
   "source": [
    "#Read file\n",
    "df1 = pd.read_csv('LabTAT.csv')\n",
    "df1.head()"
   ]
  },
  {
   "cell_type": "code",
   "execution_count": 14,
   "id": "58ce3e57",
   "metadata": {
    "ExecuteTime": {
     "end_time": "2022-12-06T15:16:28.108976Z",
     "start_time": "2022-12-06T15:16:28.099094Z"
    }
   },
   "outputs": [
    {
     "data": {
      "text/plain": [
       "Laboratory 1    0\n",
       "Laboratory 2    0\n",
       "Laboratory 3    0\n",
       "Laboratory 4    0\n",
       "dtype: int64"
      ]
     },
     "execution_count": 14,
     "metadata": {},
     "output_type": "execute_result"
    }
   ],
   "source": [
    "df1.isnull().sum()"
   ]
  },
  {
   "cell_type": "code",
   "execution_count": 15,
   "id": "d7b1d990",
   "metadata": {
    "ExecuteTime": {
     "end_time": "2022-12-06T15:16:29.877066Z",
     "start_time": "2022-12-06T15:16:29.850485Z"
    }
   },
   "outputs": [
    {
     "data": {
      "text/html": [
       "<div>\n",
       "<style scoped>\n",
       "    .dataframe tbody tr th:only-of-type {\n",
       "        vertical-align: middle;\n",
       "    }\n",
       "\n",
       "    .dataframe tbody tr th {\n",
       "        vertical-align: top;\n",
       "    }\n",
       "\n",
       "    .dataframe thead th {\n",
       "        text-align: right;\n",
       "    }\n",
       "</style>\n",
       "<table border=\"1\" class=\"dataframe\">\n",
       "  <thead>\n",
       "    <tr style=\"text-align: right;\">\n",
       "      <th></th>\n",
       "      <th>Laboratory 1</th>\n",
       "      <th>Laboratory 2</th>\n",
       "      <th>Laboratory 3</th>\n",
       "      <th>Laboratory 4</th>\n",
       "    </tr>\n",
       "  </thead>\n",
       "  <tbody>\n",
       "    <tr>\n",
       "      <th>count</th>\n",
       "      <td>120.000000</td>\n",
       "      <td>120.000000</td>\n",
       "      <td>120.000000</td>\n",
       "      <td>120.00000</td>\n",
       "    </tr>\n",
       "    <tr>\n",
       "      <th>mean</th>\n",
       "      <td>178.361583</td>\n",
       "      <td>178.902917</td>\n",
       "      <td>199.913250</td>\n",
       "      <td>163.68275</td>\n",
       "    </tr>\n",
       "    <tr>\n",
       "      <th>std</th>\n",
       "      <td>13.173594</td>\n",
       "      <td>14.957114</td>\n",
       "      <td>16.539033</td>\n",
       "      <td>15.08508</td>\n",
       "    </tr>\n",
       "    <tr>\n",
       "      <th>min</th>\n",
       "      <td>138.300000</td>\n",
       "      <td>140.550000</td>\n",
       "      <td>159.690000</td>\n",
       "      <td>124.06000</td>\n",
       "    </tr>\n",
       "    <tr>\n",
       "      <th>25%</th>\n",
       "      <td>170.335000</td>\n",
       "      <td>168.025000</td>\n",
       "      <td>188.232500</td>\n",
       "      <td>154.05000</td>\n",
       "    </tr>\n",
       "    <tr>\n",
       "      <th>50%</th>\n",
       "      <td>178.530000</td>\n",
       "      <td>178.870000</td>\n",
       "      <td>199.805000</td>\n",
       "      <td>164.42500</td>\n",
       "    </tr>\n",
       "    <tr>\n",
       "      <th>75%</th>\n",
       "      <td>186.535000</td>\n",
       "      <td>189.112500</td>\n",
       "      <td>211.332500</td>\n",
       "      <td>172.88250</td>\n",
       "    </tr>\n",
       "    <tr>\n",
       "      <th>max</th>\n",
       "      <td>216.390000</td>\n",
       "      <td>217.860000</td>\n",
       "      <td>238.700000</td>\n",
       "      <td>205.18000</td>\n",
       "    </tr>\n",
       "  </tbody>\n",
       "</table>\n",
       "</div>"
      ],
      "text/plain": [
       "       Laboratory 1  Laboratory 2  Laboratory 3  Laboratory 4\n",
       "count    120.000000    120.000000    120.000000     120.00000\n",
       "mean     178.361583    178.902917    199.913250     163.68275\n",
       "std       13.173594     14.957114     16.539033      15.08508\n",
       "min      138.300000    140.550000    159.690000     124.06000\n",
       "25%      170.335000    168.025000    188.232500     154.05000\n",
       "50%      178.530000    178.870000    199.805000     164.42500\n",
       "75%      186.535000    189.112500    211.332500     172.88250\n",
       "max      216.390000    217.860000    238.700000     205.18000"
      ]
     },
     "execution_count": 15,
     "metadata": {},
     "output_type": "execute_result"
    }
   ],
   "source": [
    "df1.describe()"
   ]
  },
  {
   "cell_type": "code",
   "execution_count": 16,
   "id": "f16ad89d",
   "metadata": {
    "ExecuteTime": {
     "end_time": "2022-12-06T15:16:32.647187Z",
     "start_time": "2022-12-06T15:16:32.229073Z"
    }
   },
   "outputs": [
    {
     "data": {
      "image/png": "[encoded data removed]",
      "text/plain": [
       "<Figure size 648x432 with 4 Axes>"
      ]
     },
     "metadata": {
      "needs_background": "light"
     },
     "output_type": "display_data"
    }
   ],
   "source": [
    "plt.subplots(figsize=(9,6))\n",
    "plt.subplot(221)\n",
    "plt.hist(df1['Laboratory 1'])\n",
    "plt.title('Laboratory1')\n",
    "plt.subplot(222)\n",
    "plt.hist(df1['Laboratory 2'])\n",
    "plt.title('Laboratory2')\n",
    "plt.subplot(223)\n",
    "plt.hist(df1['Laboratory 3'])\n",
    "plt.title('Laboratory3')\n",
    "plt.subplot(224)\n",
    "plt.hist(df1['Laboratory 4'])\n",
    "plt.title('Laboratory4')\n",
    "plt.show()"
   ]
  },
  {
   "cell_type": "code",
   "execution_count": 17,
   "id": "15caf391",
   "metadata": {
    "ExecuteTime": {
     "end_time": "2022-12-06T15:16:38.177136Z",
     "start_time": "2022-12-06T15:16:37.906960Z"
    }
   },
   "outputs": [
    {
     "data": {
      "image/png": "[encoded data removed]",
      "text/plain": [
       "<Figure size 648x432 with 4 Axes>"
      ]
     },
     "metadata": {
      "needs_background": "light"
     },
     "output_type": "display_data"
    }
   ],
   "source": [
    "plt.subplots(figsize=(9,6))\n",
    "plt.subplot(221)\n",
    "plt.boxplot(df1['Laboratory 1'])\n",
    "plt.title('Laboratory1')\n",
    "plt.subplot(222)\n",
    "plt.boxplot(df1['Laboratory 2'])\n",
    "plt.title('Laboratory2')\n",
    "plt.subplot(223)\n",
    "plt.boxplot(df1['Laboratory 3'])\n",
    "plt.title('Laboratory3')\n",
    "plt.subplot(224)\n",
    "plt.boxplot(df1['Laboratory 4'])\n",
    "plt.title('Laboratory4')\n",
    "plt.show()"
   ]
  },
  {
   "cell_type": "code",
   "execution_count": 18,
   "id": "fc0d3e52",
   "metadata": {
    "ExecuteTime": {
     "end_time": "2022-12-06T15:17:54.244442Z",
     "start_time": "2022-12-06T15:17:53.023392Z"
    }
   },
   "outputs": [
    {
     "data": {
      "text/plain": [
       "<matplotlib.legend.Legend at 0x7fbe6eb65e50>"
      ]
     },
     "execution_count": 18,
     "metadata": {},
     "output_type": "execute_result"
    },
    {
     "data": {
      "image/png": "[encoded data removed]",
      "text/plain": [
       "<Figure size 648x432 with 1 Axes>"
      ]
     },
     "metadata": {
      "needs_background": "light"
     },
     "output_type": "display_data"
    }
   ],
   "source": [
    "import warnings\n",
    "warnings.filterwarnings('ignore')\n",
    "plt.figure(figsize=(9,6))\n",
    "sns.distplot(df1['Laboratory 1'])\n",
    "sns.distplot(df['Laboratory 2'])\n",
    "sns.distplot(df1['Laboratory 3'])\n",
    "sns.distplot(df1['Laboratory 4'])\n",
    "plt.legend(['Laboratory 1','Laboratory 2','Laboratory 3','Laboratory 4'])"
   ]
  },
  {
   "cell_type": "code",
   "execution_count": 22,
   "id": "f6a1c35b",
   "metadata": {
    "ExecuteTime": {
     "end_time": "2022-12-06T15:30:07.439571Z",
     "start_time": "2022-12-06T15:30:07.432339Z"
    }
   },
   "outputs": [
    {
     "data": {
      "text/plain": [
       "F_onewayResult(statistic=118.70421654401437, pvalue=2.1156708949992414e-57)"
      ]
     },
     "execution_count": 22,
     "metadata": {},
     "output_type": "execute_result"
    }
   ],
   "source": [
    "#Annova test statistic\n",
    "import scipy.stats as stats\n",
    "p_value1=stats.f_oneway(df1.iloc[:,0],df1.iloc[:,1],df1.iloc[:,2],df1.iloc[:,3])\n",
    "p_value1"
   ]
  },
  {
   "cell_type": "code",
   "execution_count": 25,
   "id": "81b0837b",
   "metadata": {
    "ExecuteTime": {
     "end_time": "2022-12-06T15:30:39.297915Z",
     "start_time": "2022-12-06T15:30:39.289810Z"
    }
   },
   "outputs": [
    {
     "data": {
      "text/plain": [
       "2.1156708949992414e-57"
      ]
     },
     "execution_count": 25,
     "metadata": {},
     "output_type": "execute_result"
    }
   ],
   "source": [
    "p1=p_value1[1]\n",
    "p1"
   ]
  },
  {
   "cell_type": "code",
   "execution_count": 26,
   "id": "fcab9e19",
   "metadata": {
    "ExecuteTime": {
     "end_time": "2022-12-06T15:31:32.116744Z",
     "start_time": "2022-12-06T15:31:32.101176Z"
    }
   },
   "outputs": [
    {
     "name": "stdout",
     "output_type": "stream",
     "text": [
      "Accept Alternative Hypothesis\n"
     ]
    }
   ],
   "source": [
    "if p1<0.05:\n",
    "    print(\"Accept Alternative Hypothesis\")\n",
    "else:\n",
    "     print(\"Accept Null Hypothesis\")"
   ]
  },
  {
   "cell_type": "markdown",
   "id": "92c792bf",
   "metadata": {},
   "source": [
    "Compare pvalue with significane value which is alpha = 0.05 if pvalue > alpha => Accept Null Hypothesis \n",
    "                                                            if pvalue < alpha => Accept Alternate Hypothesis"
   ]
  },
  {
   "attachments": {},
   "cell_type": "markdown",
   "id": "35ceab8f",
   "metadata": {},
   "source": [
    "Here pvalue is 2.1156708949992414e-57 which is lesser than alpha(0.05) So we are accepting Alternative Hypothesis: Atleast one mean is different i.e there is a difference in the average Turn Around Time (TAT) of reports of the laboratories"
   ]
  },
  {
   "cell_type": "code",
   "execution_count": null,
   "id": "cd24d3e5",
   "metadata": {},
   "outputs": [],
   "source": []
  },
  {
   "cell_type": "markdown",
   "id": "0fe3bdb6",
   "metadata": {},
   "source": [
    "# Question3"
   ]
  },
  {
   "attachments": {},
   "cell_type": "markdown",
   "id": "2bd408d3",
   "metadata": {},
   "source": [
    "Sales of products in four different regions is tabulated for males and females. Find if male-female buyer rations are similar across regions.\n"
   ]
  },
  {
   "attachments": {},
   "cell_type": "markdown",
   "id": "9fcaa632",
   "metadata": {},
   "source": [
    "Assumptions:\n",
    "Null Hypothesis:Independence of categorical variables(male-female buyer rations are similar across regions) \n",
    "Alternate Hypothesis: Dependence of categorical variables(male-female buyer rations are not similar across regions) "
   ]
  },
  {
   "cell_type": "code",
   "execution_count": 27,
   "id": "a5d9a3de",
   "metadata": {
    "ExecuteTime": {
     "end_time": "2022-12-06T16:28:32.642009Z",
     "start_time": "2022-12-06T16:28:32.633654Z"
    }
   },
   "outputs": [],
   "source": [
    "import pandas as pd\n",
    "import numpy as np"
   ]
  },
  {
   "cell_type": "code",
   "execution_count": 29,
   "id": "bf6e6bf1",
   "metadata": {
    "ExecuteTime": {
     "end_time": "2022-12-06T16:29:09.990297Z",
     "start_time": "2022-12-06T16:29:09.952683Z"
    }
   },
   "outputs": [
    {
     "data": {
      "text/html": [
       "<div>\n",
       "<style scoped>\n",
       "    .dataframe tbody tr th:only-of-type {\n",
       "        vertical-align: middle;\n",
       "    }\n",
       "\n",
       "    .dataframe tbody tr th {\n",
       "        vertical-align: top;\n",
       "    }\n",
       "\n",
       "    .dataframe thead th {\n",
       "        text-align: right;\n",
       "    }\n",
       "</style>\n",
       "<table border=\"1\" class=\"dataframe\">\n",
       "  <thead>\n",
       "    <tr style=\"text-align: right;\">\n",
       "      <th></th>\n",
       "      <th>Observed Values</th>\n",
       "      <th>East</th>\n",
       "      <th>West</th>\n",
       "      <th>North</th>\n",
       "      <th>South</th>\n",
       "    </tr>\n",
       "  </thead>\n",
       "  <tbody>\n",
       "    <tr>\n",
       "      <th>0</th>\n",
       "      <td>Males</td>\n",
       "      <td>50</td>\n",
       "      <td>142</td>\n",
       "      <td>131</td>\n",
       "      <td>70</td>\n",
       "    </tr>\n",
       "    <tr>\n",
       "      <th>1</th>\n",
       "      <td>Females</td>\n",
       "      <td>435</td>\n",
       "      <td>1523</td>\n",
       "      <td>1356</td>\n",
       "      <td>750</td>\n",
       "    </tr>\n",
       "  </tbody>\n",
       "</table>\n",
       "</div>"
      ],
      "text/plain": [
       "  Observed Values  East  West  North  South\n",
       "0           Males    50   142    131     70\n",
       "1         Females   435  1523   1356    750"
      ]
     },
     "execution_count": 29,
     "metadata": {},
     "output_type": "execute_result"
    }
   ],
   "source": [
    "#Read file\n",
    "df2 = pd.read_csv('BuyerRatio.csv')\n",
    "df2"
   ]
  },
  {
   "cell_type": "code",
   "execution_count": 30,
   "id": "dd908507",
   "metadata": {
    "ExecuteTime": {
     "end_time": "2022-12-06T16:31:25.609434Z",
     "start_time": "2022-12-06T16:31:25.602127Z"
    }
   },
   "outputs": [
    {
     "data": {
      "text/plain": [
       "[[50, 142, 131, 70], [435, 1523, 1356, 750]]"
      ]
     },
     "execution_count": 30,
     "metadata": {},
     "output_type": "execute_result"
    }
   ],
   "source": [
    "data = [[50,142,131,70],[435,1523,1356,750]]\n",
    "data"
   ]
  },
  {
   "cell_type": "code",
   "execution_count": 32,
   "id": "ad5fd646",
   "metadata": {
    "ExecuteTime": {
     "end_time": "2022-12-06T16:34:33.978243Z",
     "start_time": "2022-12-06T16:34:33.962474Z"
    }
   },
   "outputs": [
    {
     "data": {
      "text/plain": [
       "0.6603094907091882"
      ]
     },
     "execution_count": 32,
     "metadata": {},
     "output_type": "execute_result"
    }
   ],
   "source": [
    "from scipy.stats import chi2_contingency\n",
    "stat, p, dof, expected = chi2_contingency(data)\n",
    "p"
   ]
  },
  {
   "cell_type": "code",
   "execution_count": 33,
   "id": "e8364540",
   "metadata": {
    "ExecuteTime": {
     "end_time": "2022-12-06T16:35:43.131933Z",
     "start_time": "2022-12-06T16:35:43.120384Z"
    }
   },
   "outputs": [
    {
     "name": "stdout",
     "output_type": "stream",
     "text": [
      "p value is  0.6603094907091882\n",
      "Independent:Accept Null Hypothesis\n"
     ]
    }
   ],
   "source": [
    "alpha = 0.05\n",
    "print(\"p value is \",p)\n",
    "if p <= alpha:\n",
    "    print('Dependent:Accept Alternative Hypothesis')\n",
    "else:\n",
    "    print('Independent:Accept Null Hypothesis')"
   ]
  },
  {
   "cell_type": "code",
   "execution_count": null,
   "id": "80e586f0",
   "metadata": {},
   "outputs": [],
   "source": []
  },
  {
   "cell_type": "markdown",
   "id": "6934f5c4",
   "metadata": {},
   "source": [
    "# Question4"
   ]
  },
  {
   "attachments": {},
   "cell_type": "markdown",
   "id": "152ef178",
   "metadata": {},
   "source": [
    "TeleCall uses 4 centers around the globe to process customer order forms. They audit a certain %  of the customer order forms. Any error in order form renders it defective and has to be reworked before processing.  The manager wants to check whether the defective %  varies by centre. Please analyze the data at 5% significance level and help the manager draw appropriate inferences"
   ]
  },
  {
   "cell_type": "markdown",
   "id": "eca881cc",
   "metadata": {},
   "source": [
    "Assumptions:\n",
    "Null Hypothesis: Independence of categorical variables:The defective % does-not varies by centre\n",
    "Alternate Hypothesis:Dependence of categorical variables:The defective % varies by centre"
   ]
  },
  {
   "cell_type": "code",
   "execution_count": 34,
   "id": "811109a1",
   "metadata": {
    "ExecuteTime": {
     "end_time": "2022-12-06T16:46:09.783083Z",
     "start_time": "2022-12-06T16:46:09.779791Z"
    }
   },
   "outputs": [],
   "source": [
    "import pandas as pd\n",
    "import numpy as np"
   ]
  },
  {
   "cell_type": "code",
   "execution_count": 35,
   "id": "fb02a727",
   "metadata": {
    "ExecuteTime": {
     "end_time": "2022-12-06T16:46:31.272604Z",
     "start_time": "2022-12-06T16:46:31.253243Z"
    }
   },
   "outputs": [
    {
     "data": {
      "text/html": [
       "<div>\n",
       "<style scoped>\n",
       "    .dataframe tbody tr th:only-of-type {\n",
       "        vertical-align: middle;\n",
       "    }\n",
       "\n",
       "    .dataframe tbody tr th {\n",
       "        vertical-align: top;\n",
       "    }\n",
       "\n",
       "    .dataframe thead th {\n",
       "        text-align: right;\n",
       "    }\n",
       "</style>\n",
       "<table border=\"1\" class=\"dataframe\">\n",
       "  <thead>\n",
       "    <tr style=\"text-align: right;\">\n",
       "      <th></th>\n",
       "      <th>Phillippines</th>\n",
       "      <th>Indonesia</th>\n",
       "      <th>Malta</th>\n",
       "      <th>India</th>\n",
       "    </tr>\n",
       "  </thead>\n",
       "  <tbody>\n",
       "    <tr>\n",
       "      <th>0</th>\n",
       "      <td>Error Free</td>\n",
       "      <td>Error Free</td>\n",
       "      <td>Defective</td>\n",
       "      <td>Error Free</td>\n",
       "    </tr>\n",
       "    <tr>\n",
       "      <th>1</th>\n",
       "      <td>Error Free</td>\n",
       "      <td>Error Free</td>\n",
       "      <td>Error Free</td>\n",
       "      <td>Defective</td>\n",
       "    </tr>\n",
       "    <tr>\n",
       "      <th>2</th>\n",
       "      <td>Error Free</td>\n",
       "      <td>Defective</td>\n",
       "      <td>Defective</td>\n",
       "      <td>Error Free</td>\n",
       "    </tr>\n",
       "    <tr>\n",
       "      <th>3</th>\n",
       "      <td>Error Free</td>\n",
       "      <td>Error Free</td>\n",
       "      <td>Error Free</td>\n",
       "      <td>Error Free</td>\n",
       "    </tr>\n",
       "    <tr>\n",
       "      <th>4</th>\n",
       "      <td>Error Free</td>\n",
       "      <td>Error Free</td>\n",
       "      <td>Defective</td>\n",
       "      <td>Error Free</td>\n",
       "    </tr>\n",
       "    <tr>\n",
       "      <th>...</th>\n",
       "      <td>...</td>\n",
       "      <td>...</td>\n",
       "      <td>...</td>\n",
       "      <td>...</td>\n",
       "    </tr>\n",
       "    <tr>\n",
       "      <th>295</th>\n",
       "      <td>Error Free</td>\n",
       "      <td>Error Free</td>\n",
       "      <td>Error Free</td>\n",
       "      <td>Error Free</td>\n",
       "    </tr>\n",
       "    <tr>\n",
       "      <th>296</th>\n",
       "      <td>Error Free</td>\n",
       "      <td>Error Free</td>\n",
       "      <td>Error Free</td>\n",
       "      <td>Error Free</td>\n",
       "    </tr>\n",
       "    <tr>\n",
       "      <th>297</th>\n",
       "      <td>Error Free</td>\n",
       "      <td>Error Free</td>\n",
       "      <td>Defective</td>\n",
       "      <td>Error Free</td>\n",
       "    </tr>\n",
       "    <tr>\n",
       "      <th>298</th>\n",
       "      <td>Error Free</td>\n",
       "      <td>Error Free</td>\n",
       "      <td>Error Free</td>\n",
       "      <td>Error Free</td>\n",
       "    </tr>\n",
       "    <tr>\n",
       "      <th>299</th>\n",
       "      <td>Error Free</td>\n",
       "      <td>Defective</td>\n",
       "      <td>Defective</td>\n",
       "      <td>Error Free</td>\n",
       "    </tr>\n",
       "  </tbody>\n",
       "</table>\n",
       "<p>300 rows × 4 columns</p>\n",
       "</div>"
      ],
      "text/plain": [
       "    Phillippines   Indonesia       Malta       India\n",
       "0     Error Free  Error Free   Defective  Error Free\n",
       "1     Error Free  Error Free  Error Free   Defective\n",
       "2     Error Free   Defective   Defective  Error Free\n",
       "3     Error Free  Error Free  Error Free  Error Free\n",
       "4     Error Free  Error Free   Defective  Error Free\n",
       "..           ...         ...         ...         ...\n",
       "295   Error Free  Error Free  Error Free  Error Free\n",
       "296   Error Free  Error Free  Error Free  Error Free\n",
       "297   Error Free  Error Free   Defective  Error Free\n",
       "298   Error Free  Error Free  Error Free  Error Free\n",
       "299   Error Free   Defective   Defective  Error Free\n",
       "\n",
       "[300 rows x 4 columns]"
      ]
     },
     "execution_count": 35,
     "metadata": {},
     "output_type": "execute_result"
    }
   ],
   "source": [
    "#Read file\n",
    "df3 = pd.read_csv('Costomer+OrderForm.csv')\n",
    "df3"
   ]
  },
  {
   "cell_type": "code",
   "execution_count": 36,
   "id": "f7dfb63b",
   "metadata": {
    "ExecuteTime": {
     "end_time": "2022-12-06T16:46:50.210931Z",
     "start_time": "2022-12-06T16:46:50.195606Z"
    }
   },
   "outputs": [
    {
     "data": {
      "text/plain": [
       "Phillippines    0\n",
       "Indonesia       0\n",
       "Malta           0\n",
       "India           0\n",
       "dtype: int64"
      ]
     },
     "execution_count": 36,
     "metadata": {},
     "output_type": "execute_result"
    }
   ],
   "source": [
    "df3.isnull().sum()"
   ]
  },
  {
   "cell_type": "code",
   "execution_count": 42,
   "id": "8c024fde",
   "metadata": {
    "ExecuteTime": {
     "end_time": "2022-12-06T16:51:31.239778Z",
     "start_time": "2022-12-06T16:51:31.225025Z"
    }
   },
   "outputs": [
    {
     "data": {
      "text/html": [
       "<div>\n",
       "<style scoped>\n",
       "    .dataframe tbody tr th:only-of-type {\n",
       "        vertical-align: middle;\n",
       "    }\n",
       "\n",
       "    .dataframe tbody tr th {\n",
       "        vertical-align: top;\n",
       "    }\n",
       "\n",
       "    .dataframe thead th {\n",
       "        text-align: right;\n",
       "    }\n",
       "</style>\n",
       "<table border=\"1\" class=\"dataframe\">\n",
       "  <thead>\n",
       "    <tr style=\"text-align: right;\">\n",
       "      <th></th>\n",
       "      <th>Phillippines</th>\n",
       "      <th>Indonesia</th>\n",
       "      <th>Malta</th>\n",
       "      <th>India</th>\n",
       "    </tr>\n",
       "  </thead>\n",
       "  <tbody>\n",
       "    <tr>\n",
       "      <th>count</th>\n",
       "      <td>300</td>\n",
       "      <td>300</td>\n",
       "      <td>300</td>\n",
       "      <td>300</td>\n",
       "    </tr>\n",
       "    <tr>\n",
       "      <th>unique</th>\n",
       "      <td>2</td>\n",
       "      <td>2</td>\n",
       "      <td>2</td>\n",
       "      <td>2</td>\n",
       "    </tr>\n",
       "    <tr>\n",
       "      <th>top</th>\n",
       "      <td>Error Free</td>\n",
       "      <td>Error Free</td>\n",
       "      <td>Error Free</td>\n",
       "      <td>Error Free</td>\n",
       "    </tr>\n",
       "    <tr>\n",
       "      <th>freq</th>\n",
       "      <td>271</td>\n",
       "      <td>267</td>\n",
       "      <td>269</td>\n",
       "      <td>280</td>\n",
       "    </tr>\n",
       "  </tbody>\n",
       "</table>\n",
       "</div>"
      ],
      "text/plain": [
       "       Phillippines   Indonesia       Malta       India\n",
       "count           300         300         300         300\n",
       "unique            2           2           2           2\n",
       "top      Error Free  Error Free  Error Free  Error Free\n",
       "freq            271         267         269         280"
      ]
     },
     "execution_count": 42,
     "metadata": {},
     "output_type": "execute_result"
    }
   ],
   "source": [
    "df3.describe()"
   ]
  },
  {
   "cell_type": "code",
   "execution_count": 52,
   "id": "8f7654d7",
   "metadata": {
    "ExecuteTime": {
     "end_time": "2022-12-06T16:53:20.934491Z",
     "start_time": "2022-12-06T16:53:20.925393Z"
    }
   },
   "outputs": [
    {
     "name": "stdout",
     "output_type": "stream",
     "text": [
      "Error Free    271\n",
      "Defective      29\n",
      "Name: Phillippines, dtype: int64 \n",
      "\n",
      " Error Free    267\n",
      "Defective      33\n",
      "Name: Indonesia, dtype: int64 \n",
      "\n",
      " Error Free    269\n",
      "Defective      31\n",
      "Name: Malta, dtype: int64 \n",
      "\n",
      " Error Free    280\n",
      "Defective      20\n",
      "Name: India, dtype: int64\n"
     ]
    }
   ],
   "source": [
    "print(df3.Phillippines.value_counts(),'\\n\\n',df3.Indonesia.value_counts(),'\\n\\n',df3.Malta.value_counts(),'\\n\\n',df3.India.value_counts())"
   ]
  },
  {
   "cell_type": "code",
   "execution_count": 53,
   "id": "78c81305",
   "metadata": {
    "ExecuteTime": {
     "end_time": "2022-12-06T16:54:36.521671Z",
     "start_time": "2022-12-06T16:54:36.515246Z"
    }
   },
   "outputs": [
    {
     "data": {
      "text/plain": [
       "[[271, 267, 269, 280], [29, 33, 31, 20]]"
      ]
     },
     "execution_count": 53,
     "metadata": {},
     "output_type": "execute_result"
    }
   ],
   "source": [
    "table = [[271,267,269,280],[29,33,31,20]]\n",
    "table"
   ]
  },
  {
   "cell_type": "code",
   "execution_count": 54,
   "id": "80368451",
   "metadata": {
    "ExecuteTime": {
     "end_time": "2022-12-06T16:55:33.463145Z",
     "start_time": "2022-12-06T16:55:33.450437Z"
    }
   },
   "outputs": [
    {
     "data": {
      "text/plain": [
       "0.2771020991233135"
      ]
     },
     "execution_count": 54,
     "metadata": {},
     "output_type": "execute_result"
    }
   ],
   "source": [
    "from scipy.stats import chi2_contingency\n",
    "stat1, p2, dof1, expected1 = chi2_contingency(table)\n",
    "p2"
   ]
  },
  {
   "cell_type": "code",
   "execution_count": 56,
   "id": "2349cfb5",
   "metadata": {
    "ExecuteTime": {
     "end_time": "2022-12-06T16:56:01.879373Z",
     "start_time": "2022-12-06T16:56:01.873319Z"
    }
   },
   "outputs": [
    {
     "name": "stdout",
     "output_type": "stream",
     "text": [
      "p value is  0.2771020991233135\n",
      "Independent:Accept Null Hypothesis\n"
     ]
    }
   ],
   "source": [
    "alpha = 0.05\n",
    "print(\"p value is \",p2)\n",
    "if p2 <= alpha:\n",
    "    print('Dependent:Accept Alternative Hypothesis')\n",
    "else:\n",
    "    print('Independent:Accept Null Hypothesis')"
   ]
  },
  {
   "cell_type": "code",
   "execution_count": null,
   "id": "831d8724",
   "metadata": {},
   "outputs": [],
   "source": []
  }
 ],
 "metadata": {
  "kernelspec": {
   "display_name": "Python 3 (ipykernel)",
   "language": "python",
   "name": "python3"
  },
  "language_info": {
   "codemirror_mode": {
    "name": "ipython",
    "version": 3
   },
   "file_extension": ".py",
   "mimetype": "text/x-python",
   "name": "python",
   "nbconvert_exporter": "python",
   "pygments_lexer": "ipython3",
   "version": "3.9.12"
  }
 },
 "nbformat": 4,
 "nbformat_minor": 5
}
